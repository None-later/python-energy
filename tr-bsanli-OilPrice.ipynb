{
 "cells": [
  {
   "cell_type": "markdown",
   "metadata": {},
   "source": [
    "# Petrol fiyatları analizi- Aylık, Haftalık ve Günlük değişimlerin analizi\n",
    "\n",
    "### Baris Sanli barissanli2@gmail.com\n",
    "www.barissanli.com/python"
   ]
  },
  {
   "cell_type": "markdown",
   "metadata": {},
   "source": [
    "Petrol fiyatları genelde tahmin edilemez. Fakat petrol fiyat hareketlerinin tabii ki mevsimselliği var. Mesela Çin'in yeni yılı, Batı dünyasındaki resmi tatiller, ABD sürüş sezonu, rafinerilerin bakım sezonları... Veriye baktığımızda bunları görebilecek miyiz?\n",
    "\n",
    "Bu yazıda Python'a yeni başlayanlar için ABD Enerji Bilgi Dairesi EIA'dan Brent petrol fiyatının günlük verisini indirerek üzerinde işlemleri göstermeye çalışıyorum. \n",
    "\n",
    "Python öğrenmek R'a göre biraz daha zor. Kütüphaneler, kurallar... Ama Python, son 5 yıldaki BASIC dili gibi oldu. Yani biraz öğrenince, internette arama ile her derde deva bir reçete bulunabiliyor. Öğrenmek ise zaman alıyor. Unutmayalım, öğrenmek eğlenceli olsa herkes ders çalışırdı.....\n",
    "\n",
    "Bu yazıda:\n",
    "* Petrol fiyatlarını internetten indirecek,\n",
    "* Veri setindeki değişimlere bakacağız, biraz da filtrelemeye giriş\n",
    "* Gruplama ve pivot tablo komutları\n",
    "* Sonra da dönemsel verileri inceleyeceğiz\n",
    "\n",
    "Ben Python ve R için Jupyter tavsiye ediyorum. Bu dosyada zaten Jupyter Notebook ile yazıldı. Bir defa kurunca kullanımı kolay rahat. Windows/linux/mac için Anaconda indirmeniz yeterli. Bir komuttan sonra kırmızı renkli uyarı mesajı gelir ise onu internette aratın. Kütüphaneyi bulamadıysa, yeni terminal açıp\n",
    "**pip install kütüphane_ismi** yapmanız yeterli"
   ]
  },
  {
   "cell_type": "raw",
   "metadata": {},
   "source": [
    "## Veri"
   ]
  },
  {
   "cell_type": "markdown",
   "metadata": {},
   "source": [
    "Veriyi internetten indiriyoruz, ben bu dosyayı yazarken 8043 küsur nokta vardı. Veri dosyası güncellendikçe veri sayısı artar. \n",
    "\n",
    "EIA'in verileri webde Excel formatında buradan indirilebilir https://www.eia.gov/dnav/pet/hist_xls/RBRTEd.xls . 1987'den beri her gün petrol kapanış fiyatlarını içeriyor"
   ]
  },
  {
   "cell_type": "markdown",
   "metadata": {},
   "source": [
    "## Kütüphaneler"
   ]
  },
  {
   "cell_type": "markdown",
   "metadata": {},
   "source": [
    "Başlamadan önce, ben Python'da her uyarının ekrana gelmesini sevmiyorum. O yüzden uyarıları aşağıdaki komutla bastırıyorum"
   ]
  },
  {
   "cell_type": "code",
   "execution_count": 1,
   "metadata": {},
   "outputs": [],
   "source": [
    "# Supress warnings\n",
    "import warnings\n",
    "warnings.filterwarnings('ignore')"
   ]
  },
  {
   "cell_type": "markdown",
   "metadata": {},
   "source": [
    "Analiz için gerekli kütüphanelerden numpy(sayısal analiz) ve matplotlib(çizim) kütüphanelerini tek satır bir komutla **%pylab inline** ile dahil edebiliyoruz. "
   ]
  },
  {
   "cell_type": "code",
   "execution_count": 2,
   "metadata": {},
   "outputs": [
    {
     "name": "stdout",
     "output_type": "stream",
     "text": [
      "Populating the interactive namespace from numpy and matplotlib\n"
     ]
    }
   ],
   "source": [
    "# %pylab inline komutu ile numpy, matplotlib dahil edilir\n",
    "%pylab inline\n",
    "\n",
    "# veri düzenlemeleri için de Pandas'ı pd olarak alalım\n",
    "import pandas as pd"
   ]
  },
  {
   "cell_type": "markdown",
   "metadata": {},
   "source": [
    "## Veriye ilk bakış"
   ]
  },
  {
   "cell_type": "markdown",
   "metadata": {},
   "source": [
    "Tüm örnek boyunca tek bir veri kullanacağımdan, ana veriyi indirerek **prices** adlı bir değişkene yükleyeceğim. Bunun üzerinde değişiklikleri yaparsam, değişen halini başka değişkenlere yükleyeceğim. Internet bağlantısı var ise, dosyayı **read_excel** komutu ile indirebiliriz. Eğer kütüphaneyi bulamazsa **Terminal** açarak **_xlrd_** yani Excel dosyası okuma kütüphanesini kurabilirsiniz. Bilgisayarınıza otomatik kurar. Bunun için\n",
    "* Terminal/Konsol'a çıkıp xlrd kurmak için \"**pip install xlrd**\" yazıyoruz\n",
    "* Veri kaynak noktamı da **Brent_data** olarak tanımlıyorum"
   ]
  },
  {
   "cell_type": "code",
   "execution_count": 3,
   "metadata": {},
   "outputs": [],
   "source": [
    "Brent_data=\"https://www.eia.gov/dnav/pet/hist_xls/RBRTEd.xls\""
   ]
  },
  {
   "cell_type": "markdown",
   "metadata": {},
   "source": [
    "**read_excel** internetten dosyayı alarak Pandas'ın meşhur veri çerçevelerine çevirir. Fakat bir Excel dosyasının başında boş satırlar, sütünlar olabilir. Ayrıca veri birden çok alt sayfada da olabilir. Bu yüzden çalışma sayfası **\"Data 1\"**'de 2 satır atlayarak veri çekmeye başlıyoruz"
   ]
  },
  {
   "cell_type": "code",
   "execution_count": 4,
   "metadata": {},
   "outputs": [],
   "source": [
    "prices=pd.read_excel(\"https://www.eia.gov/dnav/pet/hist_xls/RBRTEd.xls\",sheet_name=\"Data 1\", skiprows=2)"
   ]
  },
  {
   "cell_type": "markdown",
   "metadata": {},
   "source": [
    "Verimizin kaç satır/sütun olduğunu **.shape** alt özelliği görebiliriz."
   ]
  },
  {
   "cell_type": "code",
   "execution_count": 5,
   "metadata": {},
   "outputs": [
    {
     "data": {
      "text/plain": [
       "(8048, 2)"
      ]
     },
     "execution_count": 5,
     "metadata": {},
     "output_type": "execute_result"
    }
   ],
   "source": [
    "prices.shape"
   ]
  },
  {
   "cell_type": "markdown",
   "metadata": {},
   "source": [
    "Verimizin 8048 satır ve 2 sütunu var. Python da (satır,sütun) şeklinde veri tanımları vardır. Şimdi verimizin baş ve son tarafına bakalım\n",
    "Sırasıyla **head** ve **tail** komutları ile verinin başını ve sonunu görebiliriz. İstersek baştaki ya da sondaki kaç satırı görmek istediğimizi de parantez içinde ekleyebiliriz."
   ]
  },
  {
   "cell_type": "code",
   "execution_count": 6,
   "metadata": {},
   "outputs": [
    {
     "data": {
      "text/html": [
       "<div>\n",
       "<style scoped>\n",
       "    .dataframe tbody tr th:only-of-type {\n",
       "        vertical-align: middle;\n",
       "    }\n",
       "\n",
       "    .dataframe tbody tr th {\n",
       "        vertical-align: top;\n",
       "    }\n",
       "\n",
       "    .dataframe thead th {\n",
       "        text-align: right;\n",
       "    }\n",
       "</style>\n",
       "<table border=\"1\" class=\"dataframe\">\n",
       "  <thead>\n",
       "    <tr style=\"text-align: right;\">\n",
       "      <th></th>\n",
       "      <th>Date</th>\n",
       "      <th>Europe Brent Spot Price FOB (Dollars per Barrel)</th>\n",
       "    </tr>\n",
       "  </thead>\n",
       "  <tbody>\n",
       "    <tr>\n",
       "      <th>0</th>\n",
       "      <td>1987-05-20</td>\n",
       "      <td>18.63</td>\n",
       "    </tr>\n",
       "    <tr>\n",
       "      <th>1</th>\n",
       "      <td>1987-05-21</td>\n",
       "      <td>18.45</td>\n",
       "    </tr>\n",
       "    <tr>\n",
       "      <th>2</th>\n",
       "      <td>1987-05-22</td>\n",
       "      <td>18.55</td>\n",
       "    </tr>\n",
       "    <tr>\n",
       "      <th>3</th>\n",
       "      <td>1987-05-25</td>\n",
       "      <td>18.60</td>\n",
       "    </tr>\n",
       "  </tbody>\n",
       "</table>\n",
       "</div>"
      ],
      "text/plain": [
       "        Date  Europe Brent Spot Price FOB (Dollars per Barrel)\n",
       "0 1987-05-20                                             18.63\n",
       "1 1987-05-21                                             18.45\n",
       "2 1987-05-22                                             18.55\n",
       "3 1987-05-25                                             18.60"
      ]
     },
     "execution_count": 6,
     "metadata": {},
     "output_type": "execute_result"
    }
   ],
   "source": [
    "#ilk 4 satır\n",
    "prices.head(4)"
   ]
  },
  {
   "cell_type": "code",
   "execution_count": 7,
   "metadata": {},
   "outputs": [
    {
     "data": {
      "text/html": [
       "<div>\n",
       "<style scoped>\n",
       "    .dataframe tbody tr th:only-of-type {\n",
       "        vertical-align: middle;\n",
       "    }\n",
       "\n",
       "    .dataframe tbody tr th {\n",
       "        vertical-align: top;\n",
       "    }\n",
       "\n",
       "    .dataframe thead th {\n",
       "        text-align: right;\n",
       "    }\n",
       "</style>\n",
       "<table border=\"1\" class=\"dataframe\">\n",
       "  <thead>\n",
       "    <tr style=\"text-align: right;\">\n",
       "      <th></th>\n",
       "      <th>Date</th>\n",
       "      <th>Europe Brent Spot Price FOB (Dollars per Barrel)</th>\n",
       "    </tr>\n",
       "  </thead>\n",
       "  <tbody>\n",
       "    <tr>\n",
       "      <th>8045</th>\n",
       "      <td>2019-01-31</td>\n",
       "      <td>62.46</td>\n",
       "    </tr>\n",
       "    <tr>\n",
       "      <th>8046</th>\n",
       "      <td>2019-02-01</td>\n",
       "      <td>61.86</td>\n",
       "    </tr>\n",
       "    <tr>\n",
       "      <th>8047</th>\n",
       "      <td>2019-02-04</td>\n",
       "      <td>62.26</td>\n",
       "    </tr>\n",
       "  </tbody>\n",
       "</table>\n",
       "</div>"
      ],
      "text/plain": [
       "           Date  Europe Brent Spot Price FOB (Dollars per Barrel)\n",
       "8045 2019-01-31                                             62.46\n",
       "8046 2019-02-01                                             61.86\n",
       "8047 2019-02-04                                             62.26"
      ]
     },
     "execution_count": 7,
     "metadata": {},
     "output_type": "execute_result"
    }
   ],
   "source": [
    "# son 3 satır\n",
    "prices.tail(3)"
   ]
  },
  {
   "cell_type": "markdown",
   "metadata": {},
   "source": [
    "And let's see the column titles with list command"
   ]
  },
  {
   "cell_type": "code",
   "execution_count": 8,
   "metadata": {},
   "outputs": [
    {
     "data": {
      "text/plain": [
       "['Date', 'Europe Brent Spot Price FOB (Dollars per Barrel)']"
      ]
     },
     "execution_count": 8,
     "metadata": {},
     "output_type": "execute_result"
    }
   ],
   "source": [
    "list(prices)"
   ]
  },
  {
   "cell_type": "markdown",
   "metadata": {},
   "source": [
    "## Çizim"
   ]
  },
  {
   "cell_type": "markdown",
   "metadata": {},
   "source": [
    "**%pylab inline** komutu kullandığımızdan **plot** yazarak doğrudan veriyi görebiliriz.\n",
    "\n",
    "**_UYARI: %pylab inline komutunu baştaki gibi çalıştırmadıysanız, ne plot'u bulabilir ne de çizim yapar._**\n",
    "\n",
    "Veri setimizdeki alt verileri görmek için **prices['** yazdıktan sonra TAB'a basmamız yeterli, Jupyter de otomatik tamamlama özelliği var . Ben mesela **Europe** yazıp TAB'a basınca alt veri geliyor"
   ]
  },
  {
   "cell_type": "code",
   "execution_count": 9,
   "metadata": {},
   "outputs": [
    {
     "data": {
      "text/plain": [
       "[<matplotlib.lines.Line2D at 0x7f37846d86d8>]"
      ]
     },
     "execution_count": 9,
     "metadata": {},
     "output_type": "execute_result"
    },
    {
     "data": {
      "image/png": "[encoded data removed]",
      "text/plain": [
       "<Figure size 432x288 with 1 Axes>"
      ]
     },
     "metadata": {
      "needs_background": "light"
     },
     "output_type": "display_data"
    }
   ],
   "source": [
    "plot(prices['Europe Brent Spot Price FOB (Dollars per Barrel)'])"
   ]
  },
  {
   "cell_type": "markdown",
   "metadata": {},
   "source": [
    "## Histogram\n",
    "\n",
    "Histogram veri setimizin nasıl dağıldığını gösterir ve sadece **hist** komutu ile çağrılır. Verimizin normal mi dağıldığı, şişman kuyruklar (yani uç olaylar) histogram ile görülebilir.\n",
    "\n",
    "Şimdi petrol fiyatlarının dağılımını görelim\n",
    " \n"
   ]
  },
  {
   "cell_type": "code",
   "execution_count": 10,
   "metadata": {},
   "outputs": [
    {
     "data": {
      "text/plain": [
       "(array([3052., 1314.,  644.,  818.,  696.,  353.,  268.,  726.,  149.,\n",
       "          28.]),\n",
       " array([  9.1  ,  22.585,  36.07 ,  49.555,  63.04 ,  76.525,  90.01 ,\n",
       "        103.495, 116.98 , 130.465, 143.95 ]),\n",
       " <a list of 10 Patch objects>)"
      ]
     },
     "execution_count": 10,
     "metadata": {},
     "output_type": "execute_result"
    },
    {
     "data": {
      "image/png": "[encoded data removed]",
      "text/plain": [
       "<Figure size 432x288 with 1 Axes>"
      ]
     },
     "metadata": {
      "needs_background": "light"
     },
     "output_type": "display_data"
    }
   ],
   "source": [
    "hist(prices['Europe Brent Spot Price FOB (Dollars per Barrel)'])"
   ]
  },
  {
   "cell_type": "markdown",
   "metadata": {},
   "source": [
    "Grafikten sonra gelen yazılar can sıkıcı ise **.;** kullanarak bunları engelleyebilirsiniz. **hist** komutunda *_bins_* parametresi ile de çözünürlüğü arttırabilirsiniz. Yukarıda veri setini 10 kategori(bin) de değerlendirirken, şimdi 100 kategori de grafiği isteyelim"
   ]
  },
  {
   "cell_type": "code",
   "execution_count": 11,
   "metadata": {},
   "outputs": [
    {
     "data": {
      "image/png": "[encoded data removed]",
      "text/plain": [
       "<Figure size 432x288 with 1 Axes>"
      ]
     },
     "metadata": {
      "needs_background": "light"
     },
     "output_type": "display_data"
    }
   ],
   "source": [
    "hist(prices['Europe Brent Spot Price FOB (Dollars per Barrel)'], bins=100);"
   ]
  },
  {
   "cell_type": "markdown",
   "metadata": {},
   "source": [
    "Farkı gördünüz değil mi? **_bins=100_** ile çok daha yüksek çözünürlüklü bir veri dağılımı görüntüsüne sahip olduk.\n",
    "\n",
    "Gerçekte petrol fiyatları hep 20\\$ etrafındaymış gibi bir görüntü var. Tüm veri seti için bu doğru olabilir. Fakat petrol fiyatlarında önemli olan yüzde değişimlerdir.\n",
    "\n",
    "Asıl bakmamız gereken % değişimlerin dağılımıdır. Bunun için python'da Pandas kütüphanesinde yüzde değişim komutu var. **_.pct\\__change()_**. \n",
    "\n",
    "Veri setini seçip sonra **_.pct\\__change()_** yazınca otomatik olarak % değişimleri hesaplıyor"
   ]
  },
  {
   "cell_type": "code",
   "execution_count": 12,
   "metadata": {},
   "outputs": [
    {
     "data": {
      "image/png": "[encoded data removed]",
      "text/plain": [
       "<Figure size 432x288 with 1 Axes>"
      ]
     },
     "metadata": {
      "needs_background": "light"
     },
     "output_type": "display_data"
    }
   ],
   "source": [
    "hist(prices['Europe Brent Spot Price FOB (Dollars per Barrel)'].pct_change(), bins=100 );"
   ]
  },
  {
   "cell_type": "markdown",
   "metadata": {},
   "source": [
    "Petrol fiyatları görüldüğü gibi çok dağınık bir dağılım sergilemiyor. Hatta diyebiliriz ki hiç değişmemeye yakın. Fakat daha yakın bakmamız lazım.\n",
    "\n",
    "Bir söz vardır, yarın için en iyi petrol fiyat tahmini bugün ki fiyatı söylemektir. Bakalım ne kadar doğru"
   ]
  },
  {
   "cell_type": "markdown",
   "metadata": {},
   "source": [
    "## Yakın Plan"
   ]
  },
  {
   "cell_type": "markdown",
   "metadata": {},
   "source": [
    "**hist** komutu otomatik olarak sınırları kendi belirliyor. Yukarıdaki grafiğe bakınca %30(-0.3)lere kadar negatif, %20 (0.2)lere kadar pozitif değişkenler görüldüğü söylenebilir. Göz ucuyla bakınca, veri setinin önemli kısmı %5 ile %-5 arasında dağılıyor gibi gözükmektedir.\n",
    "\n",
    "% değişimleri **pct_change()** ile hesaplattıktan sonra, bu hesaplanan verileri **pc** değişkenine atayalım, sonra geri kalan işlemleri **pc** ile yaparız."
   ]
  },
  {
   "cell_type": "code",
   "execution_count": 13,
   "metadata": {},
   "outputs": [
    {
     "data": {
      "image/png": "[encoded data removed]",
      "text/plain": [
       "<Figure size 432x288 with 1 Axes>"
      ]
     },
     "metadata": {
      "needs_background": "light"
     },
     "output_type": "display_data"
    }
   ],
   "source": [
    "pc=prices['Europe Brent Spot Price FOB (Dollars per Barrel)'].pct_change()\n",
    "hist(pc, bins=100);"
   ]
  },
  {
   "cell_type": "markdown",
   "metadata": {},
   "source": [
    "## Veriyi filtrelemek\n",
    "\n",
    "Yukarıdaki grafik daha detay bakış için kaba. Özellikle %1 ve %-1 arasındaki veriyi görmek isteyebilirim.\n",
    "Bu iki şekilde olur.  \n",
    "* Veriyi filtreler, hist ile çizdiririm\n",
    "* Ya da hist komutuna bir **range=** parametresi verebilirim\n",
    "\n",
    "Önce filtreleme ile başlayalım.\n",
    "\n",
    "Normalde tüm verilerimiz **pc**'de. Yani yüzde değişim. Eğer\n",
    "* pc>0.01\n",
    "yazarsam, **pc** verisetinde hücre değerlerinin 0.01'in üzerinde olduğu tüm hücreleri doğru/yanlış yani **True** ve **False** olarak verir. Bu değerleri tekrar **pc** veri setine girersek de, doğru yani **True** olan hücre değerlerini alırız\n",
    "\n",
    "Şimdi ilk adımla başlayalım... Yer kazanmak adına daima  **head(5)** komutu ile verisetinin sadece başına bakıyorum.\n",
    "Adım 1. %1 yani 0.01'den yüksek değerleri hücrelerin yerini saptayalım\n"
   ]
  },
  {
   "cell_type": "code",
   "execution_count": 14,
   "metadata": {},
   "outputs": [
    {
     "data": {
      "text/plain": [
       "0    False\n",
       "1    False\n",
       "2    False\n",
       "3    False\n",
       "4    False\n",
       "Name: Europe Brent Spot Price FOB (Dollars per Barrel), dtype: bool"
      ]
     },
     "execution_count": 14,
     "metadata": {},
     "output_type": "execute_result"
    }
   ],
   "source": [
    "(pc>0.01 ).head(5)"
   ]
  },
  {
   "cell_type": "markdown",
   "metadata": {},
   "source": [
    "Şimdi bu doğru/yanlış verilerini veri setine girerek 0.01 den büyük hücre değerlerini ve en başta satır değerlerini elde edelim."
   ]
  },
  {
   "cell_type": "code",
   "execution_count": 15,
   "metadata": {},
   "outputs": [
    {
     "data": {
      "text/plain": [
       "26    0.020321\n",
       "30    0.014226\n",
       "35    0.010267\n",
       "39    0.020121\n",
       "41    0.011275\n",
       "Name: Europe Brent Spot Price FOB (Dollars per Barrel), dtype: float64"
      ]
     },
     "execution_count": 15,
     "metadata": {},
     "output_type": "execute_result"
    }
   ],
   "source": [
    "pc[pc>0.01].head(5)"
   ]
  },
  {
   "cell_type": "markdown",
   "metadata": {},
   "source": [
    "Aynı zamanda birden çok koşulu mantıksal operatörler (& ve diğerleri ile) birleştirebiliriz. \n",
    "\n",
    "Mesela %1'den düşük ve %-1'den küçük değerlere(negatif değerlerde büyüklük-küçüklük ters) sahip hücreleri belirlemek için:\n",
    "\n",
    "**_(pc<0.01) & (pc>-0.01)_**\n"
   ]
  },
  {
   "cell_type": "code",
   "execution_count": 16,
   "metadata": {},
   "outputs": [
    {
     "data": {
      "text/plain": [
       "1   -0.009662\n",
       "2    0.005420\n",
       "3    0.002695\n",
       "Name: Europe Brent Spot Price FOB (Dollars per Barrel), dtype: float64"
      ]
     },
     "execution_count": 16,
     "metadata": {},
     "output_type": "execute_result"
    }
   ],
   "source": [
    "pc[(pc<0.01) & (pc>-0.01)].head(3)"
   ]
  },
  {
   "cell_type": "markdown",
   "metadata": {},
   "source": [
    "Şimdi %1 ve %-1 arasındaki hücrelerin dağılımını çizdirelim"
   ]
  },
  {
   "cell_type": "code",
   "execution_count": 17,
   "metadata": {},
   "outputs": [
    {
     "data": {
      "image/png": "[encoded data removed]",
      "text/plain": [
       "<Figure size 432x288 with 1 Axes>"
      ]
     },
     "metadata": {
      "needs_background": "light"
     },
     "output_type": "display_data"
    }
   ],
   "source": [
    "hist(pc[(pc<0.01) & (pc>-0.01)], bins=100);"
   ]
  },
  {
   "cell_type": "markdown",
   "metadata": {},
   "source": [
    "Çok garip görünüyor, bir de %5 ve %-5 arasındaki verilere bakalım"
   ]
  },
  {
   "cell_type": "code",
   "execution_count": 18,
   "metadata": {},
   "outputs": [
    {
     "data": {
      "image/png": "[encoded data removed]",
      "text/plain": [
       "<Figure size 432x288 with 1 Axes>"
      ]
     },
     "metadata": {
      "needs_background": "light"
     },
     "output_type": "display_data"
    }
   ],
   "source": [
    "hist(pc[(pc<0.05) & (pc>-0.05)], bins=100);"
   ]
  },
  {
   "cell_type": "markdown",
   "metadata": {},
   "source": [
    "Tüm bunun daha kolay bir yöntemi var, tüm veri setini alıp, **hist** komutuna \n",
    "**range= (-0.05, 0.05)** parametresi girerek histogramın %5 ve %-5 arasındaki grafiğini görebiliriz"
   ]
  },
  {
   "cell_type": "code",
   "execution_count": 19,
   "metadata": {},
   "outputs": [
    {
     "data": {
      "image/png": "[encoded data removed]",
      "text/plain": [
       "<Figure size 432x288 with 1 Axes>"
      ]
     },
     "metadata": {
      "needs_background": "light"
     },
     "output_type": "display_data"
    }
   ],
   "source": [
    "hist(pc, bins=100, range=(-0.05,0.05));"
   ]
  },
  {
   "cell_type": "markdown",
   "metadata": {},
   "source": [
    "## Dağılımın uç değerlerini görmek"
   ]
  },
  {
   "cell_type": "markdown",
   "metadata": {},
   "source": [
    "Şimdi de, tüm seride, %1 ve %-1 arasındaki verilerin miktarını görmek isteyebiliriz. Bunun için ise **.count** komutunu kullanabiliriz. \n"
   ]
  },
  {
   "cell_type": "code",
   "execution_count": 20,
   "metadata": {},
   "outputs": [
    {
     "data": {
      "text/plain": [
       "(8048,)"
      ]
     },
     "execution_count": 20,
     "metadata": {},
     "output_type": "execute_result"
    }
   ],
   "source": [
    "# Orjinal verinin yapısı\n",
    "pc.shape"
   ]
  },
  {
   "cell_type": "markdown",
   "metadata": {},
   "source": [
    "**shape** genelde 2li bir veri döndürür. İçindeki veriyi almak için [0] veya [1] ile satır-sütun verisini çekebiliriz. Unutmayın Python'da (satır, sütun)"
   ]
  },
  {
   "cell_type": "code",
   "execution_count": 21,
   "metadata": {},
   "outputs": [
    {
     "data": {
      "text/plain": [
       "8048"
      ]
     },
     "execution_count": 21,
     "metadata": {},
     "output_type": "execute_result"
    }
   ],
   "source": [
    "pc.shape[0]"
   ]
  },
  {
   "cell_type": "markdown",
   "metadata": {},
   "source": [
    "Verimizde bu yazının yazıldığı tarihte 8048 satır vardı. Daha sonra çalıştırıldığında bu satır sayısı artacaktır. Çünkü yeni petrol kapanış fiyatları eklenmeye devam ediyor, Excel dosyası EIA tarafından güncelleniyor."
   ]
  },
  {
   "cell_type": "code",
   "execution_count": 22,
   "metadata": {},
   "outputs": [
    {
     "data": {
      "text/plain": [
       "8047"
      ]
     },
     "execution_count": 22,
     "metadata": {},
     "output_type": "execute_result"
    }
   ],
   "source": [
    "pc.count()"
   ]
  },
  {
   "cell_type": "markdown",
   "metadata": {},
   "source": [
    "***Uyarı***\n",
    "shape ile sorduğumuzda 8048 satır vardı, count ile sorduğumuzda 8047 satır olduğu söylendi. Sorun şu, count() NA veri noktalarını yani olmayan verileri saymaz. \n",
    "\n",
    "Olasılıkları hesaplarken iki yöntemi de göstermeye çalışacağım\n",
    "\n",
    "\n",
    "%1 ile %-1 arasındaki verilerin oranı = (%1 ve %-1 arasındaki veri sayısı) / (toplam veri sayısı)\n",
    "\n",
    "Başlayalım"
   ]
  },
  {
   "cell_type": "code",
   "execution_count": 23,
   "metadata": {},
   "outputs": [
    {
     "data": {
      "text/plain": [
       "0.44719184890656066"
      ]
     },
     "execution_count": 23,
     "metadata": {},
     "output_type": "execute_result"
    }
   ],
   "source": [
    "# For 1% \n",
    "pc[(0.01>pc) & (-0.01<pc)].shape[0]/pc.shape[0]"
   ]
  },
  {
   "cell_type": "markdown",
   "metadata": {},
   "source": [
    "Peki %5 ile %-5 arasındaki veri sayısı"
   ]
  },
  {
   "cell_type": "code",
   "execution_count": 24,
   "metadata": {},
   "outputs": [
    {
     "data": {
      "text/plain": [
       "7770"
      ]
     },
     "execution_count": 24,
     "metadata": {},
     "output_type": "execute_result"
    }
   ],
   "source": [
    "pc[(0.05>pc) & (-0.05<pc)].shape[0]"
   ]
  },
  {
   "cell_type": "markdown",
   "metadata": {},
   "source": [
    "Eğer %5 ila %-5 arasında değişimlerin sayısı 7770 ise, %5 ila %-5 arasındaki değişimlerin tüm değişimlere oranı 7770/8048 olacaktır"
   ]
  },
  {
   "cell_type": "code",
   "execution_count": 25,
   "metadata": {},
   "outputs": [
    {
     "data": {
      "text/plain": [
       "0.9654572564612326"
      ]
     },
     "execution_count": 25,
     "metadata": {},
     "output_type": "execute_result"
    }
   ],
   "source": [
    "7770/8048"
   ]
  },
  {
   "cell_type": "markdown",
   "metadata": {},
   "source": [
    "Şimdi bunları sıra ile hesaplayarak notlara yazdırabiliriz"
   ]
  },
  {
   "cell_type": "code",
   "execution_count": 26,
   "metadata": {},
   "outputs": [
    {
     "name": "stdout",
     "output_type": "stream",
     "text": [
      "1% ile -1% arasındaki günlük petrol fiyat değişimlerinin oranı   44.71918489065607\n",
      "5% ile -5%  arasındaki günlük petrol fiyat değişimlerinin oranı  96.54572564612326\n",
      "5%'ün üzerindeki günlük petrol fiyat değişimlerinin oranı  1.9880715705765408\n",
      "-5%ten daha küçük günlük petrol fiyat değişimlerinin oranı 1.4537773359840955\n"
     ]
    }
   ],
   "source": [
    "print(\"1% ile -1% arasındaki günlük petrol fiyat değişimlerinin oranı  \", (100*pc[(0.01>pc) & (-0.01<pc)].shape[0]/pc.shape[0]))\n",
    "print(\"5% ile -5%  arasındaki günlük petrol fiyat değişimlerinin oranı \" ,(100*pc[(0.05>pc) & (-0.05<pc)].shape[0]/pc.shape[0]))\n",
    "print(\"5%'ün üzerindeki günlük petrol fiyat değişimlerinin oranı \" , (100*(pc[(0.05<pc)].shape[0])/pc.shape[0]))\n",
    "print(\"-5%ten daha küçük günlük petrol fiyat değişimlerinin oranı\" ,  (100*pc[(-0.05>pc)].shape[0]/pc.shape[0]))"
   ]
  },
  {
   "cell_type": "markdown",
   "metadata": {},
   "source": [
    "Gördüğünüz gibi bir sürü sayılar sayılar. Print komutu ile formatlama da yaparak daha güzel sayı dizilimleri elde edebiliriz.\n",
    "\n",
    "Fakat bazı dikkat edilmesi gereken noktalar var. Eğer formatlama sistemi kullanıyorsanız, tırnak içindeki gerçek % işaretleri %% (iki) şeklinde yazılmalı, aksi halde hata verir. Buraları da formatlayacağını zanneder.\n",
    "\n",
    "Sırayla yapılacaklar:\n",
    "\n",
    "1. **Tüm '%'(cümle içinde yüzde için kullanılan) işaretlerini '%%'** çevirin ki Python bunları da formatlamaya kalkmasın\n",
    "2. Tırnak bittikten sonra sayı vs eklemek için virgül (,) yerine *%* kullanın\n",
    "3. Sayıların cümle içinde geleceği yere **'%.2f'** (yani noktadan sonra 2 ondalık ) kullanın"
   ]
  },
  {
   "cell_type": "code",
   "execution_count": 27,
   "metadata": {},
   "outputs": [
    {
     "name": "stdout",
     "output_type": "stream",
     "text": [
      "1% ile -1% arasındaki günlük petrol fiyat değişimlerinin oranı 44.72%\n",
      "5% ile -5%  arasındaki günlük petrol fiyat değişimlerinin oranı 96.55%\n",
      "5%'ün üzerindeki günlük petrol fiyat değişimlerinin oranı 1.99%\n",
      "-5%ten daha küçük günlük petrol fiyat değişimlerinin oranı 1.45%\n"
     ]
    }
   ],
   "source": [
    "print(\"1%% ile -1%% arasındaki günlük petrol fiyat değişimlerinin oranı %.2f%%\" % (100*pc[(0.01>pc) & (-0.01<pc)].shape[0]/pc.shape[0]))\n",
    "print(\"5%% ile -5%%  arasındaki günlük petrol fiyat değişimlerinin oranı %.2f%%\" % (100*pc[(0.05>pc) & (-0.05<pc)].shape[0]/pc.shape[0]))\n",
    "print(\"5%%'ün üzerindeki günlük petrol fiyat değişimlerinin oranı %.2f%%\" % (100*(pc[(0.05<pc)].shape[0])/pc.shape[0]))\n",
    "print(\"-5%%ten daha küçük günlük petrol fiyat değişimlerinin oranı %.2f%%\" % (100*pc[(-0.05>pc)].shape[0]/pc.shape[0]))"
   ]
  },
  {
   "cell_type": "markdown",
   "metadata": {},
   "source": [
    "## Uç değerler - Minimum, Maksimum değerler ve yerleri"
   ]
  },
  {
   "cell_type": "markdown",
   "metadata": {},
   "source": [
    "Şimdi uç değerleri inceleyelim. Öncelikle en uç değerlerin olduğu, dağılım eğrisinin şişman uçlarını görmeye çalışalım.\n",
    "\n",
    "Öncelikle en büyük fiyat düşüşlerine bakalım. Yani %-5 ile %-31 arasındaki değerleri görelim. Bunun için **hist** komutuna **range=** parametresi girmek yeterli"
   ]
  },
  {
   "cell_type": "code",
   "execution_count": 28,
   "metadata": {},
   "outputs": [
    {
     "data": {
      "image/png": "[encoded data removed]",
      "text/plain": [
       "<Figure size 432x288 with 1 Axes>"
      ]
     },
     "metadata": {
      "needs_background": "light"
     },
     "output_type": "display_data"
    }
   ],
   "source": [
    "hist(pc, bins=100, range=(-0.31,-0.05));"
   ]
  },
  {
   "cell_type": "markdown",
   "metadata": {},
   "source": [
    "Ama en düşük değer tam olarak kaç? Bunun için **min** komutunu kullanıyoruz"
   ]
  },
  {
   "cell_type": "code",
   "execution_count": 29,
   "metadata": {},
   "outputs": [
    {
     "data": {
      "text/plain": [
       "-0.30317040951122853"
      ]
     },
     "execution_count": 29,
     "metadata": {},
     "output_type": "execute_result"
    }
   ],
   "source": [
    "pc.min()"
   ]
  },
  {
   "cell_type": "markdown",
   "metadata": {},
   "source": [
    "Bir gündeki en büyük fiyat düşüşü **-30%**. Peki bu hangi gün oldu? Önce kaçıncı satırda minimum değerin gerçekleştiğini görelim, komutumuz **idxmax()**"
   ]
  },
  {
   "cell_type": "code",
   "execution_count": 30,
   "metadata": {},
   "outputs": [
    {
     "data": {
      "text/plain": [
       "936"
      ]
     },
     "execution_count": 30,
     "metadata": {},
     "output_type": "execute_result"
    }
   ],
   "source": [
    "pc.idxmin()"
   ]
  },
  {
   "cell_type": "markdown",
   "metadata": {},
   "source": [
    "936. satırda en küçük değer oluşmuş. Fakat gerçek fiyat değişkenleri değil değişimleri üzerinde çalıştığımızdan 936.satır için orjinal verideki satırları sorgulayacağız.\n",
    "\n",
    "Orjinal verimiz **prices** dı, yüzde değişimler **pc** \n",
    "\n",
    "Belirli bir satırdaki değere ulaşmak için kullanacağımız komut **iloc** . Örneğin **veri.iloc[satır, sütun]** gibi.Ben aslında tam 936'yı değil etrafındaki satırları da görmek isterim. \n",
    "\n",
    "Bunun için iki yolumuz var:\n",
    "1. Veri lokasyonunu bir dizi şeklinde istemek **[935,936,937]**\n",
    "2. Yada **range** komutu ile o satırları isteyebiliriz. **range(935,938)**"
   ]
  },
  {
   "cell_type": "code",
   "execution_count": 31,
   "metadata": {},
   "outputs": [
    {
     "data": {
      "text/html": [
       "<div>\n",
       "<style scoped>\n",
       "    .dataframe tbody tr th:only-of-type {\n",
       "        vertical-align: middle;\n",
       "    }\n",
       "\n",
       "    .dataframe tbody tr th {\n",
       "        vertical-align: top;\n",
       "    }\n",
       "\n",
       "    .dataframe thead th {\n",
       "        text-align: right;\n",
       "    }\n",
       "</style>\n",
       "<table border=\"1\" class=\"dataframe\">\n",
       "  <thead>\n",
       "    <tr style=\"text-align: right;\">\n",
       "      <th></th>\n",
       "      <th>Date</th>\n",
       "      <th>Europe Brent Spot Price FOB (Dollars per Barrel)</th>\n",
       "    </tr>\n",
       "  </thead>\n",
       "  <tbody>\n",
       "    <tr>\n",
       "      <th>935</th>\n",
       "      <td>1991-01-16</td>\n",
       "      <td>30.28</td>\n",
       "    </tr>\n",
       "    <tr>\n",
       "      <th>936</th>\n",
       "      <td>1991-01-17</td>\n",
       "      <td>21.10</td>\n",
       "    </tr>\n",
       "    <tr>\n",
       "      <th>937</th>\n",
       "      <td>1991-01-18</td>\n",
       "      <td>19.10</td>\n",
       "    </tr>\n",
       "  </tbody>\n",
       "</table>\n",
       "</div>"
      ],
      "text/plain": [
       "          Date  Europe Brent Spot Price FOB (Dollars per Barrel)\n",
       "935 1991-01-16                                             30.28\n",
       "936 1991-01-17                                             21.10\n",
       "937 1991-01-18                                             19.10"
      ]
     },
     "execution_count": 31,
     "metadata": {},
     "output_type": "execute_result"
    }
   ],
   "source": [
    "prices.iloc[[935,936,937]]"
   ]
  },
  {
   "cell_type": "code",
   "execution_count": 32,
   "metadata": {},
   "outputs": [
    {
     "data": {
      "text/html": [
       "<div>\n",
       "<style scoped>\n",
       "    .dataframe tbody tr th:only-of-type {\n",
       "        vertical-align: middle;\n",
       "    }\n",
       "\n",
       "    .dataframe tbody tr th {\n",
       "        vertical-align: top;\n",
       "    }\n",
       "\n",
       "    .dataframe thead th {\n",
       "        text-align: right;\n",
       "    }\n",
       "</style>\n",
       "<table border=\"1\" class=\"dataframe\">\n",
       "  <thead>\n",
       "    <tr style=\"text-align: right;\">\n",
       "      <th></th>\n",
       "      <th>Date</th>\n",
       "      <th>Europe Brent Spot Price FOB (Dollars per Barrel)</th>\n",
       "    </tr>\n",
       "  </thead>\n",
       "  <tbody>\n",
       "    <tr>\n",
       "      <th>935</th>\n",
       "      <td>1991-01-16</td>\n",
       "      <td>30.28</td>\n",
       "    </tr>\n",
       "    <tr>\n",
       "      <th>936</th>\n",
       "      <td>1991-01-17</td>\n",
       "      <td>21.10</td>\n",
       "    </tr>\n",
       "    <tr>\n",
       "      <th>937</th>\n",
       "      <td>1991-01-18</td>\n",
       "      <td>19.10</td>\n",
       "    </tr>\n",
       "  </tbody>\n",
       "</table>\n",
       "</div>"
      ],
      "text/plain": [
       "          Date  Europe Brent Spot Price FOB (Dollars per Barrel)\n",
       "935 1991-01-16                                             30.28\n",
       "936 1991-01-17                                             21.10\n",
       "937 1991-01-18                                             19.10"
      ]
     },
     "execution_count": 32,
     "metadata": {},
     "output_type": "execute_result"
    }
   ],
   "source": [
    "prices.iloc[range(935,938)]"
   ]
  },
  {
   "cell_type": "markdown",
   "metadata": {},
   "source": [
    "Peki neden **pc** den istemedik? Görelim, şimdi pc ile o satırlara bakalım. "
   ]
  },
  {
   "cell_type": "code",
   "execution_count": 33,
   "metadata": {},
   "outputs": [
    {
     "data": {
      "text/plain": [
       "935    0.035214\n",
       "936   -0.303170\n",
       "937   -0.094787\n",
       "Name: Europe Brent Spot Price FOB (Dollars per Barrel), dtype: float64"
      ]
     },
     "execution_count": 33,
     "metadata": {},
     "output_type": "execute_result"
    }
   ],
   "source": [
    "pc.iloc[[935,936,937]]"
   ]
  },
  {
   "cell_type": "markdown",
   "metadata": {},
   "source": [
    "Gördüğünüz gibi hiç tarih verisi yok. Çünkü orjinal veriden bir değişim hesaplayıp başka bir değişkene aktık, bu sebeple orjinal verinin endeksi (tarihler) yeni değişkene gelmedi\n",
    "\n",
    "Şimdi de maksimum değerin yerini bulalım. **.idxmax()** komutu ile maksimum değerin satırını bulabiliriz."
   ]
  },
  {
   "cell_type": "code",
   "execution_count": 34,
   "metadata": {},
   "outputs": [
    {
     "data": {
      "text/plain": [
       "5499"
      ]
     },
     "execution_count": 34,
     "metadata": {},
     "output_type": "execute_result"
    }
   ],
   "source": [
    "# maksimum değer\n",
    "pc.idxmax()"
   ]
  },
  {
   "cell_type": "code",
   "execution_count": 35,
   "metadata": {},
   "outputs": [
    {
     "data": {
      "text/html": [
       "<div>\n",
       "<style scoped>\n",
       "    .dataframe tbody tr th:only-of-type {\n",
       "        vertical-align: middle;\n",
       "    }\n",
       "\n",
       "    .dataframe tbody tr th {\n",
       "        vertical-align: top;\n",
       "    }\n",
       "\n",
       "    .dataframe thead th {\n",
       "        text-align: right;\n",
       "    }\n",
       "</style>\n",
       "<table border=\"1\" class=\"dataframe\">\n",
       "  <thead>\n",
       "    <tr style=\"text-align: right;\">\n",
       "      <th></th>\n",
       "      <th>Date</th>\n",
       "      <th>Europe Brent Spot Price FOB (Dollars per Barrel)</th>\n",
       "    </tr>\n",
       "  </thead>\n",
       "  <tbody>\n",
       "    <tr>\n",
       "      <th>5498</th>\n",
       "      <td>2008-12-31</td>\n",
       "      <td>35.82</td>\n",
       "    </tr>\n",
       "    <tr>\n",
       "      <th>5499</th>\n",
       "      <td>2009-01-02</td>\n",
       "      <td>42.94</td>\n",
       "    </tr>\n",
       "    <tr>\n",
       "      <th>5500</th>\n",
       "      <td>2009-01-05</td>\n",
       "      <td>45.84</td>\n",
       "    </tr>\n",
       "  </tbody>\n",
       "</table>\n",
       "</div>"
      ],
      "text/plain": [
       "           Date  Europe Brent Spot Price FOB (Dollars per Barrel)\n",
       "5498 2008-12-31                                             35.82\n",
       "5499 2009-01-02                                             42.94\n",
       "5500 2009-01-05                                             45.84"
      ]
     },
     "execution_count": 35,
     "metadata": {},
     "output_type": "execute_result"
    }
   ],
   "source": [
    "prices.iloc[range(5498,5501)]"
   ]
  },
  {
   "cell_type": "markdown",
   "metadata": {},
   "source": [
    "Sonuç olarak. \n",
    "1. Petrol fiyatlarındaki en büyük düşüş 17 Ocak 1991'de oldu. Petrol fiyatları 30'dan 21\\$ a düştü\n",
    "2. Petrol fiyatlarındaki en büyük artış ise 2 Ocak 2009'da oldu. Fiyatlar 35'den to 42\\$'a çıktı"
   ]
  },
  {
   "cell_type": "markdown",
   "metadata": {},
   "source": [
    "## Verisetini geliştirmek : Hafta, Ay, %değişim ile daha büyük bir veri seti"
   ]
  },
  {
   "cell_type": "markdown",
   "metadata": {},
   "source": [
    "Internetten indirdiğimi veri setinde sadece Brent fiyatları var. **prices** veri setimize aşağıdaki başlıkları da eklemek isteyebilirz\n",
    "* Gun\n",
    "* Hafta\n",
    "* Ay \n",
    "* Yil \n",
    "* Yuzde_Degisim\n",
    "\n",
    "İlk adım olarak Hafta verisini ekleyelim. Bu o tarihin yılın hangi haftasına denk geldiğini verecek.\n",
    "\n",
    "Yeni bir sütun oluşturmak çok kolay. Sadece yeni sütun ismi ile yeni bir değişken tanımlayıp, hesapladığımız değerleri oraya atıyoruz. Bu durumda \"Hafta\" başlığı ile yeni sütun açmak yeterli olacaktır.\n",
    "\n",
    "İndirdiğimiz veri setinin indeksi - yani ana göstergesi **Date** olduğundan doğrudan bu tarihten datetime kütüphanesi dt ile dönüşüm yapacağız."
   ]
  },
  {
   "cell_type": "code",
   "execution_count": 36,
   "metadata": {},
   "outputs": [],
   "source": [
    "# Hafta isimli yeni bir sütun oluştur ve veriseti endeksinde tarihin hafta değerini al\n",
    "prices[\"Hafta\"]=prices[\"Date\"].dt.week"
   ]
  },
  {
   "cell_type": "markdown",
   "metadata": {},
   "source": [
    "Veri setimizin son 3 satırını görelim"
   ]
  },
  {
   "cell_type": "code",
   "execution_count": 37,
   "metadata": {},
   "outputs": [
    {
     "data": {
      "text/html": [
       "<div>\n",
       "<style scoped>\n",
       "    .dataframe tbody tr th:only-of-type {\n",
       "        vertical-align: middle;\n",
       "    }\n",
       "\n",
       "    .dataframe tbody tr th {\n",
       "        vertical-align: top;\n",
       "    }\n",
       "\n",
       "    .dataframe thead th {\n",
       "        text-align: right;\n",
       "    }\n",
       "</style>\n",
       "<table border=\"1\" class=\"dataframe\">\n",
       "  <thead>\n",
       "    <tr style=\"text-align: right;\">\n",
       "      <th></th>\n",
       "      <th>Date</th>\n",
       "      <th>Europe Brent Spot Price FOB (Dollars per Barrel)</th>\n",
       "      <th>Hafta</th>\n",
       "    </tr>\n",
       "  </thead>\n",
       "  <tbody>\n",
       "    <tr>\n",
       "      <th>8045</th>\n",
       "      <td>2019-01-31</td>\n",
       "      <td>62.46</td>\n",
       "      <td>5</td>\n",
       "    </tr>\n",
       "    <tr>\n",
       "      <th>8046</th>\n",
       "      <td>2019-02-01</td>\n",
       "      <td>61.86</td>\n",
       "      <td>5</td>\n",
       "    </tr>\n",
       "    <tr>\n",
       "      <th>8047</th>\n",
       "      <td>2019-02-04</td>\n",
       "      <td>62.26</td>\n",
       "      <td>6</td>\n",
       "    </tr>\n",
       "  </tbody>\n",
       "</table>\n",
       "</div>"
      ],
      "text/plain": [
       "           Date  Europe Brent Spot Price FOB (Dollars per Barrel)  Hafta\n",
       "8045 2019-01-31                                             62.46      5\n",
       "8046 2019-02-01                                             61.86      5\n",
       "8047 2019-02-04                                             62.26      6"
      ]
     },
     "execution_count": 37,
     "metadata": {},
     "output_type": "execute_result"
    }
   ],
   "source": [
    "prices.tail(3)"
   ]
  },
  {
   "cell_type": "markdown",
   "metadata": {},
   "source": [
    "Eğer problem yaşamadıysak ay, yıl ve haftanın günü(HG) değişkenlerini de ekleyebilir. Değişken isimlerinde Türkçe karakterler sorun olduğundan ben ingilizce alfabe ile değişkenleri tanımlamayı tercih ettim."
   ]
  },
  {
   "cell_type": "code",
   "execution_count": 38,
   "metadata": {},
   "outputs": [],
   "source": [
    "prices[\"Ay\"]=prices[\"Date\"].dt.month\n",
    "prices[\"Yil\"]=prices[\"Date\"].dt.year\n",
    "prices[\"HG\"]=prices[\"Date\"].dt.dayofweek"
   ]
  },
  {
   "cell_type": "markdown",
   "metadata": {},
   "source": [
    "Veri setimizi genişlettik. Haftanın günü (HG) verisi Pazartesi için 0, Cuma için 4 değerini verir. Petrol piyasaları haftasonu açık olmadığından sadece haftaiçi değişkenleri var."
   ]
  },
  {
   "cell_type": "code",
   "execution_count": 39,
   "metadata": {},
   "outputs": [
    {
     "data": {
      "text/html": [
       "<div>\n",
       "<style scoped>\n",
       "    .dataframe tbody tr th:only-of-type {\n",
       "        vertical-align: middle;\n",
       "    }\n",
       "\n",
       "    .dataframe tbody tr th {\n",
       "        vertical-align: top;\n",
       "    }\n",
       "\n",
       "    .dataframe thead th {\n",
       "        text-align: right;\n",
       "    }\n",
       "</style>\n",
       "<table border=\"1\" class=\"dataframe\">\n",
       "  <thead>\n",
       "    <tr style=\"text-align: right;\">\n",
       "      <th></th>\n",
       "      <th>Date</th>\n",
       "      <th>Europe Brent Spot Price FOB (Dollars per Barrel)</th>\n",
       "      <th>Hafta</th>\n",
       "      <th>Ay</th>\n",
       "      <th>Yil</th>\n",
       "      <th>HG</th>\n",
       "    </tr>\n",
       "  </thead>\n",
       "  <tbody>\n",
       "    <tr>\n",
       "      <th>8044</th>\n",
       "      <td>2019-01-30</td>\n",
       "      <td>61.89</td>\n",
       "      <td>5</td>\n",
       "      <td>1</td>\n",
       "      <td>2019</td>\n",
       "      <td>2</td>\n",
       "    </tr>\n",
       "    <tr>\n",
       "      <th>8045</th>\n",
       "      <td>2019-01-31</td>\n",
       "      <td>62.46</td>\n",
       "      <td>5</td>\n",
       "      <td>1</td>\n",
       "      <td>2019</td>\n",
       "      <td>3</td>\n",
       "    </tr>\n",
       "    <tr>\n",
       "      <th>8046</th>\n",
       "      <td>2019-02-01</td>\n",
       "      <td>61.86</td>\n",
       "      <td>5</td>\n",
       "      <td>2</td>\n",
       "      <td>2019</td>\n",
       "      <td>4</td>\n",
       "    </tr>\n",
       "    <tr>\n",
       "      <th>8047</th>\n",
       "      <td>2019-02-04</td>\n",
       "      <td>62.26</td>\n",
       "      <td>6</td>\n",
       "      <td>2</td>\n",
       "      <td>2019</td>\n",
       "      <td>0</td>\n",
       "    </tr>\n",
       "  </tbody>\n",
       "</table>\n",
       "</div>"
      ],
      "text/plain": [
       "           Date  Europe Brent Spot Price FOB (Dollars per Barrel)  Hafta  Ay  \\\n",
       "8044 2019-01-30                                             61.89      5   1   \n",
       "8045 2019-01-31                                             62.46      5   1   \n",
       "8046 2019-02-01                                             61.86      5   2   \n",
       "8047 2019-02-04                                             62.26      6   2   \n",
       "\n",
       "       Yil  HG  \n",
       "8044  2019   2  \n",
       "8045  2019   3  \n",
       "8046  2019   4  \n",
       "8047  2019   0  "
      ]
     },
     "execution_count": 39,
     "metadata": {},
     "output_type": "execute_result"
    }
   ],
   "source": [
    "#let's see last 4 lines\n",
    "prices.tail(4)"
   ]
  },
  {
   "cell_type": "markdown",
   "metadata": {},
   "source": [
    "Şimdi analizimize devam edebiliriz"
   ]
  },
  {
   "cell_type": "markdown",
   "metadata": {},
   "source": [
    "## Python Pandas ile pivot tablolama"
   ]
  },
  {
   "cell_type": "markdown",
   "metadata": {},
   "source": [
    "### Gruplama"
   ]
  },
  {
   "cell_type": "markdown",
   "metadata": {},
   "source": [
    "Toplulaştırılmış veri oluşturmak için en kolay yol gruplandırmadır. Mesela veriyi haftalara göre gruplandırabilirz. **pandas** kütüphanesinde, doğrudan veri setinden çağırabileceğimiz **groupby** komutu ile gruplama yapabiliriz. Daha sonra gruplanan verinin ortalamasını **.mean()** ile veya sayısını **.count()** ile alabiliriz. **prices** yazıp **.** koyup **TAB** a basmanız yeterli, alt komutlar çıkacaktır."
   ]
  },
  {
   "cell_type": "code",
   "execution_count": 40,
   "metadata": {},
   "outputs": [
    {
     "data": {
      "text/plain": [
       "[<matplotlib.lines.Line2D at 0x7f37842bd748>]"
      ]
     },
     "execution_count": 40,
     "metadata": {},
     "output_type": "execute_result"
    },
    {
     "data": {
      "image/png": "[encoded data removed]",
      "text/plain": [
       "<Figure size 432x288 with 1 Axes>"
      ]
     },
     "metadata": {
      "needs_background": "light"
     },
     "output_type": "display_data"
    }
   ],
   "source": [
    "plot(prices.groupby(\"Hafta\")['Europe Brent Spot Price FOB (Dollars per Barrel)'].mean())\n"
   ]
  },
  {
   "cell_type": "markdown",
   "metadata": {},
   "source": [
    "Maalesef bazı yıllarda 53 hafta olabiliyor, bu yüzden ilk 52 haftayı almak için **head(52)** komutunu kullanabiliriz."
   ]
  },
  {
   "cell_type": "code",
   "execution_count": 41,
   "metadata": {},
   "outputs": [
    {
     "data": {
      "text/plain": [
       "[<matplotlib.lines.Line2D at 0x7f37843f5898>]"
      ]
     },
     "execution_count": 41,
     "metadata": {},
     "output_type": "execute_result"
    },
    {
     "data": {
      "image/png": "[encoded data removed]",
      "text/plain": [
       "<Figure size 432x288 with 1 Axes>"
      ]
     },
     "metadata": {
      "needs_background": "light"
     },
     "output_type": "display_data"
    }
   ],
   "source": [
    "plot(prices.groupby(\"Hafta\")['Europe Brent Spot Price FOB (Dollars per Barrel)'].mean().head(52))\n"
   ]
  },
  {
   "cell_type": "markdown",
   "metadata": {},
   "source": [
    "Grafiğe bir başlık ve eksen isimleri gerekiyor. **%pylab inline** 'ı en başta yazdığımız ve çalıştırdığımız için şimdi çizim alt komutlarını doğrudan **title**, **xlabel** veya **ylabel** olarak çağırabiliriz."
   ]
  },
  {
   "cell_type": "code",
   "execution_count": 42,
   "metadata": {},
   "outputs": [
    {
     "data": {
      "image/png": "[encoded data removed]",
      "text/plain": [
       "<Figure size 432x288 with 1 Axes>"
      ]
     },
     "metadata": {
      "needs_background": "light"
     },
     "output_type": "display_data"
    }
   ],
   "source": [
    "plot(prices.groupby(\"Hafta\")['Europe Brent Spot Price FOB (Dollars per Barrel)'].mean().head(52))\n",
    "title(\"52 hafta ortalamalı petrol fiyatları (1987-2019)\")\n",
    "xlabel(\"Hafta\")\n",
    "ylabel(\"$/varil\");"
   ]
  },
  {
   "cell_type": "markdown",
   "metadata": {},
   "source": [
    "Şimdi bir sonraki aşamayı deneyelim. Sadece tek 1 yıl verisini çekmeye çalışalım. Mesela 2018\n",
    "\n",
    "İki adımlı bir yolumuz olacak.\n",
    "\n",
    "1) pc'de yaptığımız gibi önce yil verisinin 2018'e ait olduğu satırları alalım.  **prices[prices.Yil==2018]**\n",
    "\n",
    "2) ilk 4 satırına bakalım **.head(4)**\n"
   ]
  },
  {
   "cell_type": "code",
   "execution_count": 43,
   "metadata": {},
   "outputs": [
    {
     "data": {
      "text/html": [
       "<div>\n",
       "<style scoped>\n",
       "    .dataframe tbody tr th:only-of-type {\n",
       "        vertical-align: middle;\n",
       "    }\n",
       "\n",
       "    .dataframe tbody tr th {\n",
       "        vertical-align: top;\n",
       "    }\n",
       "\n",
       "    .dataframe thead th {\n",
       "        text-align: right;\n",
       "    }\n",
       "</style>\n",
       "<table border=\"1\" class=\"dataframe\">\n",
       "  <thead>\n",
       "    <tr style=\"text-align: right;\">\n",
       "      <th></th>\n",
       "      <th>Date</th>\n",
       "      <th>Europe Brent Spot Price FOB (Dollars per Barrel)</th>\n",
       "      <th>Hafta</th>\n",
       "      <th>Ay</th>\n",
       "      <th>Yil</th>\n",
       "      <th>HG</th>\n",
       "    </tr>\n",
       "  </thead>\n",
       "  <tbody>\n",
       "    <tr>\n",
       "      <th>7772</th>\n",
       "      <td>2018-01-02</td>\n",
       "      <td>66.65</td>\n",
       "      <td>1</td>\n",
       "      <td>1</td>\n",
       "      <td>2018</td>\n",
       "      <td>1</td>\n",
       "    </tr>\n",
       "    <tr>\n",
       "      <th>7773</th>\n",
       "      <td>2018-01-03</td>\n",
       "      <td>67.85</td>\n",
       "      <td>1</td>\n",
       "      <td>1</td>\n",
       "      <td>2018</td>\n",
       "      <td>2</td>\n",
       "    </tr>\n",
       "    <tr>\n",
       "      <th>7774</th>\n",
       "      <td>2018-01-04</td>\n",
       "      <td>68.73</td>\n",
       "      <td>1</td>\n",
       "      <td>1</td>\n",
       "      <td>2018</td>\n",
       "      <td>3</td>\n",
       "    </tr>\n",
       "    <tr>\n",
       "      <th>7775</th>\n",
       "      <td>2018-01-05</td>\n",
       "      <td>68.01</td>\n",
       "      <td>1</td>\n",
       "      <td>1</td>\n",
       "      <td>2018</td>\n",
       "      <td>4</td>\n",
       "    </tr>\n",
       "  </tbody>\n",
       "</table>\n",
       "</div>"
      ],
      "text/plain": [
       "           Date  Europe Brent Spot Price FOB (Dollars per Barrel)  Hafta  Ay  \\\n",
       "7772 2018-01-02                                             66.65      1   1   \n",
       "7773 2018-01-03                                             67.85      1   1   \n",
       "7774 2018-01-04                                             68.73      1   1   \n",
       "7775 2018-01-05                                             68.01      1   1   \n",
       "\n",
       "       Yil  HG  \n",
       "7772  2018   1  \n",
       "7773  2018   2  \n",
       "7774  2018   3  \n",
       "7775  2018   4  "
      ]
     },
     "execution_count": 43,
     "metadata": {},
     "output_type": "execute_result"
    }
   ],
   "source": [
    "pf=prices[prices.Yil==2018]\n",
    "pf.head(4)"
   ]
  },
  {
   "cell_type": "markdown",
   "metadata": {},
   "source": [
    "Şimdi de filtrelediğimiz sonuçları gruplayarak, sonra da ortalamalarını alacağız."
   ]
  },
  {
   "cell_type": "code",
   "execution_count": 44,
   "metadata": {},
   "outputs": [
    {
     "data": {
      "text/html": [
       "<div>\n",
       "<style scoped>\n",
       "    .dataframe tbody tr th:only-of-type {\n",
       "        vertical-align: middle;\n",
       "    }\n",
       "\n",
       "    .dataframe tbody tr th {\n",
       "        vertical-align: top;\n",
       "    }\n",
       "\n",
       "    .dataframe thead th {\n",
       "        text-align: right;\n",
       "    }\n",
       "</style>\n",
       "<table border=\"1\" class=\"dataframe\">\n",
       "  <thead>\n",
       "    <tr style=\"text-align: right;\">\n",
       "      <th></th>\n",
       "      <th>Date</th>\n",
       "      <th>Europe Brent Spot Price FOB (Dollars per Barrel)</th>\n",
       "      <th>Hafta</th>\n",
       "      <th>Ay</th>\n",
       "      <th>Yil</th>\n",
       "      <th>HG</th>\n",
       "    </tr>\n",
       "  </thead>\n",
       "  <tbody>\n",
       "    <tr>\n",
       "      <th>7772</th>\n",
       "      <td>2018-01-02</td>\n",
       "      <td>66.65</td>\n",
       "      <td>1</td>\n",
       "      <td>1</td>\n",
       "      <td>2018</td>\n",
       "      <td>1</td>\n",
       "    </tr>\n",
       "    <tr>\n",
       "      <th>7773</th>\n",
       "      <td>2018-01-03</td>\n",
       "      <td>67.85</td>\n",
       "      <td>1</td>\n",
       "      <td>1</td>\n",
       "      <td>2018</td>\n",
       "      <td>2</td>\n",
       "    </tr>\n",
       "    <tr>\n",
       "      <th>7774</th>\n",
       "      <td>2018-01-04</td>\n",
       "      <td>68.73</td>\n",
       "      <td>1</td>\n",
       "      <td>1</td>\n",
       "      <td>2018</td>\n",
       "      <td>3</td>\n",
       "    </tr>\n",
       "    <tr>\n",
       "      <th>7775</th>\n",
       "      <td>2018-01-05</td>\n",
       "      <td>68.01</td>\n",
       "      <td>1</td>\n",
       "      <td>1</td>\n",
       "      <td>2018</td>\n",
       "      <td>4</td>\n",
       "    </tr>\n",
       "  </tbody>\n",
       "</table>\n",
       "</div>"
      ],
      "text/plain": [
       "           Date  Europe Brent Spot Price FOB (Dollars per Barrel)  Hafta  Ay  \\\n",
       "7772 2018-01-02                                             66.65      1   1   \n",
       "7773 2018-01-03                                             67.85      1   1   \n",
       "7774 2018-01-04                                             68.73      1   1   \n",
       "7775 2018-01-05                                             68.01      1   1   \n",
       "\n",
       "       Yil  HG  \n",
       "7772  2018   1  \n",
       "7773  2018   2  \n",
       "7774  2018   3  \n",
       "7775  2018   4  "
      ]
     },
     "execution_count": 44,
     "metadata": {},
     "output_type": "execute_result"
    }
   ],
   "source": [
    "pf.head(4)"
   ]
  },
  {
   "cell_type": "code",
   "execution_count": 45,
   "metadata": {},
   "outputs": [
    {
     "data": {
      "text/plain": [
       "Hafta\n",
       "1    67.810\n",
       "2    69.470\n",
       "3    69.388\n",
       "4    70.040\n",
       "Name: Europe Brent Spot Price FOB (Dollars per Barrel), dtype: float64"
      ]
     },
     "execution_count": 45,
     "metadata": {},
     "output_type": "execute_result"
    }
   ],
   "source": [
    "# Just look at the averages for the first 4 week\n",
    "pf.groupby(\"Hafta\")['Europe Brent Spot Price FOB (Dollars per Barrel)'].mean().head(4)"
   ]
  },
  {
   "cell_type": "markdown",
   "metadata": {},
   "source": [
    "Şimdi herşeyi birleştirelim ve grafiğini çıkaralım"
   ]
  },
  {
   "cell_type": "code",
   "execution_count": 46,
   "metadata": {},
   "outputs": [
    {
     "data": {
      "text/plain": [
       "[<matplotlib.lines.Line2D at 0x7f3783c74cf8>]"
      ]
     },
     "execution_count": 46,
     "metadata": {},
     "output_type": "execute_result"
    },
    {
     "data": {
      "image/png": "[encoded data removed]",
      "text/plain": [
       "<Figure size 432x288 with 1 Axes>"
      ]
     },
     "metadata": {
      "needs_background": "light"
     },
     "output_type": "display_data"
    }
   ],
   "source": [
    "plot(pf.groupby(\"Hafta\")['Europe Brent Spot Price FOB (Dollars per Barrel)'].mean())"
   ]
  },
  {
   "cell_type": "markdown",
   "metadata": {},
   "source": [
    "\n",
    "Veya herşeyi tek satırda da yazabiliriz. Yani 2018'deki haftaların ortalama fiyatı... "
   ]
  },
  {
   "cell_type": "code",
   "execution_count": 47,
   "metadata": {},
   "outputs": [
    {
     "data": {
      "text/plain": [
       "[<matplotlib.lines.Line2D at 0x7f3783ae4550>]"
      ]
     },
     "execution_count": 47,
     "metadata": {},
     "output_type": "execute_result"
    },
    {
     "data": {
      "image/png": "[encoded data removed]",
      "text/plain": [
       "<Figure size 432x288 with 1 Axes>"
      ]
     },
     "metadata": {
      "needs_background": "light"
     },
     "output_type": "display_data"
    }
   ],
   "source": [
    "plot(prices[prices.Yil==2018].groupby(\"Hafta\")['Europe Brent Spot Price FOB (Dollars per Barrel)'].mean())"
   ]
  },
  {
   "cell_type": "markdown",
   "metadata": {},
   "source": [
    "Şimdi son 5 yıl ve 10 yılın grafiklerini de görebiliriz\n",
    "\n",
    "* 5 yıl için *range(2014,2019)* veya *prices.Yil>=2014*\n",
    "* 10 yıl için *range(2009,2019)* veya *prices.Yil>=2004*\n",
    "\n",
    "komutlarını kullanabiliriz."
   ]
  },
  {
   "cell_type": "code",
   "execution_count": 48,
   "metadata": {},
   "outputs": [
    {
     "data": {
      "text/plain": [
       "[<matplotlib.lines.Line2D at 0x7f37842f3e48>]"
      ]
     },
     "execution_count": 48,
     "metadata": {},
     "output_type": "execute_result"
    },
    {
     "data": {
      "image/png": "[encoded data removed]",
      "text/plain": [
       "<Figure size 432x288 with 1 Axes>"
      ]
     },
     "metadata": {
      "needs_background": "light"
     },
     "output_type": "display_data"
    }
   ],
   "source": [
    "plot(prices[prices.Yil>=2014].groupby(\"Hafta\")['Europe Brent Spot Price FOB (Dollars per Barrel)'].mean().head(52))"
   ]
  },
  {
   "cell_type": "markdown",
   "metadata": {},
   "source": [
    "Bunu daha okunabilir şekilde de yapabiliriz. Örneğin\n",
    "\n",
    "1) 2014'ten büyük yılları ayrı bir değişkene atarız mesela **p2014_2019** \n",
    "\n",
    "2) Ardından tüm işlemleri **p2014_2019** için yaparız.\n"
   ]
  },
  {
   "cell_type": "code",
   "execution_count": 49,
   "metadata": {},
   "outputs": [],
   "source": [
    "p2014_2019=prices[prices.Yil>=2014]"
   ]
  },
  {
   "cell_type": "code",
   "execution_count": 50,
   "metadata": {},
   "outputs": [
    {
     "data": {
      "image/png": "[encoded data removed]",
      "text/plain": [
       "<Figure size 432x288 with 1 Axes>"
      ]
     },
     "metadata": {
      "needs_background": "light"
     },
     "output_type": "display_data"
    }
   ],
   "source": [
    "plot(p2014_2019.groupby(\"Hafta\")['Europe Brent Spot Price FOB (Dollars per Barrel)'].mean().head(52))\n",
    "# title for the plot and \";\" for supressing text output\n",
    "title(\"Haftalık Petrol Fiyatları(2014-2019)\");"
   ]
  },
  {
   "cell_type": "markdown",
   "metadata": {},
   "source": [
    "### Pivot Tablolar\n",
    "\n",
    "**Uyarı** _Ben aynı işlemleri hem groupby hem de pivot_table ile yaptım. Ama sonuçlar küçük de olsa ayrışıyordu. NA(olmayan veri) işlevinden olabilir diye fonksiyon opsiyonlarını denedim, ama sonuç elde edemedim_\n",
    "\n",
    "\n",
    "Pivot tablolara veri analizinde önemli araçlardandır. Bilmeyenler için elimizdeki günlük veriden, haftaları satıra, yılları sütuna al, Brent rakamlarını da ortalamalardan oluştur diye tek satır ile dönüşüm yapabileceğiz. \n",
    "\n",
    "Orjinal veri setinden verileri aşağıdaki adımlar ile şekillendireceğiz\n",
    "* Yeni veri setinin endeksini(ana kolon, satır verilerinin neye karşılık geldiğini) berlirliyoruz           ---->    **index=['Hafta']**\n",
    "* Ardından veri setimizin sütunları yıllar olacak          ---->    **columns=['Yil']**\n",
    "* numpy kütüphanesinden günlük Brent fiyatlarının ortalamasını işleyeceğiz        ---->    **aggfunc=np.mean**\n",
    "* Hafta ve yıllara göre ortalaması alınan değerler Brent fiyatlar olacak       ---->    **values='Europe Brent Spot Price FOB (Dollars per Barrel)'**\n",
    "\n",
    "Petrol fiyatını uzun uzun _\"Europe Brent Spot Price FOB (Dollars per Barrel)\"_ yazmıyorum, Jupyter de Euro yazıp **tab** a basınca kendinden geliyor\n",
    "\n"
   ]
  },
  {
   "cell_type": "code",
   "execution_count": 51,
   "metadata": {},
   "outputs": [],
   "source": [
    "pt=prices.pivot_table( values='Europe Brent Spot Price FOB (Dollars per Barrel)', index=['Hafta'],\n",
    "                     columns=['Yil'], aggfunc=np.mean)"
   ]
  },
  {
   "cell_type": "markdown",
   "metadata": {},
   "source": [
    "Pivot tablomuzu oluşturarak yüklediğimi pt değişkenine bakalım(pt pivot tablo kısaltması)"
   ]
  },
  {
   "cell_type": "code",
   "execution_count": 52,
   "metadata": {},
   "outputs": [
    {
     "data": {
      "text/html": [
       "<div>\n",
       "<style scoped>\n",
       "    .dataframe tbody tr th:only-of-type {\n",
       "        vertical-align: middle;\n",
       "    }\n",
       "\n",
       "    .dataframe tbody tr th {\n",
       "        vertical-align: top;\n",
       "    }\n",
       "\n",
       "    .dataframe thead th {\n",
       "        text-align: right;\n",
       "    }\n",
       "</style>\n",
       "<table border=\"1\" class=\"dataframe\">\n",
       "  <thead>\n",
       "    <tr style=\"text-align: right;\">\n",
       "      <th>Yil</th>\n",
       "      <th>1987</th>\n",
       "      <th>1988</th>\n",
       "      <th>1989</th>\n",
       "      <th>1990</th>\n",
       "      <th>1991</th>\n",
       "      <th>1992</th>\n",
       "      <th>1993</th>\n",
       "      <th>1994</th>\n",
       "      <th>1995</th>\n",
       "      <th>1996</th>\n",
       "      <th>...</th>\n",
       "      <th>2010</th>\n",
       "      <th>2011</th>\n",
       "      <th>2012</th>\n",
       "      <th>2013</th>\n",
       "      <th>2014</th>\n",
       "      <th>2015</th>\n",
       "      <th>2016</th>\n",
       "      <th>2017</th>\n",
       "      <th>2018</th>\n",
       "      <th>2019</th>\n",
       "    </tr>\n",
       "    <tr>\n",
       "      <th>Hafta</th>\n",
       "      <th></th>\n",
       "      <th></th>\n",
       "      <th></th>\n",
       "      <th></th>\n",
       "      <th></th>\n",
       "      <th></th>\n",
       "      <th></th>\n",
       "      <th></th>\n",
       "      <th></th>\n",
       "      <th></th>\n",
       "      <th></th>\n",
       "      <th></th>\n",
       "      <th></th>\n",
       "      <th></th>\n",
       "      <th></th>\n",
       "      <th></th>\n",
       "      <th></th>\n",
       "      <th></th>\n",
       "      <th></th>\n",
       "      <th></th>\n",
       "      <th></th>\n",
       "    </tr>\n",
       "  </thead>\n",
       "  <tbody>\n",
       "    <tr>\n",
       "      <th>1</th>\n",
       "      <td>NaN</td>\n",
       "      <td>17.4525</td>\n",
       "      <td>16.590</td>\n",
       "      <td>23.566</td>\n",
       "      <td>22.332</td>\n",
       "      <td>18.475</td>\n",
       "      <td>17.510</td>\n",
       "      <td>14.1775</td>\n",
       "      <td>16.0725</td>\n",
       "      <td>20.763333</td>\n",
       "      <td>...</td>\n",
       "      <td>79.8180</td>\n",
       "      <td>94.722</td>\n",
       "      <td>112.168</td>\n",
       "      <td>111.8020</td>\n",
       "      <td>76.648</td>\n",
       "      <td>55.3800</td>\n",
       "      <td>34.194</td>\n",
       "      <td>55.1275</td>\n",
       "      <td>67.810</td>\n",
       "      <td>54.310</td>\n",
       "    </tr>\n",
       "    <tr>\n",
       "      <th>2</th>\n",
       "      <td>NaN</td>\n",
       "      <td>16.4360</td>\n",
       "      <td>16.980</td>\n",
       "      <td>21.674</td>\n",
       "      <td>25.328</td>\n",
       "      <td>17.772</td>\n",
       "      <td>17.052</td>\n",
       "      <td>14.0000</td>\n",
       "      <td>16.2320</td>\n",
       "      <td>18.528000</td>\n",
       "      <td>...</td>\n",
       "      <td>78.3100</td>\n",
       "      <td>97.086</td>\n",
       "      <td>111.776</td>\n",
       "      <td>112.3720</td>\n",
       "      <td>107.014</td>\n",
       "      <td>49.4660</td>\n",
       "      <td>29.100</td>\n",
       "      <td>54.0160</td>\n",
       "      <td>69.470</td>\n",
       "      <td>58.636</td>\n",
       "    </tr>\n",
       "    <tr>\n",
       "      <th>3</th>\n",
       "      <td>NaN</td>\n",
       "      <td>16.9080</td>\n",
       "      <td>17.896</td>\n",
       "      <td>21.052</td>\n",
       "      <td>25.856</td>\n",
       "      <td>18.370</td>\n",
       "      <td>16.978</td>\n",
       "      <td>14.2160</td>\n",
       "      <td>16.8840</td>\n",
       "      <td>17.614000</td>\n",
       "      <td>...</td>\n",
       "      <td>74.2825</td>\n",
       "      <td>97.340</td>\n",
       "      <td>109.600</td>\n",
       "      <td>111.3460</td>\n",
       "      <td>107.828</td>\n",
       "      <td>46.5780</td>\n",
       "      <td>27.756</td>\n",
       "      <td>54.1940</td>\n",
       "      <td>69.388</td>\n",
       "      <td>59.830</td>\n",
       "    </tr>\n",
       "    <tr>\n",
       "      <th>4</th>\n",
       "      <td>NaN</td>\n",
       "      <td>16.2400</td>\n",
       "      <td>17.328</td>\n",
       "      <td>20.494</td>\n",
       "      <td>20.766</td>\n",
       "      <td>18.112</td>\n",
       "      <td>18.004</td>\n",
       "      <td>14.6420</td>\n",
       "      <td>16.8480</td>\n",
       "      <td>17.188000</td>\n",
       "      <td>...</td>\n",
       "      <td>71.8820</td>\n",
       "      <td>96.620</td>\n",
       "      <td>109.180</td>\n",
       "      <td>113.7175</td>\n",
       "      <td>109.140</td>\n",
       "      <td>46.4425</td>\n",
       "      <td>31.748</td>\n",
       "      <td>54.9060</td>\n",
       "      <td>70.040</td>\n",
       "      <td>61.342</td>\n",
       "    </tr>\n",
       "  </tbody>\n",
       "</table>\n",
       "<p>4 rows × 33 columns</p>\n",
       "</div>"
      ],
      "text/plain": [
       "Yil    1987     1988    1989    1990    1991    1992    1993     1994  \\\n",
       "Hafta                                                                   \n",
       "1       NaN  17.4525  16.590  23.566  22.332  18.475  17.510  14.1775   \n",
       "2       NaN  16.4360  16.980  21.674  25.328  17.772  17.052  14.0000   \n",
       "3       NaN  16.9080  17.896  21.052  25.856  18.370  16.978  14.2160   \n",
       "4       NaN  16.2400  17.328  20.494  20.766  18.112  18.004  14.6420   \n",
       "\n",
       "Yil       1995       1996   ...       2010    2011     2012      2013  \\\n",
       "Hafta                       ...                                         \n",
       "1      16.0725  20.763333   ...    79.8180  94.722  112.168  111.8020   \n",
       "2      16.2320  18.528000   ...    78.3100  97.086  111.776  112.3720   \n",
       "3      16.8840  17.614000   ...    74.2825  97.340  109.600  111.3460   \n",
       "4      16.8480  17.188000   ...    71.8820  96.620  109.180  113.7175   \n",
       "\n",
       "Yil       2014     2015    2016     2017    2018    2019  \n",
       "Hafta                                                     \n",
       "1       76.648  55.3800  34.194  55.1275  67.810  54.310  \n",
       "2      107.014  49.4660  29.100  54.0160  69.470  58.636  \n",
       "3      107.828  46.5780  27.756  54.1940  69.388  59.830  \n",
       "4      109.140  46.4425  31.748  54.9060  70.040  61.342  \n",
       "\n",
       "[4 rows x 33 columns]"
      ]
     },
     "execution_count": 52,
     "metadata": {},
     "output_type": "execute_result"
    }
   ],
   "source": [
    "pt.head(4)"
   ]
  },
  {
   "cell_type": "markdown",
   "metadata": {},
   "source": [
    "## Şimdi Filtreleme Yapalım"
   ]
  },
  {
   "cell_type": "markdown",
   "metadata": {},
   "source": [
    "Bakınca 1987'de amma çok NaN -olmayan veri- var gözüküyor. Çünkü veri seti 1987 Mayıs'tan başlıyor. Diğerlerinde sorun gözükmüyor.\n",
    "\n",
    "Şimdi 2014 ile 2019 arasındaki yılları seçerek ilk 52 haftalarını çizebiliriz\n",
    "* range(2014, 2020) komutu 2014,2015,2016,2017,2018,2019.... dizisini oluşturur. range'de bitiş noktası dahil değildir\n",
    "* Her yıldaki haftaların ortalamasını **mean** komutunu **(axis=1)** ile alıyoruz. axis=1 ile satırların ( yani aynı haftaların) ortalamasını al diyoruz.\n",
    "* 53ncü hafta ender görülen bir şey, o yüzden sadece ilk 52 haftayı alıyoruz **head(52)**"
   ]
  },
  {
   "cell_type": "code",
   "execution_count": 53,
   "metadata": {},
   "outputs": [
    {
     "data": {
      "image/png": "[encoded data removed]",
      "text/plain": [
       "<Figure size 432x288 with 1 Axes>"
      ]
     },
     "metadata": {
      "needs_background": "light"
     },
     "output_type": "display_data"
    }
   ],
   "source": [
    "plot(pt.loc[:,range(2014,2020)].mean(axis=1).head(52))\n",
    "title (\"Haftalık fiyat ortalamaları (2014-2019)\");"
   ]
  },
  {
   "cell_type": "markdown",
   "metadata": {},
   "source": [
    "İnanmazsanız range komutunun neleri içerdiğine bakabilirsiniz"
   ]
  },
  {
   "cell_type": "code",
   "execution_count": 54,
   "metadata": {},
   "outputs": [
    {
     "name": "stdout",
     "output_type": "stream",
     "text": [
      "2014 2015 2016 2017 2018 2019\n"
     ]
    }
   ],
   "source": [
    "# range command does not include the last element \n",
    "print(*range(2014,2020))"
   ]
  },
  {
   "cell_type": "markdown",
   "metadata": {},
   "source": [
    "Eğer sorun yoksa **pct_change()** ile haftadan haftaya %değişimleri de hesaplayalım"
   ]
  },
  {
   "cell_type": "code",
   "execution_count": 55,
   "metadata": {},
   "outputs": [],
   "source": [
    "ptpc=pt.pct_change()"
   ]
  },
  {
   "cell_type": "markdown",
   "metadata": {},
   "source": [
    "Daima verisetini yada bir kısmını kontrol edin (mesela ilk 4 satırı **head(4)** ile görelim)"
   ]
  },
  {
   "cell_type": "code",
   "execution_count": 56,
   "metadata": {},
   "outputs": [
    {
     "data": {
      "text/html": [
       "<div>\n",
       "<style scoped>\n",
       "    .dataframe tbody tr th:only-of-type {\n",
       "        vertical-align: middle;\n",
       "    }\n",
       "\n",
       "    .dataframe tbody tr th {\n",
       "        vertical-align: top;\n",
       "    }\n",
       "\n",
       "    .dataframe thead th {\n",
       "        text-align: right;\n",
       "    }\n",
       "</style>\n",
       "<table border=\"1\" class=\"dataframe\">\n",
       "  <thead>\n",
       "    <tr style=\"text-align: right;\">\n",
       "      <th>Yil</th>\n",
       "      <th>1987</th>\n",
       "      <th>1988</th>\n",
       "      <th>1989</th>\n",
       "      <th>1990</th>\n",
       "      <th>1991</th>\n",
       "      <th>1992</th>\n",
       "      <th>1993</th>\n",
       "      <th>1994</th>\n",
       "      <th>1995</th>\n",
       "      <th>1996</th>\n",
       "      <th>...</th>\n",
       "      <th>2010</th>\n",
       "      <th>2011</th>\n",
       "      <th>2012</th>\n",
       "      <th>2013</th>\n",
       "      <th>2014</th>\n",
       "      <th>2015</th>\n",
       "      <th>2016</th>\n",
       "      <th>2017</th>\n",
       "      <th>2018</th>\n",
       "      <th>2019</th>\n",
       "    </tr>\n",
       "    <tr>\n",
       "      <th>Hafta</th>\n",
       "      <th></th>\n",
       "      <th></th>\n",
       "      <th></th>\n",
       "      <th></th>\n",
       "      <th></th>\n",
       "      <th></th>\n",
       "      <th></th>\n",
       "      <th></th>\n",
       "      <th></th>\n",
       "      <th></th>\n",
       "      <th></th>\n",
       "      <th></th>\n",
       "      <th></th>\n",
       "      <th></th>\n",
       "      <th></th>\n",
       "      <th></th>\n",
       "      <th></th>\n",
       "      <th></th>\n",
       "      <th></th>\n",
       "      <th></th>\n",
       "      <th></th>\n",
       "    </tr>\n",
       "  </thead>\n",
       "  <tbody>\n",
       "    <tr>\n",
       "      <th>1</th>\n",
       "      <td>NaN</td>\n",
       "      <td>NaN</td>\n",
       "      <td>NaN</td>\n",
       "      <td>NaN</td>\n",
       "      <td>NaN</td>\n",
       "      <td>NaN</td>\n",
       "      <td>NaN</td>\n",
       "      <td>NaN</td>\n",
       "      <td>NaN</td>\n",
       "      <td>NaN</td>\n",
       "      <td>...</td>\n",
       "      <td>NaN</td>\n",
       "      <td>NaN</td>\n",
       "      <td>NaN</td>\n",
       "      <td>NaN</td>\n",
       "      <td>NaN</td>\n",
       "      <td>NaN</td>\n",
       "      <td>NaN</td>\n",
       "      <td>NaN</td>\n",
       "      <td>NaN</td>\n",
       "      <td>NaN</td>\n",
       "    </tr>\n",
       "    <tr>\n",
       "      <th>2</th>\n",
       "      <td>NaN</td>\n",
       "      <td>-0.058244</td>\n",
       "      <td>0.023508</td>\n",
       "      <td>-0.080285</td>\n",
       "      <td>0.134157</td>\n",
       "      <td>-0.038051</td>\n",
       "      <td>-0.026156</td>\n",
       "      <td>-0.012520</td>\n",
       "      <td>0.009924</td>\n",
       "      <td>-0.107658</td>\n",
       "      <td>...</td>\n",
       "      <td>-0.018893</td>\n",
       "      <td>0.024957</td>\n",
       "      <td>-0.003495</td>\n",
       "      <td>0.005098</td>\n",
       "      <td>0.396175</td>\n",
       "      <td>-0.106789</td>\n",
       "      <td>-0.148974</td>\n",
       "      <td>-0.020162</td>\n",
       "      <td>0.024480</td>\n",
       "      <td>0.079654</td>\n",
       "    </tr>\n",
       "    <tr>\n",
       "      <th>3</th>\n",
       "      <td>NaN</td>\n",
       "      <td>0.028717</td>\n",
       "      <td>0.053946</td>\n",
       "      <td>-0.028698</td>\n",
       "      <td>0.020846</td>\n",
       "      <td>0.033648</td>\n",
       "      <td>-0.004340</td>\n",
       "      <td>0.015429</td>\n",
       "      <td>0.040168</td>\n",
       "      <td>-0.049331</td>\n",
       "      <td>...</td>\n",
       "      <td>-0.051430</td>\n",
       "      <td>0.002616</td>\n",
       "      <td>-0.019468</td>\n",
       "      <td>-0.009130</td>\n",
       "      <td>0.007606</td>\n",
       "      <td>-0.058384</td>\n",
       "      <td>-0.046186</td>\n",
       "      <td>0.003295</td>\n",
       "      <td>-0.001180</td>\n",
       "      <td>0.020363</td>\n",
       "    </tr>\n",
       "    <tr>\n",
       "      <th>4</th>\n",
       "      <td>NaN</td>\n",
       "      <td>-0.039508</td>\n",
       "      <td>-0.031739</td>\n",
       "      <td>-0.026506</td>\n",
       "      <td>-0.196860</td>\n",
       "      <td>-0.014045</td>\n",
       "      <td>0.060431</td>\n",
       "      <td>0.029966</td>\n",
       "      <td>-0.002132</td>\n",
       "      <td>-0.024185</td>\n",
       "      <td>...</td>\n",
       "      <td>-0.032316</td>\n",
       "      <td>-0.007397</td>\n",
       "      <td>-0.003832</td>\n",
       "      <td>0.021298</td>\n",
       "      <td>0.012168</td>\n",
       "      <td>-0.002909</td>\n",
       "      <td>0.143825</td>\n",
       "      <td>0.013138</td>\n",
       "      <td>0.009396</td>\n",
       "      <td>0.025272</td>\n",
       "    </tr>\n",
       "  </tbody>\n",
       "</table>\n",
       "<p>4 rows × 33 columns</p>\n",
       "</div>"
      ],
      "text/plain": [
       "Yil    1987      1988      1989      1990      1991      1992      1993  \\\n",
       "Hafta                                                                     \n",
       "1       NaN       NaN       NaN       NaN       NaN       NaN       NaN   \n",
       "2       NaN -0.058244  0.023508 -0.080285  0.134157 -0.038051 -0.026156   \n",
       "3       NaN  0.028717  0.053946 -0.028698  0.020846  0.033648 -0.004340   \n",
       "4       NaN -0.039508 -0.031739 -0.026506 -0.196860 -0.014045  0.060431   \n",
       "\n",
       "Yil        1994      1995      1996    ...         2010      2011      2012  \\\n",
       "Hafta                                  ...                                    \n",
       "1           NaN       NaN       NaN    ...          NaN       NaN       NaN   \n",
       "2     -0.012520  0.009924 -0.107658    ...    -0.018893  0.024957 -0.003495   \n",
       "3      0.015429  0.040168 -0.049331    ...    -0.051430  0.002616 -0.019468   \n",
       "4      0.029966 -0.002132 -0.024185    ...    -0.032316 -0.007397 -0.003832   \n",
       "\n",
       "Yil        2013      2014      2015      2016      2017      2018      2019  \n",
       "Hafta                                                                        \n",
       "1           NaN       NaN       NaN       NaN       NaN       NaN       NaN  \n",
       "2      0.005098  0.396175 -0.106789 -0.148974 -0.020162  0.024480  0.079654  \n",
       "3     -0.009130  0.007606 -0.058384 -0.046186  0.003295 -0.001180  0.020363  \n",
       "4      0.021298  0.012168 -0.002909  0.143825  0.013138  0.009396  0.025272  \n",
       "\n",
       "[4 rows x 33 columns]"
      ]
     },
     "execution_count": 56,
     "metadata": {},
     "output_type": "execute_result"
    }
   ],
   "source": [
    "ptpc.head(4)"
   ]
  },
  {
   "cell_type": "markdown",
   "metadata": {},
   "source": [
    "İlk satır hep NaN, yani hesaplanamadı, Çünkü ilk satır yani hafta 1'in üstünde bir değer yok. \n",
    "\n",
    "Şimdi bir de grafikleyelim, haftalık ortalama % değişimleri."
   ]
  },
  {
   "cell_type": "code",
   "execution_count": 57,
   "metadata": {},
   "outputs": [
    {
     "data": {
      "image/png": "[encoded data removed]",
      "text/plain": [
       "<Figure size 432x288 with 1 Axes>"
      ]
     },
     "metadata": {
      "needs_background": "light"
     },
     "output_type": "display_data"
    }
   ],
   "source": [
    "plot(ptpc.mean(axis=1))\n",
    "title(\"Haftalık petrol fiyat değişimleri(1987-2019)\")\n",
    "xlabel(\"Haftalar\")\n",
    "ylabel(\"Haftadan Haftaya % değişim\");"
   ]
  },
  {
   "cell_type": "markdown",
   "metadata": {},
   "source": [
    "#### 5 ve 10 yıllık ortalama haftalık fiyatlar\n",
    "\n",
    "% değişimler yerine, dikkatimizi tekrar orjinal veriler **pt** 'ye çevirelim. Son 5 ve 10 yıldaki fiyat ortalamalarını çıkarmaya çalışalım\n",
    " \n",
    "* Yıl verilerini oluştur range(2014, 2019)   ---> 2014,2015,2016,2017,2018\n",
    "* **pt** verisetinde bu yılları seç          ---> pt.loc[:range(2014,2019)]\n",
    "* Seçtiğimiz yıllardaki hafta ortalamaları al ---> mean(axis=1)\n",
    "* 53ncü haftayı atla                         ---> head(52)"
   ]
  },
  {
   "cell_type": "code",
   "execution_count": 58,
   "metadata": {},
   "outputs": [
    {
     "data": {
      "text/plain": [
       "[<matplotlib.lines.Line2D at 0x7f37849109e8>]"
      ]
     },
     "execution_count": 58,
     "metadata": {},
     "output_type": "execute_result"
    },
    {
     "data": {
      "image/png": "[encoded data removed]",
      "text/plain": [
       "<Figure size 432x288 with 1 Axes>"
      ]
     },
     "metadata": {
      "needs_background": "light"
     },
     "output_type": "display_data"
    }
   ],
   "source": [
    "# First 5 years 2014,2015,2016,2017,2018\n",
    "plot(pt.loc[:,range(2014,2019)].mean(axis=1).head(52))"
   ]
  },
  {
   "cell_type": "markdown",
   "metadata": {},
   "source": [
    "Şimdi 10 yılı görelim"
   ]
  },
  {
   "cell_type": "code",
   "execution_count": 59,
   "metadata": {},
   "outputs": [
    {
     "data": {
      "image/png": "[encoded data removed]",
      "text/plain": [
       "<Figure size 432x288 with 1 Axes>"
      ]
     },
     "metadata": {
      "needs_background": "light"
     },
     "output_type": "display_data"
    }
   ],
   "source": [
    "# 10 years of average weekly prices\n",
    "plot(pt.loc[:,range(2009,2019)].mean(axis=1).head(52));"
   ]
  },
  {
   "cell_type": "markdown",
   "metadata": {},
   "source": [
    "10 yıllık ortalamada, 10ncu hafta civarı büyük bir artış gördük. Fakat benim tavsiyem son 5 yıla bakmak çünkü ABD şeyl üretimi son 5 yılda ana etkisini oluşturdu. Ben 5 yılı yapayım, siz 10 yılı deneyebilirsiniz. \n",
    "\n",
    "Bu sefer veriyi alıp, yüzde değişimlere bakalım **pct_change** ile"
   ]
  },
  {
   "cell_type": "code",
   "execution_count": 60,
   "metadata": {},
   "outputs": [
    {
     "data": {
      "image/png": "[encoded data removed]",
      "text/plain": [
       "<Figure size 432x288 with 1 Axes>"
      ]
     },
     "metadata": {
      "needs_background": "light"
     },
     "output_type": "display_data"
    }
   ],
   "source": [
    "pt_haftalik=pt.loc[:,range(2014,2019)].mean(axis=1).head(52)\n",
    "plot(pt_haftalik.pct_change());"
   ]
  },
  {
   "cell_type": "markdown",
   "metadata": {},
   "source": [
    "5 yılda bir şeye dikkat ettiniz mi? Yılın başında bir sürü artış, son çeyrekte ise bir sürü düşüş (0'ın altında değişim var)\n",
    "\n",
    "Şimdi bu değişimlere de yakından bakalım. Kodumuz güzel gözüksün diye yüzde değişimleri ayrı bir değişkene atalım"
   ]
  },
  {
   "cell_type": "code",
   "execution_count": 61,
   "metadata": {},
   "outputs": [],
   "source": [
    "pt_haftalik_pc=pt_haftalik.pct_change()"
   ]
  },
  {
   "cell_type": "markdown",
   "metadata": {},
   "source": [
    "Bu sefer mutlak değer 2%'nin üzerindeki değişimleri görmeye çalışalım.\n",
    "* Yüzde değişimin abs ile mutlak değerini alalım---->   abs(pt_weekly_pc)>0.02\n",
    "* Şimdi de bu değerleri görelim                 ---->   pt_weekly_pc[abs(pt_weekly_pc)>0.02]"
   ]
  },
  {
   "cell_type": "code",
   "execution_count": 62,
   "metadata": {},
   "outputs": [
    {
     "data": {
      "text/plain": [
       "Hafta\n",
       "2     0.068843\n",
       "8     0.029134\n",
       "15    0.042727\n",
       "46   -0.037651\n",
       "51   -0.037612\n",
       "dtype: float64"
      ]
     },
     "execution_count": 62,
     "metadata": {},
     "output_type": "execute_result"
    }
   ],
   "source": [
    "pt_haftalik_pc[abs(pt_haftalik_pc)>0.029]"
   ]
  },
  {
   "cell_type": "markdown",
   "metadata": {},
   "source": [
    "## Haftaları Tarihlere Çevirme\n",
    "\n",
    "%2'nin(+-%2) üzerinde değişimlerin olduğu hafta rakamlarını biliyoruz, fakat bunlar bu sene(2019)'da hangi tarihlere denk geliyor. \n",
    "\n",
    "Beni işi birazda daraltmak adına 2.9% (tamamen rastsal), değişimlerin üzerindeki değişim haftalarını alıyorum. Önce bu verilerin olduğu hafta rakamlarını (.index.values) ile alıyor **strptime** komutu ile de tarihe çeviriyorum. Tarih çevrimlerinden nefret ediyorum....\n"
   ]
  },
  {
   "cell_type": "code",
   "execution_count": 63,
   "metadata": {},
   "outputs": [
    {
     "name": "stdout",
     "output_type": "stream",
     "text": [
      "Mon Jan 14 00:00:00 2019\n",
      "Mon Feb 25 00:00:00 2019\n",
      "Mon Apr 15 00:00:00 2019\n",
      "Mon Nov 18 00:00:00 2019\n",
      "Mon Dec 23 00:00:00 2019\n"
     ]
    }
   ],
   "source": [
    "for hafta in pt_haftalik_pc[abs(pt_haftalik_pc)>0.029].index.values:\n",
    "    print(time.asctime(time.strptime('{} {} 1'.format(2019, hafta), '%Y %W %w')))"
   ]
  },
  {
   "cell_type": "markdown",
   "metadata": {},
   "source": [
    "Son 5 yılda, en güçlü \n",
    "* Fiyat artışları, Ocak'ın 2. haftası, Şubat'ın son haftası ve Nisan ortasında görüyoruz (pozitif değerler)\n",
    "* Fiyat düşüşlerini ise Kasım ve Aralık'ta görüyoruz"
   ]
  },
  {
   "cell_type": "markdown",
   "metadata": {},
   "source": [
    "## Aylık veri\n",
    "\n",
    "Aylık analiz için bir farklı adımımız daha var. Bunun için bir önceki senenin Aralık aylarını Ocak ayının önüne koyacağız. Bu şekilde Ocak aylarındaki değişimleri de hesaplama şansımız olacak.\n",
    "\n",
    "Bunun için son satır (12. ay = Aralık) alıp, bir sütun sağa kaydırıp (1987 ARalık 1988 Ocak'tan önce gelecek şekilde) en üst satıra taşıyoruz.\n",
    "\n",
    "Adımlarımız ise şöyle:\n",
    " * Pivot tablo ile aylık verileri ana sütuna al\n",
    " * 12. satırdaki Aralık değerlerini bir sütun kaydı (shift(1)) ve en başa 0.ay olarak ekle\n",
    " * Yüzde değişimleri hesapla\n",
    " "
   ]
  },
  {
   "cell_type": "code",
   "execution_count": 64,
   "metadata": {},
   "outputs": [],
   "source": [
    "# Prices monthly data to pm variable\n",
    "pa=prices.pivot_table( values='Europe Brent Spot Price FOB (Dollars per Barrel)', index=['Ay'],\n",
    "                     columns=['Yil'], aggfunc=np.mean)"
   ]
  },
  {
   "cell_type": "markdown",
   "metadata": {},
   "source": [
    "Yeni verimizin ilk 4 satırına bakalım"
   ]
  },
  {
   "cell_type": "code",
   "execution_count": 65,
   "metadata": {},
   "outputs": [
    {
     "data": {
      "text/html": [
       "<div>\n",
       "<style scoped>\n",
       "    .dataframe tbody tr th:only-of-type {\n",
       "        vertical-align: middle;\n",
       "    }\n",
       "\n",
       "    .dataframe tbody tr th {\n",
       "        vertical-align: top;\n",
       "    }\n",
       "\n",
       "    .dataframe thead th {\n",
       "        text-align: right;\n",
       "    }\n",
       "</style>\n",
       "<table border=\"1\" class=\"dataframe\">\n",
       "  <thead>\n",
       "    <tr style=\"text-align: right;\">\n",
       "      <th>Yil</th>\n",
       "      <th>1987</th>\n",
       "      <th>1988</th>\n",
       "      <th>1989</th>\n",
       "      <th>1990</th>\n",
       "      <th>1991</th>\n",
       "      <th>1992</th>\n",
       "      <th>1993</th>\n",
       "      <th>1994</th>\n",
       "      <th>1995</th>\n",
       "      <th>1996</th>\n",
       "      <th>...</th>\n",
       "      <th>2010</th>\n",
       "      <th>2011</th>\n",
       "      <th>2012</th>\n",
       "      <th>2013</th>\n",
       "      <th>2014</th>\n",
       "      <th>2015</th>\n",
       "      <th>2016</th>\n",
       "      <th>2017</th>\n",
       "      <th>2018</th>\n",
       "      <th>2019</th>\n",
       "    </tr>\n",
       "    <tr>\n",
       "      <th>Ay</th>\n",
       "      <th></th>\n",
       "      <th></th>\n",
       "      <th></th>\n",
       "      <th></th>\n",
       "      <th></th>\n",
       "      <th></th>\n",
       "      <th></th>\n",
       "      <th></th>\n",
       "      <th></th>\n",
       "      <th></th>\n",
       "      <th></th>\n",
       "      <th></th>\n",
       "      <th></th>\n",
       "      <th></th>\n",
       "      <th></th>\n",
       "      <th></th>\n",
       "      <th></th>\n",
       "      <th></th>\n",
       "      <th></th>\n",
       "      <th></th>\n",
       "      <th></th>\n",
       "    </tr>\n",
       "  </thead>\n",
       "  <tbody>\n",
       "    <tr>\n",
       "      <th>1</th>\n",
       "      <td>NaN</td>\n",
       "      <td>16.749444</td>\n",
       "      <td>17.171905</td>\n",
       "      <td>21.251818</td>\n",
       "      <td>23.566364</td>\n",
       "      <td>18.163636</td>\n",
       "      <td>17.386000</td>\n",
       "      <td>14.291500</td>\n",
       "      <td>16.551905</td>\n",
       "      <td>17.853182</td>\n",
       "      <td>...</td>\n",
       "      <td>76.167368</td>\n",
       "      <td>96.523500</td>\n",
       "      <td>110.686000</td>\n",
       "      <td>112.960000</td>\n",
       "      <td>108.117727</td>\n",
       "      <td>47.759500</td>\n",
       "      <td>30.699500</td>\n",
       "      <td>54.576667</td>\n",
       "      <td>69.077273</td>\n",
       "      <td>59.409545</td>\n",
       "    </tr>\n",
       "    <tr>\n",
       "      <th>2</th>\n",
       "      <td>NaN</td>\n",
       "      <td>15.729524</td>\n",
       "      <td>16.888500</td>\n",
       "      <td>19.813500</td>\n",
       "      <td>19.536000</td>\n",
       "      <td>18.053500</td>\n",
       "      <td>18.466316</td>\n",
       "      <td>13.802000</td>\n",
       "      <td>17.114500</td>\n",
       "      <td>17.999048</td>\n",
       "      <td>...</td>\n",
       "      <td>73.752105</td>\n",
       "      <td>103.716316</td>\n",
       "      <td>119.327000</td>\n",
       "      <td>116.050526</td>\n",
       "      <td>108.900526</td>\n",
       "      <td>58.095500</td>\n",
       "      <td>32.181500</td>\n",
       "      <td>54.869500</td>\n",
       "      <td>65.317500</td>\n",
       "      <td>62.060000</td>\n",
       "    </tr>\n",
       "    <tr>\n",
       "      <th>3</th>\n",
       "      <td>NaN</td>\n",
       "      <td>14.731304</td>\n",
       "      <td>18.700952</td>\n",
       "      <td>18.387273</td>\n",
       "      <td>19.082500</td>\n",
       "      <td>17.630909</td>\n",
       "      <td>18.785217</td>\n",
       "      <td>13.822609</td>\n",
       "      <td>17.006522</td>\n",
       "      <td>19.851905</td>\n",
       "      <td>...</td>\n",
       "      <td>78.827391</td>\n",
       "      <td>114.643478</td>\n",
       "      <td>125.445455</td>\n",
       "      <td>108.474000</td>\n",
       "      <td>107.480952</td>\n",
       "      <td>55.885455</td>\n",
       "      <td>38.210455</td>\n",
       "      <td>51.589130</td>\n",
       "      <td>66.016667</td>\n",
       "      <td>NaN</td>\n",
       "    </tr>\n",
       "    <tr>\n",
       "      <th>4</th>\n",
       "      <td>NaN</td>\n",
       "      <td>16.595263</td>\n",
       "      <td>20.319500</td>\n",
       "      <td>16.612105</td>\n",
       "      <td>19.180000</td>\n",
       "      <td>18.919048</td>\n",
       "      <td>18.674500</td>\n",
       "      <td>15.231579</td>\n",
       "      <td>18.648333</td>\n",
       "      <td>20.900500</td>\n",
       "      <td>...</td>\n",
       "      <td>84.817619</td>\n",
       "      <td>123.258889</td>\n",
       "      <td>119.421667</td>\n",
       "      <td>102.248182</td>\n",
       "      <td>107.755238</td>\n",
       "      <td>59.524286</td>\n",
       "      <td>41.583333</td>\n",
       "      <td>52.307895</td>\n",
       "      <td>72.106000</td>\n",
       "      <td>NaN</td>\n",
       "    </tr>\n",
       "  </tbody>\n",
       "</table>\n",
       "<p>4 rows × 33 columns</p>\n",
       "</div>"
      ],
      "text/plain": [
       "Yil  1987       1988       1989       1990       1991       1992       1993  \\\n",
       "Ay                                                                            \n",
       "1     NaN  16.749444  17.171905  21.251818  23.566364  18.163636  17.386000   \n",
       "2     NaN  15.729524  16.888500  19.813500  19.536000  18.053500  18.466316   \n",
       "3     NaN  14.731304  18.700952  18.387273  19.082500  17.630909  18.785217   \n",
       "4     NaN  16.595263  20.319500  16.612105  19.180000  18.919048  18.674500   \n",
       "\n",
       "Yil       1994       1995       1996    ...           2010        2011  \\\n",
       "Ay                                      ...                              \n",
       "1    14.291500  16.551905  17.853182    ...      76.167368   96.523500   \n",
       "2    13.802000  17.114500  17.999048    ...      73.752105  103.716316   \n",
       "3    13.822609  17.006522  19.851905    ...      78.827391  114.643478   \n",
       "4    15.231579  18.648333  20.900500    ...      84.817619  123.258889   \n",
       "\n",
       "Yil        2012        2013        2014       2015       2016       2017  \\\n",
       "Ay                                                                         \n",
       "1    110.686000  112.960000  108.117727  47.759500  30.699500  54.576667   \n",
       "2    119.327000  116.050526  108.900526  58.095500  32.181500  54.869500   \n",
       "3    125.445455  108.474000  107.480952  55.885455  38.210455  51.589130   \n",
       "4    119.421667  102.248182  107.755238  59.524286  41.583333  52.307895   \n",
       "\n",
       "Yil       2018       2019  \n",
       "Ay                         \n",
       "1    69.077273  59.409545  \n",
       "2    65.317500  62.060000  \n",
       "3    66.016667        NaN  \n",
       "4    72.106000        NaN  \n",
       "\n",
       "[4 rows x 33 columns]"
      ]
     },
     "execution_count": 65,
     "metadata": {},
     "output_type": "execute_result"
    }
   ],
   "source": [
    "pa.head(4)"
   ]
  },
  {
   "cell_type": "markdown",
   "metadata": {},
   "source": [
    "Şimdi dikkat\n",
    "\n",
    "* **pa.loc[12,:]** 12nci satırdaki Aralık verilerini verecek\n",
    "* **.shift(1)** ile 1987 Aralık değeri 1988 Sütununa kayacak\n",
    "* Bu kayan veriyi de 0 (sıfır) endeksi ile en başa yapıştıracağız"
   ]
  },
  {
   "cell_type": "code",
   "execution_count": 66,
   "metadata": {},
   "outputs": [
    {
     "data": {
      "text/html": [
       "<div>\n",
       "<style scoped>\n",
       "    .dataframe tbody tr th:only-of-type {\n",
       "        vertical-align: middle;\n",
       "    }\n",
       "\n",
       "    .dataframe tbody tr th {\n",
       "        vertical-align: top;\n",
       "    }\n",
       "\n",
       "    .dataframe thead th {\n",
       "        text-align: right;\n",
       "    }\n",
       "</style>\n",
       "<table border=\"1\" class=\"dataframe\">\n",
       "  <thead>\n",
       "    <tr style=\"text-align: right;\">\n",
       "      <th>Yil</th>\n",
       "      <th>1987</th>\n",
       "      <th>1988</th>\n",
       "      <th>1989</th>\n",
       "      <th>1990</th>\n",
       "      <th>1991</th>\n",
       "      <th>1992</th>\n",
       "      <th>1993</th>\n",
       "      <th>1994</th>\n",
       "      <th>1995</th>\n",
       "      <th>1996</th>\n",
       "      <th>...</th>\n",
       "      <th>2010</th>\n",
       "      <th>2011</th>\n",
       "      <th>2012</th>\n",
       "      <th>2013</th>\n",
       "      <th>2014</th>\n",
       "      <th>2015</th>\n",
       "      <th>2016</th>\n",
       "      <th>2017</th>\n",
       "      <th>2018</th>\n",
       "      <th>2019</th>\n",
       "    </tr>\n",
       "    <tr>\n",
       "      <th>Ay</th>\n",
       "      <th></th>\n",
       "      <th></th>\n",
       "      <th></th>\n",
       "      <th></th>\n",
       "      <th></th>\n",
       "      <th></th>\n",
       "      <th></th>\n",
       "      <th></th>\n",
       "      <th></th>\n",
       "      <th></th>\n",
       "      <th></th>\n",
       "      <th></th>\n",
       "      <th></th>\n",
       "      <th></th>\n",
       "      <th></th>\n",
       "      <th></th>\n",
       "      <th></th>\n",
       "      <th></th>\n",
       "      <th></th>\n",
       "      <th></th>\n",
       "      <th></th>\n",
       "    </tr>\n",
       "  </thead>\n",
       "  <tbody>\n",
       "    <tr>\n",
       "      <th>1</th>\n",
       "      <td>NaN</td>\n",
       "      <td>16.749444</td>\n",
       "      <td>17.171905</td>\n",
       "      <td>21.251818</td>\n",
       "      <td>23.566364</td>\n",
       "      <td>18.163636</td>\n",
       "      <td>17.386000</td>\n",
       "      <td>14.291500</td>\n",
       "      <td>16.551905</td>\n",
       "      <td>17.853182</td>\n",
       "      <td>...</td>\n",
       "      <td>76.167368</td>\n",
       "      <td>96.523500</td>\n",
       "      <td>110.686000</td>\n",
       "      <td>112.960000</td>\n",
       "      <td>108.117727</td>\n",
       "      <td>47.759500</td>\n",
       "      <td>30.699500</td>\n",
       "      <td>54.576667</td>\n",
       "      <td>69.077273</td>\n",
       "      <td>59.409545</td>\n",
       "    </tr>\n",
       "    <tr>\n",
       "      <th>2</th>\n",
       "      <td>NaN</td>\n",
       "      <td>15.729524</td>\n",
       "      <td>16.888500</td>\n",
       "      <td>19.813500</td>\n",
       "      <td>19.536000</td>\n",
       "      <td>18.053500</td>\n",
       "      <td>18.466316</td>\n",
       "      <td>13.802000</td>\n",
       "      <td>17.114500</td>\n",
       "      <td>17.999048</td>\n",
       "      <td>...</td>\n",
       "      <td>73.752105</td>\n",
       "      <td>103.716316</td>\n",
       "      <td>119.327000</td>\n",
       "      <td>116.050526</td>\n",
       "      <td>108.900526</td>\n",
       "      <td>58.095500</td>\n",
       "      <td>32.181500</td>\n",
       "      <td>54.869500</td>\n",
       "      <td>65.317500</td>\n",
       "      <td>62.060000</td>\n",
       "    </tr>\n",
       "    <tr>\n",
       "      <th>3</th>\n",
       "      <td>NaN</td>\n",
       "      <td>14.731304</td>\n",
       "      <td>18.700952</td>\n",
       "      <td>18.387273</td>\n",
       "      <td>19.082500</td>\n",
       "      <td>17.630909</td>\n",
       "      <td>18.785217</td>\n",
       "      <td>13.822609</td>\n",
       "      <td>17.006522</td>\n",
       "      <td>19.851905</td>\n",
       "      <td>...</td>\n",
       "      <td>78.827391</td>\n",
       "      <td>114.643478</td>\n",
       "      <td>125.445455</td>\n",
       "      <td>108.474000</td>\n",
       "      <td>107.480952</td>\n",
       "      <td>55.885455</td>\n",
       "      <td>38.210455</td>\n",
       "      <td>51.589130</td>\n",
       "      <td>66.016667</td>\n",
       "      <td>NaN</td>\n",
       "    </tr>\n",
       "  </tbody>\n",
       "</table>\n",
       "<p>3 rows × 33 columns</p>\n",
       "</div>"
      ],
      "text/plain": [
       "Yil  1987       1988       1989       1990       1991       1992       1993  \\\n",
       "Ay                                                                            \n",
       "1     NaN  16.749444  17.171905  21.251818  23.566364  18.163636  17.386000   \n",
       "2     NaN  15.729524  16.888500  19.813500  19.536000  18.053500  18.466316   \n",
       "3     NaN  14.731304  18.700952  18.387273  19.082500  17.630909  18.785217   \n",
       "\n",
       "Yil       1994       1995       1996    ...           2010        2011  \\\n",
       "Ay                                      ...                              \n",
       "1    14.291500  16.551905  17.853182    ...      76.167368   96.523500   \n",
       "2    13.802000  17.114500  17.999048    ...      73.752105  103.716316   \n",
       "3    13.822609  17.006522  19.851905    ...      78.827391  114.643478   \n",
       "\n",
       "Yil        2012        2013        2014       2015       2016       2017  \\\n",
       "Ay                                                                         \n",
       "1    110.686000  112.960000  108.117727  47.759500  30.699500  54.576667   \n",
       "2    119.327000  116.050526  108.900526  58.095500  32.181500  54.869500   \n",
       "3    125.445455  108.474000  107.480952  55.885455  38.210455  51.589130   \n",
       "\n",
       "Yil       2018       2019  \n",
       "Ay                         \n",
       "1    69.077273  59.409545  \n",
       "2    65.317500  62.060000  \n",
       "3    66.016667        NaN  \n",
       "\n",
       "[3 rows x 33 columns]"
      ]
     },
     "execution_count": 66,
     "metadata": {},
     "output_type": "execute_result"
    }
   ],
   "source": [
    "pa.loc[0]=pa.loc[12,:].shift(1)\n",
    "pa.head(3)"
   ]
  },
  {
   "cell_type": "markdown",
   "metadata": {},
   "source": [
    "Bizim sıfırıncı sütun nerede? bir de son 3 satıra bakalım"
   ]
  },
  {
   "cell_type": "code",
   "execution_count": 67,
   "metadata": {},
   "outputs": [
    {
     "data": {
      "text/html": [
       "<div>\n",
       "<style scoped>\n",
       "    .dataframe tbody tr th:only-of-type {\n",
       "        vertical-align: middle;\n",
       "    }\n",
       "\n",
       "    .dataframe tbody tr th {\n",
       "        vertical-align: top;\n",
       "    }\n",
       "\n",
       "    .dataframe thead th {\n",
       "        text-align: right;\n",
       "    }\n",
       "</style>\n",
       "<table border=\"1\" class=\"dataframe\">\n",
       "  <thead>\n",
       "    <tr style=\"text-align: right;\">\n",
       "      <th>Yil</th>\n",
       "      <th>1987</th>\n",
       "      <th>1988</th>\n",
       "      <th>1989</th>\n",
       "      <th>1990</th>\n",
       "      <th>1991</th>\n",
       "      <th>1992</th>\n",
       "      <th>1993</th>\n",
       "      <th>1994</th>\n",
       "      <th>1995</th>\n",
       "      <th>1996</th>\n",
       "      <th>...</th>\n",
       "      <th>2010</th>\n",
       "      <th>2011</th>\n",
       "      <th>2012</th>\n",
       "      <th>2013</th>\n",
       "      <th>2014</th>\n",
       "      <th>2015</th>\n",
       "      <th>2016</th>\n",
       "      <th>2017</th>\n",
       "      <th>2018</th>\n",
       "      <th>2019</th>\n",
       "    </tr>\n",
       "    <tr>\n",
       "      <th>Ay</th>\n",
       "      <th></th>\n",
       "      <th></th>\n",
       "      <th></th>\n",
       "      <th></th>\n",
       "      <th></th>\n",
       "      <th></th>\n",
       "      <th></th>\n",
       "      <th></th>\n",
       "      <th></th>\n",
       "      <th></th>\n",
       "      <th></th>\n",
       "      <th></th>\n",
       "      <th></th>\n",
       "      <th></th>\n",
       "      <th></th>\n",
       "      <th></th>\n",
       "      <th></th>\n",
       "      <th></th>\n",
       "      <th></th>\n",
       "      <th></th>\n",
       "      <th></th>\n",
       "    </tr>\n",
       "  </thead>\n",
       "  <tbody>\n",
       "    <tr>\n",
       "      <th>11</th>\n",
       "      <td>17.780952</td>\n",
       "      <td>13.024545</td>\n",
       "      <td>18.727273</td>\n",
       "      <td>33.067273</td>\n",
       "      <td>21.108571</td>\n",
       "      <td>19.214286</td>\n",
       "      <td>15.196364</td>\n",
       "      <td>17.191364</td>\n",
       "      <td>16.860909</td>\n",
       "      <td>22.759524</td>\n",
       "      <td>...</td>\n",
       "      <td>85.274762</td>\n",
       "      <td>110.768095</td>\n",
       "      <td>109.058571</td>\n",
       "      <td>107.792000</td>\n",
       "      <td>79.437895</td>\n",
       "      <td>44.267619</td>\n",
       "      <td>44.734091</td>\n",
       "      <td>62.714091</td>\n",
       "      <td>64.748182</td>\n",
       "      <td>NaN</td>\n",
       "    </tr>\n",
       "    <tr>\n",
       "      <th>12</th>\n",
       "      <td>17.054091</td>\n",
       "      <td>15.306667</td>\n",
       "      <td>19.838947</td>\n",
       "      <td>28.273500</td>\n",
       "      <td>18.410952</td>\n",
       "      <td>18.139524</td>\n",
       "      <td>13.725714</td>\n",
       "      <td>15.932000</td>\n",
       "      <td>17.925263</td>\n",
       "      <td>23.783000</td>\n",
       "      <td>...</td>\n",
       "      <td>91.446818</td>\n",
       "      <td>107.870500</td>\n",
       "      <td>109.494000</td>\n",
       "      <td>110.756667</td>\n",
       "      <td>62.335000</td>\n",
       "      <td>38.005455</td>\n",
       "      <td>53.308500</td>\n",
       "      <td>64.373684</td>\n",
       "      <td>57.362353</td>\n",
       "      <td>NaN</td>\n",
       "    </tr>\n",
       "    <tr>\n",
       "      <th>0</th>\n",
       "      <td>NaN</td>\n",
       "      <td>17.054091</td>\n",
       "      <td>15.306667</td>\n",
       "      <td>19.838947</td>\n",
       "      <td>28.273500</td>\n",
       "      <td>18.410952</td>\n",
       "      <td>18.139524</td>\n",
       "      <td>13.725714</td>\n",
       "      <td>15.932000</td>\n",
       "      <td>17.925263</td>\n",
       "      <td>...</td>\n",
       "      <td>74.456364</td>\n",
       "      <td>91.446818</td>\n",
       "      <td>107.870500</td>\n",
       "      <td>109.494000</td>\n",
       "      <td>110.756667</td>\n",
       "      <td>62.335000</td>\n",
       "      <td>38.005455</td>\n",
       "      <td>53.308500</td>\n",
       "      <td>64.373684</td>\n",
       "      <td>57.362353</td>\n",
       "    </tr>\n",
       "  </tbody>\n",
       "</table>\n",
       "<p>3 rows × 33 columns</p>\n",
       "</div>"
      ],
      "text/plain": [
       "Yil       1987       1988       1989       1990       1991       1992  \\\n",
       "Ay                                                                      \n",
       "11   17.780952  13.024545  18.727273  33.067273  21.108571  19.214286   \n",
       "12   17.054091  15.306667  19.838947  28.273500  18.410952  18.139524   \n",
       "0          NaN  17.054091  15.306667  19.838947  28.273500  18.410952   \n",
       "\n",
       "Yil       1993       1994       1995       1996    ...           2010  \\\n",
       "Ay                                                 ...                  \n",
       "11   15.196364  17.191364  16.860909  22.759524    ...      85.274762   \n",
       "12   13.725714  15.932000  17.925263  23.783000    ...      91.446818   \n",
       "0    18.139524  13.725714  15.932000  17.925263    ...      74.456364   \n",
       "\n",
       "Yil        2011        2012        2013        2014       2015       2016  \\\n",
       "Ay                                                                          \n",
       "11   110.768095  109.058571  107.792000   79.437895  44.267619  44.734091   \n",
       "12   107.870500  109.494000  110.756667   62.335000  38.005455  53.308500   \n",
       "0     91.446818  107.870500  109.494000  110.756667  62.335000  38.005455   \n",
       "\n",
       "Yil       2017       2018       2019  \n",
       "Ay                                    \n",
       "11   62.714091  64.748182        NaN  \n",
       "12   64.373684  57.362353        NaN  \n",
       "0    53.308500  64.373684  57.362353  \n",
       "\n",
       "[3 rows x 33 columns]"
      ]
     },
     "execution_count": 67,
     "metadata": {},
     "output_type": "execute_result"
    }
   ],
   "source": [
    "pa.tail(3)"
   ]
  },
  {
   "cell_type": "markdown",
   "metadata": {},
   "source": [
    "Evet 0.satır ekledik ama en sonda kaldı, onu başa almak için endeksi tekrar sırala diyerek, verimizin üzerine yazacağız. Bunun için **sort_index()** komutu yeterli olacak"
   ]
  },
  {
   "cell_type": "code",
   "execution_count": 68,
   "metadata": {},
   "outputs": [
    {
     "data": {
      "text/html": [
       "<div>\n",
       "<style scoped>\n",
       "    .dataframe tbody tr th:only-of-type {\n",
       "        vertical-align: middle;\n",
       "    }\n",
       "\n",
       "    .dataframe tbody tr th {\n",
       "        vertical-align: top;\n",
       "    }\n",
       "\n",
       "    .dataframe thead th {\n",
       "        text-align: right;\n",
       "    }\n",
       "</style>\n",
       "<table border=\"1\" class=\"dataframe\">\n",
       "  <thead>\n",
       "    <tr style=\"text-align: right;\">\n",
       "      <th>Yil</th>\n",
       "      <th>1987</th>\n",
       "      <th>1988</th>\n",
       "      <th>1989</th>\n",
       "      <th>1990</th>\n",
       "      <th>1991</th>\n",
       "      <th>1992</th>\n",
       "      <th>1993</th>\n",
       "      <th>1994</th>\n",
       "      <th>1995</th>\n",
       "      <th>1996</th>\n",
       "      <th>...</th>\n",
       "      <th>2010</th>\n",
       "      <th>2011</th>\n",
       "      <th>2012</th>\n",
       "      <th>2013</th>\n",
       "      <th>2014</th>\n",
       "      <th>2015</th>\n",
       "      <th>2016</th>\n",
       "      <th>2017</th>\n",
       "      <th>2018</th>\n",
       "      <th>2019</th>\n",
       "    </tr>\n",
       "    <tr>\n",
       "      <th>Ay</th>\n",
       "      <th></th>\n",
       "      <th></th>\n",
       "      <th></th>\n",
       "      <th></th>\n",
       "      <th></th>\n",
       "      <th></th>\n",
       "      <th></th>\n",
       "      <th></th>\n",
       "      <th></th>\n",
       "      <th></th>\n",
       "      <th></th>\n",
       "      <th></th>\n",
       "      <th></th>\n",
       "      <th></th>\n",
       "      <th></th>\n",
       "      <th></th>\n",
       "      <th></th>\n",
       "      <th></th>\n",
       "      <th></th>\n",
       "      <th></th>\n",
       "      <th></th>\n",
       "    </tr>\n",
       "  </thead>\n",
       "  <tbody>\n",
       "    <tr>\n",
       "      <th>0</th>\n",
       "      <td>NaN</td>\n",
       "      <td>17.054091</td>\n",
       "      <td>15.306667</td>\n",
       "      <td>19.838947</td>\n",
       "      <td>28.273500</td>\n",
       "      <td>18.410952</td>\n",
       "      <td>18.139524</td>\n",
       "      <td>13.725714</td>\n",
       "      <td>15.932000</td>\n",
       "      <td>17.925263</td>\n",
       "      <td>...</td>\n",
       "      <td>74.456364</td>\n",
       "      <td>91.446818</td>\n",
       "      <td>107.8705</td>\n",
       "      <td>109.494000</td>\n",
       "      <td>110.756667</td>\n",
       "      <td>62.3350</td>\n",
       "      <td>38.005455</td>\n",
       "      <td>53.308500</td>\n",
       "      <td>64.373684</td>\n",
       "      <td>57.362353</td>\n",
       "    </tr>\n",
       "    <tr>\n",
       "      <th>1</th>\n",
       "      <td>NaN</td>\n",
       "      <td>16.749444</td>\n",
       "      <td>17.171905</td>\n",
       "      <td>21.251818</td>\n",
       "      <td>23.566364</td>\n",
       "      <td>18.163636</td>\n",
       "      <td>17.386000</td>\n",
       "      <td>14.291500</td>\n",
       "      <td>16.551905</td>\n",
       "      <td>17.853182</td>\n",
       "      <td>...</td>\n",
       "      <td>76.167368</td>\n",
       "      <td>96.523500</td>\n",
       "      <td>110.6860</td>\n",
       "      <td>112.960000</td>\n",
       "      <td>108.117727</td>\n",
       "      <td>47.7595</td>\n",
       "      <td>30.699500</td>\n",
       "      <td>54.576667</td>\n",
       "      <td>69.077273</td>\n",
       "      <td>59.409545</td>\n",
       "    </tr>\n",
       "    <tr>\n",
       "      <th>2</th>\n",
       "      <td>NaN</td>\n",
       "      <td>15.729524</td>\n",
       "      <td>16.888500</td>\n",
       "      <td>19.813500</td>\n",
       "      <td>19.536000</td>\n",
       "      <td>18.053500</td>\n",
       "      <td>18.466316</td>\n",
       "      <td>13.802000</td>\n",
       "      <td>17.114500</td>\n",
       "      <td>17.999048</td>\n",
       "      <td>...</td>\n",
       "      <td>73.752105</td>\n",
       "      <td>103.716316</td>\n",
       "      <td>119.3270</td>\n",
       "      <td>116.050526</td>\n",
       "      <td>108.900526</td>\n",
       "      <td>58.0955</td>\n",
       "      <td>32.181500</td>\n",
       "      <td>54.869500</td>\n",
       "      <td>65.317500</td>\n",
       "      <td>62.060000</td>\n",
       "    </tr>\n",
       "  </tbody>\n",
       "</table>\n",
       "<p>3 rows × 33 columns</p>\n",
       "</div>"
      ],
      "text/plain": [
       "Yil  1987       1988       1989       1990       1991       1992       1993  \\\n",
       "Ay                                                                            \n",
       "0     NaN  17.054091  15.306667  19.838947  28.273500  18.410952  18.139524   \n",
       "1     NaN  16.749444  17.171905  21.251818  23.566364  18.163636  17.386000   \n",
       "2     NaN  15.729524  16.888500  19.813500  19.536000  18.053500  18.466316   \n",
       "\n",
       "Yil       1994       1995       1996    ...           2010        2011  \\\n",
       "Ay                                      ...                              \n",
       "0    13.725714  15.932000  17.925263    ...      74.456364   91.446818   \n",
       "1    14.291500  16.551905  17.853182    ...      76.167368   96.523500   \n",
       "2    13.802000  17.114500  17.999048    ...      73.752105  103.716316   \n",
       "\n",
       "Yil      2012        2013        2014     2015       2016       2017  \\\n",
       "Ay                                                                     \n",
       "0    107.8705  109.494000  110.756667  62.3350  38.005455  53.308500   \n",
       "1    110.6860  112.960000  108.117727  47.7595  30.699500  54.576667   \n",
       "2    119.3270  116.050526  108.900526  58.0955  32.181500  54.869500   \n",
       "\n",
       "Yil       2018       2019  \n",
       "Ay                         \n",
       "0    64.373684  57.362353  \n",
       "1    69.077273  59.409545  \n",
       "2    65.317500  62.060000  \n",
       "\n",
       "[3 rows x 33 columns]"
      ]
     },
     "execution_count": 68,
     "metadata": {},
     "output_type": "execute_result"
    }
   ],
   "source": [
    "pa=pa.sort_index()\n",
    "pa.head(3)\n"
   ]
  },
  {
   "cell_type": "markdown",
   "metadata": {},
   "source": [
    "Şimdi yüzde değişimleri hesaplayalım"
   ]
  },
  {
   "cell_type": "code",
   "execution_count": 69,
   "metadata": {},
   "outputs": [
    {
     "data": {
      "text/html": [
       "<div>\n",
       "<style scoped>\n",
       "    .dataframe tbody tr th:only-of-type {\n",
       "        vertical-align: middle;\n",
       "    }\n",
       "\n",
       "    .dataframe tbody tr th {\n",
       "        vertical-align: top;\n",
       "    }\n",
       "\n",
       "    .dataframe thead th {\n",
       "        text-align: right;\n",
       "    }\n",
       "</style>\n",
       "<table border=\"1\" class=\"dataframe\">\n",
       "  <thead>\n",
       "    <tr style=\"text-align: right;\">\n",
       "      <th>Yil</th>\n",
       "      <th>1987</th>\n",
       "      <th>1988</th>\n",
       "      <th>1989</th>\n",
       "      <th>1990</th>\n",
       "      <th>1991</th>\n",
       "      <th>1992</th>\n",
       "      <th>1993</th>\n",
       "      <th>1994</th>\n",
       "      <th>1995</th>\n",
       "      <th>1996</th>\n",
       "      <th>...</th>\n",
       "      <th>2010</th>\n",
       "      <th>2011</th>\n",
       "      <th>2012</th>\n",
       "      <th>2013</th>\n",
       "      <th>2014</th>\n",
       "      <th>2015</th>\n",
       "      <th>2016</th>\n",
       "      <th>2017</th>\n",
       "      <th>2018</th>\n",
       "      <th>2019</th>\n",
       "    </tr>\n",
       "    <tr>\n",
       "      <th>Ay</th>\n",
       "      <th></th>\n",
       "      <th></th>\n",
       "      <th></th>\n",
       "      <th></th>\n",
       "      <th></th>\n",
       "      <th></th>\n",
       "      <th></th>\n",
       "      <th></th>\n",
       "      <th></th>\n",
       "      <th></th>\n",
       "      <th></th>\n",
       "      <th></th>\n",
       "      <th></th>\n",
       "      <th></th>\n",
       "      <th></th>\n",
       "      <th></th>\n",
       "      <th></th>\n",
       "      <th></th>\n",
       "      <th></th>\n",
       "      <th></th>\n",
       "      <th></th>\n",
       "    </tr>\n",
       "  </thead>\n",
       "  <tbody>\n",
       "    <tr>\n",
       "      <th>0</th>\n",
       "      <td>NaN</td>\n",
       "      <td>NaN</td>\n",
       "      <td>NaN</td>\n",
       "      <td>NaN</td>\n",
       "      <td>NaN</td>\n",
       "      <td>NaN</td>\n",
       "      <td>NaN</td>\n",
       "      <td>NaN</td>\n",
       "      <td>NaN</td>\n",
       "      <td>NaN</td>\n",
       "      <td>...</td>\n",
       "      <td>NaN</td>\n",
       "      <td>NaN</td>\n",
       "      <td>NaN</td>\n",
       "      <td>NaN</td>\n",
       "      <td>NaN</td>\n",
       "      <td>NaN</td>\n",
       "      <td>NaN</td>\n",
       "      <td>NaN</td>\n",
       "      <td>NaN</td>\n",
       "      <td>NaN</td>\n",
       "    </tr>\n",
       "    <tr>\n",
       "      <th>1</th>\n",
       "      <td>NaN</td>\n",
       "      <td>-0.017864</td>\n",
       "      <td>0.121858</td>\n",
       "      <td>0.071217</td>\n",
       "      <td>-0.166486</td>\n",
       "      <td>-0.013433</td>\n",
       "      <td>-0.041540</td>\n",
       "      <td>0.041221</td>\n",
       "      <td>0.038909</td>\n",
       "      <td>-0.004021</td>\n",
       "      <td>...</td>\n",
       "      <td>0.02298</td>\n",
       "      <td>0.055515</td>\n",
       "      <td>0.026101</td>\n",
       "      <td>0.031655</td>\n",
       "      <td>-0.023826</td>\n",
       "      <td>-0.233825</td>\n",
       "      <td>-0.192234</td>\n",
       "      <td>0.023789</td>\n",
       "      <td>0.073067</td>\n",
       "      <td>0.035689</td>\n",
       "    </tr>\n",
       "    <tr>\n",
       "      <th>2</th>\n",
       "      <td>NaN</td>\n",
       "      <td>-0.060893</td>\n",
       "      <td>-0.016504</td>\n",
       "      <td>-0.067680</td>\n",
       "      <td>-0.171022</td>\n",
       "      <td>-0.006064</td>\n",
       "      <td>0.062137</td>\n",
       "      <td>-0.034251</td>\n",
       "      <td>0.033990</td>\n",
       "      <td>0.008170</td>\n",
       "      <td>...</td>\n",
       "      <td>-0.03171</td>\n",
       "      <td>0.074519</td>\n",
       "      <td>0.078068</td>\n",
       "      <td>0.027359</td>\n",
       "      <td>0.007240</td>\n",
       "      <td>0.216418</td>\n",
       "      <td>0.048274</td>\n",
       "      <td>0.005366</td>\n",
       "      <td>-0.054429</td>\n",
       "      <td>0.044613</td>\n",
       "    </tr>\n",
       "  </tbody>\n",
       "</table>\n",
       "<p>3 rows × 33 columns</p>\n",
       "</div>"
      ],
      "text/plain": [
       "Yil  1987      1988      1989      1990      1991      1992      1993  \\\n",
       "Ay                                                                      \n",
       "0     NaN       NaN       NaN       NaN       NaN       NaN       NaN   \n",
       "1     NaN -0.017864  0.121858  0.071217 -0.166486 -0.013433 -0.041540   \n",
       "2     NaN -0.060893 -0.016504 -0.067680 -0.171022 -0.006064  0.062137   \n",
       "\n",
       "Yil      1994      1995      1996    ...        2010      2011      2012  \\\n",
       "Ay                                   ...                                   \n",
       "0         NaN       NaN       NaN    ...         NaN       NaN       NaN   \n",
       "1    0.041221  0.038909 -0.004021    ...     0.02298  0.055515  0.026101   \n",
       "2   -0.034251  0.033990  0.008170    ...    -0.03171  0.074519  0.078068   \n",
       "\n",
       "Yil      2013      2014      2015      2016      2017      2018      2019  \n",
       "Ay                                                                         \n",
       "0         NaN       NaN       NaN       NaN       NaN       NaN       NaN  \n",
       "1    0.031655 -0.023826 -0.233825 -0.192234  0.023789  0.073067  0.035689  \n",
       "2    0.027359  0.007240  0.216418  0.048274  0.005366 -0.054429  0.044613  \n",
       "\n",
       "[3 rows x 33 columns]"
      ]
     },
     "execution_count": 69,
     "metadata": {},
     "output_type": "execute_result"
    }
   ],
   "source": [
    "# aylık fiyattan aylık değişim\n",
    "pad=pa.pct_change()\n",
    "pad.head(3)"
   ]
  },
  {
   "cell_type": "markdown",
   "metadata": {},
   "source": [
    "0.satır hep NaN. Çünkü üstünde satır olmadığından yüzde değişim hesaplanamadı. Bu yüzden silelim\n",
    "\n",
    "Satırı silmek için **drop** komutunu kullanarak, verinizin üzerine yazmanız lazım"
   ]
  },
  {
   "cell_type": "code",
   "execution_count": 70,
   "metadata": {},
   "outputs": [],
   "source": [
    "pad=pad.drop(pad.index[0])"
   ]
  },
  {
   "cell_type": "code",
   "execution_count": 71,
   "metadata": {},
   "outputs": [
    {
     "data": {
      "text/html": [
       "<div>\n",
       "<style scoped>\n",
       "    .dataframe tbody tr th:only-of-type {\n",
       "        vertical-align: middle;\n",
       "    }\n",
       "\n",
       "    .dataframe tbody tr th {\n",
       "        vertical-align: top;\n",
       "    }\n",
       "\n",
       "    .dataframe thead th {\n",
       "        text-align: right;\n",
       "    }\n",
       "</style>\n",
       "<table border=\"1\" class=\"dataframe\">\n",
       "  <thead>\n",
       "    <tr style=\"text-align: right;\">\n",
       "      <th>Yil</th>\n",
       "      <th>1987</th>\n",
       "      <th>1988</th>\n",
       "      <th>1989</th>\n",
       "      <th>1990</th>\n",
       "      <th>1991</th>\n",
       "      <th>1992</th>\n",
       "      <th>1993</th>\n",
       "      <th>1994</th>\n",
       "      <th>1995</th>\n",
       "      <th>1996</th>\n",
       "      <th>...</th>\n",
       "      <th>2010</th>\n",
       "      <th>2011</th>\n",
       "      <th>2012</th>\n",
       "      <th>2013</th>\n",
       "      <th>2014</th>\n",
       "      <th>2015</th>\n",
       "      <th>2016</th>\n",
       "      <th>2017</th>\n",
       "      <th>2018</th>\n",
       "      <th>2019</th>\n",
       "    </tr>\n",
       "    <tr>\n",
       "      <th>Ay</th>\n",
       "      <th></th>\n",
       "      <th></th>\n",
       "      <th></th>\n",
       "      <th></th>\n",
       "      <th></th>\n",
       "      <th></th>\n",
       "      <th></th>\n",
       "      <th></th>\n",
       "      <th></th>\n",
       "      <th></th>\n",
       "      <th></th>\n",
       "      <th></th>\n",
       "      <th></th>\n",
       "      <th></th>\n",
       "      <th></th>\n",
       "      <th></th>\n",
       "      <th></th>\n",
       "      <th></th>\n",
       "      <th></th>\n",
       "      <th></th>\n",
       "      <th></th>\n",
       "    </tr>\n",
       "  </thead>\n",
       "  <tbody>\n",
       "    <tr>\n",
       "      <th>1</th>\n",
       "      <td>NaN</td>\n",
       "      <td>-0.017864</td>\n",
       "      <td>0.121858</td>\n",
       "      <td>0.071217</td>\n",
       "      <td>-0.166486</td>\n",
       "      <td>-0.013433</td>\n",
       "      <td>-0.041540</td>\n",
       "      <td>0.041221</td>\n",
       "      <td>0.038909</td>\n",
       "      <td>-0.004021</td>\n",
       "      <td>...</td>\n",
       "      <td>0.022980</td>\n",
       "      <td>0.055515</td>\n",
       "      <td>0.026101</td>\n",
       "      <td>0.031655</td>\n",
       "      <td>-0.023826</td>\n",
       "      <td>-0.233825</td>\n",
       "      <td>-0.192234</td>\n",
       "      <td>0.023789</td>\n",
       "      <td>0.073067</td>\n",
       "      <td>0.035689</td>\n",
       "    </tr>\n",
       "    <tr>\n",
       "      <th>2</th>\n",
       "      <td>NaN</td>\n",
       "      <td>-0.060893</td>\n",
       "      <td>-0.016504</td>\n",
       "      <td>-0.067680</td>\n",
       "      <td>-0.171022</td>\n",
       "      <td>-0.006064</td>\n",
       "      <td>0.062137</td>\n",
       "      <td>-0.034251</td>\n",
       "      <td>0.033990</td>\n",
       "      <td>0.008170</td>\n",
       "      <td>...</td>\n",
       "      <td>-0.031710</td>\n",
       "      <td>0.074519</td>\n",
       "      <td>0.078068</td>\n",
       "      <td>0.027359</td>\n",
       "      <td>0.007240</td>\n",
       "      <td>0.216418</td>\n",
       "      <td>0.048274</td>\n",
       "      <td>0.005366</td>\n",
       "      <td>-0.054429</td>\n",
       "      <td>0.044613</td>\n",
       "    </tr>\n",
       "    <tr>\n",
       "      <th>3</th>\n",
       "      <td>NaN</td>\n",
       "      <td>-0.063462</td>\n",
       "      <td>0.107319</td>\n",
       "      <td>-0.071983</td>\n",
       "      <td>-0.023214</td>\n",
       "      <td>-0.023408</td>\n",
       "      <td>0.017269</td>\n",
       "      <td>0.001493</td>\n",
       "      <td>-0.006309</td>\n",
       "      <td>0.102942</td>\n",
       "      <td>...</td>\n",
       "      <td>0.068815</td>\n",
       "      <td>0.105356</td>\n",
       "      <td>0.051275</td>\n",
       "      <td>-0.065286</td>\n",
       "      <td>-0.013036</td>\n",
       "      <td>-0.038042</td>\n",
       "      <td>0.187342</td>\n",
       "      <td>-0.059785</td>\n",
       "      <td>0.010704</td>\n",
       "      <td>0.000000</td>\n",
       "    </tr>\n",
       "    <tr>\n",
       "      <th>4</th>\n",
       "      <td>NaN</td>\n",
       "      <td>0.126530</td>\n",
       "      <td>0.086549</td>\n",
       "      <td>-0.096543</td>\n",
       "      <td>0.005109</td>\n",
       "      <td>0.073061</td>\n",
       "      <td>-0.005894</td>\n",
       "      <td>0.101932</td>\n",
       "      <td>0.096540</td>\n",
       "      <td>0.052821</td>\n",
       "      <td>...</td>\n",
       "      <td>0.075992</td>\n",
       "      <td>0.075150</td>\n",
       "      <td>-0.048019</td>\n",
       "      <td>-0.057395</td>\n",
       "      <td>0.002552</td>\n",
       "      <td>0.065112</td>\n",
       "      <td>0.088271</td>\n",
       "      <td>0.013932</td>\n",
       "      <td>0.092239</td>\n",
       "      <td>0.000000</td>\n",
       "    </tr>\n",
       "    <tr>\n",
       "      <th>5</th>\n",
       "      <td>NaN</td>\n",
       "      <td>-0.016943</td>\n",
       "      <td>-0.082990</td>\n",
       "      <td>-0.015641</td>\n",
       "      <td>0.000355</td>\n",
       "      <td>0.051242</td>\n",
       "      <td>-0.008922</td>\n",
       "      <td>0.062792</td>\n",
       "      <td>-0.015949</td>\n",
       "      <td>-0.083526</td>\n",
       "      <td>...</td>\n",
       "      <td>-0.104602</td>\n",
       "      <td>-0.067093</td>\n",
       "      <td>-0.076051</td>\n",
       "      <td>0.003036</td>\n",
       "      <td>0.016555</td>\n",
       "      <td>0.076451</td>\n",
       "      <td>0.124065</td>\n",
       "      <td>-0.037879</td>\n",
       "      <td>0.067529</td>\n",
       "      <td>0.000000</td>\n",
       "    </tr>\n",
       "  </tbody>\n",
       "</table>\n",
       "<p>5 rows × 33 columns</p>\n",
       "</div>"
      ],
      "text/plain": [
       "Yil  1987      1988      1989      1990      1991      1992      1993  \\\n",
       "Ay                                                                      \n",
       "1     NaN -0.017864  0.121858  0.071217 -0.166486 -0.013433 -0.041540   \n",
       "2     NaN -0.060893 -0.016504 -0.067680 -0.171022 -0.006064  0.062137   \n",
       "3     NaN -0.063462  0.107319 -0.071983 -0.023214 -0.023408  0.017269   \n",
       "4     NaN  0.126530  0.086549 -0.096543  0.005109  0.073061 -0.005894   \n",
       "5     NaN -0.016943 -0.082990 -0.015641  0.000355  0.051242 -0.008922   \n",
       "\n",
       "Yil      1994      1995      1996    ...         2010      2011      2012  \\\n",
       "Ay                                   ...                                    \n",
       "1    0.041221  0.038909 -0.004021    ...     0.022980  0.055515  0.026101   \n",
       "2   -0.034251  0.033990  0.008170    ...    -0.031710  0.074519  0.078068   \n",
       "3    0.001493 -0.006309  0.102942    ...     0.068815  0.105356  0.051275   \n",
       "4    0.101932  0.096540  0.052821    ...     0.075992  0.075150 -0.048019   \n",
       "5    0.062792 -0.015949 -0.083526    ...    -0.104602 -0.067093 -0.076051   \n",
       "\n",
       "Yil      2013      2014      2015      2016      2017      2018      2019  \n",
       "Ay                                                                         \n",
       "1    0.031655 -0.023826 -0.233825 -0.192234  0.023789  0.073067  0.035689  \n",
       "2    0.027359  0.007240  0.216418  0.048274  0.005366 -0.054429  0.044613  \n",
       "3   -0.065286 -0.013036 -0.038042  0.187342 -0.059785  0.010704  0.000000  \n",
       "4   -0.057395  0.002552  0.065112  0.088271  0.013932  0.092239  0.000000  \n",
       "5    0.003036  0.016555  0.076451  0.124065 -0.037879  0.067529  0.000000  \n",
       "\n",
       "[5 rows x 33 columns]"
      ]
     },
     "execution_count": 71,
     "metadata": {},
     "output_type": "execute_result"
    }
   ],
   "source": [
    "pad.head()"
   ]
  },
  {
   "cell_type": "markdown",
   "metadata": {},
   "source": [
    "Şimdi son 10 yıldaki değişimlerin ortalamalarını hesaplayabiliriz.\n",
    "\n",
    "* pad veri setindeki yılları seç\n",
    "* Her satır (aynı aylar için) ortalama al\n"
   ]
  },
  {
   "cell_type": "code",
   "execution_count": 72,
   "metadata": {},
   "outputs": [
    {
     "data": {
      "text/plain": [
       "Ay\n",
       "1    -0.008514\n",
       "2     0.037552\n",
       "3     0.029233\n",
       "4     0.035098\n",
       "5     0.013082\n",
       "6    -0.005655\n",
       "7    -0.004082\n",
       "8     0.005426\n",
       "9     0.012227\n",
       "10    0.009811\n",
       "11   -0.029433\n",
       "12   -0.018523\n",
       "dtype: float64"
      ]
     },
     "execution_count": 72,
     "metadata": {},
     "output_type": "execute_result"
    }
   ],
   "source": [
    "pad.loc[:,range(2009,2020)].mean(axis=1)"
   ]
  },
  {
   "cell_type": "markdown",
   "metadata": {},
   "source": [
    "Son 10 yılda, Şubat-Nisan fiyat artışlarının pozitif olma ihtimali yüksek olduğu aylar. Kasım-Aralık ise düşüş yönünde eğilimlerin yüksek olduğu aylar\n",
    "\n",
    "Şimdi 1987-2019 dönemine, yani tüm veri setine bakalım."
   ]
  },
  {
   "cell_type": "code",
   "execution_count": 73,
   "metadata": {},
   "outputs": [
    {
     "data": {
      "text/plain": [
       "Ay\n",
       "1     0.007312\n",
       "2     0.006919\n",
       "3     0.027188\n",
       "4     0.032079\n",
       "5     0.021397\n",
       "6    -0.007607\n",
       "7     0.017863\n",
       "8     0.024199\n",
       "9     0.015686\n",
       "10   -0.000595\n",
       "11   -0.033889\n",
       "12   -0.025382\n",
       "dtype: float64"
      ]
     },
     "execution_count": 73,
     "metadata": {},
     "output_type": "execute_result"
    }
   ],
   "source": [
    "pad.mean(axis=1)"
   ]
  },
  {
   "cell_type": "markdown",
   "metadata": {},
   "source": [
    "İki sonucu birleştirirsek\n",
    "\n",
    "* Fiyat artışları Şubat-Mart'ta başlıyor\n",
    "* Nisan fiyat artışlarının görülme ihtimali en yüksek olan ay\n",
    "* Fiyat değişimleri Kasım-Aralık gibi negatif oluyor"
   ]
  },
  {
   "cell_type": "markdown",
   "metadata": {},
   "source": [
    "## Artış veya Düşüş yönündeki ayların toplama oranı"
   ]
  },
  {
   "cell_type": "markdown",
   "metadata": {},
   "source": [
    "Daha detayda olasılıkları da hesaplayabiliriz. Yani tüm yıllar boyunca aynı aylar için kaç yıl pozitif veya negatif olmuş, toplama oranı ne? gibi...\n",
    "* Eğer hücre 0'dan büyük(artış ise)seç            ----> **pad[(pad.iloc[:,:]>0)]**\n",
    "* Aynı satırda pozitif hücre sayısını say         ----> **.count(axis=1)**\n",
    "* Yukarıdaki rakamı tüm sütun sayısına böl        ----> **/(2020-1987+1)**\n",
    "* Tüm hesaplanan verileri de \"Artis\" isimli sütuna kopyala --> **pmc[\"Positive\"]**"
   ]
  },
  {
   "cell_type": "code",
   "execution_count": 74,
   "metadata": {},
   "outputs": [],
   "source": [
    "pad[\"Artis\"]=pad[(pad.iloc[:,:]>0)].count(axis=1)/(2020-1987+1)"
   ]
  },
  {
   "cell_type": "markdown",
   "metadata": {},
   "source": [
    "Aynısını negatif, yani düşüşler için yapalım"
   ]
  },
  {
   "cell_type": "code",
   "execution_count": 75,
   "metadata": {},
   "outputs": [],
   "source": [
    "pad[\"Dusus\"]=pad[(pad.iloc[:,:]<0)].count(axis=1)/(2020-1987+1)"
   ]
  },
  {
   "cell_type": "markdown",
   "metadata": {},
   "source": [
    "Hem artış hem de düşüş olasılıklarını birlikte görelim"
   ]
  },
  {
   "cell_type": "code",
   "execution_count": 76,
   "metadata": {},
   "outputs": [
    {
     "data": {
      "text/html": [
       "<div>\n",
       "<style scoped>\n",
       "    .dataframe tbody tr th:only-of-type {\n",
       "        vertical-align: middle;\n",
       "    }\n",
       "\n",
       "    .dataframe tbody tr th {\n",
       "        vertical-align: top;\n",
       "    }\n",
       "\n",
       "    .dataframe thead th {\n",
       "        text-align: right;\n",
       "    }\n",
       "</style>\n",
       "<table border=\"1\" class=\"dataframe\">\n",
       "  <thead>\n",
       "    <tr style=\"text-align: right;\">\n",
       "      <th>Yil</th>\n",
       "      <th>Artis</th>\n",
       "      <th>Dusus</th>\n",
       "    </tr>\n",
       "    <tr>\n",
       "      <th>Ay</th>\n",
       "      <th></th>\n",
       "      <th></th>\n",
       "    </tr>\n",
       "  </thead>\n",
       "  <tbody>\n",
       "    <tr>\n",
       "      <th>1</th>\n",
       "      <td>0.588235</td>\n",
       "      <td>0.352941</td>\n",
       "    </tr>\n",
       "    <tr>\n",
       "      <th>2</th>\n",
       "      <td>0.529412</td>\n",
       "      <td>0.411765</td>\n",
       "    </tr>\n",
       "    <tr>\n",
       "      <th>3</th>\n",
       "      <td>0.500000</td>\n",
       "      <td>0.411765</td>\n",
       "    </tr>\n",
       "    <tr>\n",
       "      <th>4</th>\n",
       "      <td>0.647059</td>\n",
       "      <td>0.264706</td>\n",
       "    </tr>\n",
       "    <tr>\n",
       "      <th>5</th>\n",
       "      <td>0.470588</td>\n",
       "      <td>0.441176</td>\n",
       "    </tr>\n",
       "    <tr>\n",
       "      <th>6</th>\n",
       "      <td>0.382353</td>\n",
       "      <td>0.558824</td>\n",
       "    </tr>\n",
       "    <tr>\n",
       "      <th>7</th>\n",
       "      <td>0.558824</td>\n",
       "      <td>0.382353</td>\n",
       "    </tr>\n",
       "    <tr>\n",
       "      <th>8</th>\n",
       "      <td>0.529412</td>\n",
       "      <td>0.411765</td>\n",
       "    </tr>\n",
       "    <tr>\n",
       "      <th>9</th>\n",
       "      <td>0.558824</td>\n",
       "      <td>0.382353</td>\n",
       "    </tr>\n",
       "    <tr>\n",
       "      <th>10</th>\n",
       "      <td>0.500000</td>\n",
       "      <td>0.441176</td>\n",
       "    </tr>\n",
       "    <tr>\n",
       "      <th>11</th>\n",
       "      <td>0.323529</td>\n",
       "      <td>0.617647</td>\n",
       "    </tr>\n",
       "    <tr>\n",
       "      <th>12</th>\n",
       "      <td>0.411765</td>\n",
       "      <td>0.529412</td>\n",
       "    </tr>\n",
       "  </tbody>\n",
       "</table>\n",
       "</div>"
      ],
      "text/plain": [
       "Yil     Artis     Dusus\n",
       "Ay                     \n",
       "1    0.588235  0.352941\n",
       "2    0.529412  0.411765\n",
       "3    0.500000  0.411765\n",
       "4    0.647059  0.264706\n",
       "5    0.470588  0.441176\n",
       "6    0.382353  0.558824\n",
       "7    0.558824  0.382353\n",
       "8    0.529412  0.411765\n",
       "9    0.558824  0.382353\n",
       "10   0.500000  0.441176\n",
       "11   0.323529  0.617647\n",
       "12   0.411765  0.529412"
      ]
     },
     "execution_count": 76,
     "metadata": {},
     "output_type": "execute_result"
    }
   ],
   "source": [
    "pad[[\"Artis\",\"Dusus\"]]"
   ]
  },
  {
   "cell_type": "markdown",
   "metadata": {},
   "source": [
    "Yukarıdaki sonuçlara göre en yüksek fiyat artışı görme ihtimali Nisan'da (ay=4), ve ihtimali(=artış) 70%(=0.705). Fiyat düşüş ihtimali ise 26%(=0.26)"
   ]
  },
  {
   "cell_type": "markdown",
   "metadata": {},
   "source": [
    "## Aylık Grafiklere Devam"
   ]
  },
  {
   "cell_type": "markdown",
   "metadata": {},
   "source": [
    "2009-2019 ve 1987-2019 arası aylık ortalama fiyatların grafiği ile devam edelim"
   ]
  },
  {
   "cell_type": "code",
   "execution_count": 77,
   "metadata": {},
   "outputs": [
    {
     "data": {
      "image/png": "[encoded data removed]",
      "text/plain": [
       "<Figure size 432x288 with 1 Axes>"
      ]
     },
     "metadata": {
      "needs_background": "light"
     },
     "output_type": "display_data"
    }
   ],
   "source": [
    "plot(pa.loc[:,range(2009,2020)].mean(axis=1))\n",
    "title('2009-2019 Ortalama aylık fiyatlar')\n",
    "xlabel(\"Aylar\")\n",
    "ylabel(\"$/varil\");"
   ]
  },
  {
   "cell_type": "code",
   "execution_count": 78,
   "metadata": {},
   "outputs": [
    {
     "data": {
      "image/png": "[encoded data removed]",
      "text/plain": [
       "<Figure size 432x288 with 1 Axes>"
      ]
     },
     "metadata": {
      "needs_background": "light"
     },
     "output_type": "display_data"
    }
   ],
   "source": [
    "plot(pa.loc[:,range(1987,2020)].mean(axis=1))\n",
    "title('1987-2019 Ortalama aylık fiyatlar')\n",
    "xlabel(\"Aylar (0 = önceki Aralık)\")\n",
    "ylabel(\"$/varil\");"
   ]
  },
  {
   "cell_type": "markdown",
   "metadata": {},
   "source": [
    "## Haftanın günü etkisi\n",
    "\n",
    "Acaba petrol fiyatlarında haftanın günü hareketin yönünü etkiliyor mu? Bazen \"Cuma günleri açığa satma\" gibi sözleri traderlardan duyabiliyoruz. Bakalım doğru mu?\n",
    "\n",
    "Bu sefer verimizi haftanın günü yani **HG** değişkenine göre yeniden yapılandıracağız. Fakat önce % değişimleri hesaplamamız gerekecek"
   ]
  },
  {
   "cell_type": "code",
   "execution_count": 79,
   "metadata": {},
   "outputs": [
    {
     "data": {
      "text/html": [
       "<div>\n",
       "<style scoped>\n",
       "    .dataframe tbody tr th:only-of-type {\n",
       "        vertical-align: middle;\n",
       "    }\n",
       "\n",
       "    .dataframe tbody tr th {\n",
       "        vertical-align: top;\n",
       "    }\n",
       "\n",
       "    .dataframe thead th {\n",
       "        text-align: right;\n",
       "    }\n",
       "</style>\n",
       "<table border=\"1\" class=\"dataframe\">\n",
       "  <thead>\n",
       "    <tr style=\"text-align: right;\">\n",
       "      <th></th>\n",
       "      <th>Date</th>\n",
       "      <th>Europe Brent Spot Price FOB (Dollars per Barrel)</th>\n",
       "      <th>Hafta</th>\n",
       "      <th>Ay</th>\n",
       "      <th>Yil</th>\n",
       "      <th>HG</th>\n",
       "    </tr>\n",
       "  </thead>\n",
       "  <tbody>\n",
       "    <tr>\n",
       "      <th>0</th>\n",
       "      <td>1987-05-20</td>\n",
       "      <td>18.63</td>\n",
       "      <td>21</td>\n",
       "      <td>5</td>\n",
       "      <td>1987</td>\n",
       "      <td>2</td>\n",
       "    </tr>\n",
       "    <tr>\n",
       "      <th>1</th>\n",
       "      <td>1987-05-21</td>\n",
       "      <td>18.45</td>\n",
       "      <td>21</td>\n",
       "      <td>5</td>\n",
       "      <td>1987</td>\n",
       "      <td>3</td>\n",
       "    </tr>\n",
       "    <tr>\n",
       "      <th>2</th>\n",
       "      <td>1987-05-22</td>\n",
       "      <td>18.55</td>\n",
       "      <td>21</td>\n",
       "      <td>5</td>\n",
       "      <td>1987</td>\n",
       "      <td>4</td>\n",
       "    </tr>\n",
       "  </tbody>\n",
       "</table>\n",
       "</div>"
      ],
      "text/plain": [
       "        Date  Europe Brent Spot Price FOB (Dollars per Barrel)  Hafta  Ay  \\\n",
       "0 1987-05-20                                             18.63     21   5   \n",
       "1 1987-05-21                                             18.45     21   5   \n",
       "2 1987-05-22                                             18.55     21   5   \n",
       "\n",
       "    Yil  HG  \n",
       "0  1987   2  \n",
       "1  1987   3  \n",
       "2  1987   4  "
      ]
     },
     "execution_count": 79,
     "metadata": {},
     "output_type": "execute_result"
    }
   ],
   "source": [
    "prices.head(3)"
   ]
  },
  {
   "cell_type": "markdown",
   "metadata": {},
   "source": [
    "Günlük yüzde değişimleri hesaplayalım **pct_change** ile"
   ]
  },
  {
   "cell_type": "code",
   "execution_count": 80,
   "metadata": {},
   "outputs": [
    {
     "data": {
      "text/html": [
       "<div>\n",
       "<style scoped>\n",
       "    .dataframe tbody tr th:only-of-type {\n",
       "        vertical-align: middle;\n",
       "    }\n",
       "\n",
       "    .dataframe tbody tr th {\n",
       "        vertical-align: top;\n",
       "    }\n",
       "\n",
       "    .dataframe thead th {\n",
       "        text-align: right;\n",
       "    }\n",
       "</style>\n",
       "<table border=\"1\" class=\"dataframe\">\n",
       "  <thead>\n",
       "    <tr style=\"text-align: right;\">\n",
       "      <th></th>\n",
       "      <th>Date</th>\n",
       "      <th>Europe Brent Spot Price FOB (Dollars per Barrel)</th>\n",
       "      <th>Hafta</th>\n",
       "      <th>Ay</th>\n",
       "      <th>Yil</th>\n",
       "      <th>HG</th>\n",
       "      <th>Yuzde</th>\n",
       "    </tr>\n",
       "  </thead>\n",
       "  <tbody>\n",
       "    <tr>\n",
       "      <th>0</th>\n",
       "      <td>1987-05-20</td>\n",
       "      <td>18.63</td>\n",
       "      <td>21</td>\n",
       "      <td>5</td>\n",
       "      <td>1987</td>\n",
       "      <td>2</td>\n",
       "      <td>NaN</td>\n",
       "    </tr>\n",
       "    <tr>\n",
       "      <th>1</th>\n",
       "      <td>1987-05-21</td>\n",
       "      <td>18.45</td>\n",
       "      <td>21</td>\n",
       "      <td>5</td>\n",
       "      <td>1987</td>\n",
       "      <td>3</td>\n",
       "      <td>-0.009662</td>\n",
       "    </tr>\n",
       "    <tr>\n",
       "      <th>2</th>\n",
       "      <td>1987-05-22</td>\n",
       "      <td>18.55</td>\n",
       "      <td>21</td>\n",
       "      <td>5</td>\n",
       "      <td>1987</td>\n",
       "      <td>4</td>\n",
       "      <td>0.005420</td>\n",
       "    </tr>\n",
       "  </tbody>\n",
       "</table>\n",
       "</div>"
      ],
      "text/plain": [
       "        Date  Europe Brent Spot Price FOB (Dollars per Barrel)  Hafta  Ay  \\\n",
       "0 1987-05-20                                             18.63     21   5   \n",
       "1 1987-05-21                                             18.45     21   5   \n",
       "2 1987-05-22                                             18.55     21   5   \n",
       "\n",
       "    Yil  HG     Yuzde  \n",
       "0  1987   2       NaN  \n",
       "1  1987   3 -0.009662  \n",
       "2  1987   4  0.005420  "
      ]
     },
     "execution_count": 80,
     "metadata": {},
     "output_type": "execute_result"
    }
   ],
   "source": [
    "prices[\"Yuzde\"]=prices[\"Europe Brent Spot Price FOB (Dollars per Barrel)\"].pct_change()\n",
    "prices.head(3)"
   ]
  },
  {
   "cell_type": "markdown",
   "metadata": {},
   "source": [
    "Şimdi pivot_table ile günleri sütunlara, yıllar da endeks olacak şekilde verimizi şekillendirelim. (0= Pazartesi, 4=Cuma)"
   ]
  },
  {
   "cell_type": "code",
   "execution_count": 81,
   "metadata": {},
   "outputs": [
    {
     "data": {
      "text/html": [
       "<div>\n",
       "<style scoped>\n",
       "    .dataframe tbody tr th:only-of-type {\n",
       "        vertical-align: middle;\n",
       "    }\n",
       "\n",
       "    .dataframe tbody tr th {\n",
       "        vertical-align: top;\n",
       "    }\n",
       "\n",
       "    .dataframe thead th {\n",
       "        text-align: right;\n",
       "    }\n",
       "</style>\n",
       "<table border=\"1\" class=\"dataframe\">\n",
       "  <thead>\n",
       "    <tr style=\"text-align: right;\">\n",
       "      <th>HG</th>\n",
       "      <th>0</th>\n",
       "      <th>1</th>\n",
       "      <th>2</th>\n",
       "      <th>3</th>\n",
       "      <th>4</th>\n",
       "    </tr>\n",
       "    <tr>\n",
       "      <th>Yil</th>\n",
       "      <th></th>\n",
       "      <th></th>\n",
       "      <th></th>\n",
       "      <th></th>\n",
       "      <th></th>\n",
       "    </tr>\n",
       "  </thead>\n",
       "  <tbody>\n",
       "    <tr>\n",
       "      <th>2015</th>\n",
       "      <td>-0.009459</td>\n",
       "      <td>0.000115</td>\n",
       "      <td>0.001394</td>\n",
       "      <td>0.005044</td>\n",
       "      <td>-0.004126</td>\n",
       "    </tr>\n",
       "    <tr>\n",
       "      <th>2016</th>\n",
       "      <td>-0.000331</td>\n",
       "      <td>-0.004429</td>\n",
       "      <td>0.004347</td>\n",
       "      <td>0.006471</td>\n",
       "      <td>0.003784</td>\n",
       "    </tr>\n",
       "    <tr>\n",
       "      <th>2017</th>\n",
       "      <td>0.002077</td>\n",
       "      <td>-0.000406</td>\n",
       "      <td>0.001024</td>\n",
       "      <td>0.002055</td>\n",
       "      <td>-0.000297</td>\n",
       "    </tr>\n",
       "    <tr>\n",
       "      <th>2018</th>\n",
       "      <td>0.004332</td>\n",
       "      <td>-0.002389</td>\n",
       "      <td>-0.002304</td>\n",
       "      <td>-0.002070</td>\n",
       "      <td>-0.001775</td>\n",
       "    </tr>\n",
       "    <tr>\n",
       "      <th>2019</th>\n",
       "      <td>-0.000282</td>\n",
       "      <td>-0.001299</td>\n",
       "      <td>0.030197</td>\n",
       "      <td>0.002433</td>\n",
       "      <td>0.011694</td>\n",
       "    </tr>\n",
       "  </tbody>\n",
       "</table>\n",
       "</div>"
      ],
      "text/plain": [
       "HG           0         1         2         3         4\n",
       "Yil                                                   \n",
       "2015 -0.009459  0.000115  0.001394  0.005044 -0.004126\n",
       "2016 -0.000331 -0.004429  0.004347  0.006471  0.003784\n",
       "2017  0.002077 -0.000406  0.001024  0.002055 -0.000297\n",
       "2018  0.004332 -0.002389 -0.002304 -0.002070 -0.001775\n",
       "2019 -0.000282 -0.001299  0.030197  0.002433  0.011694"
      ]
     },
     "execution_count": 81,
     "metadata": {},
     "output_type": "execute_result"
    }
   ],
   "source": [
    "pgun=prices.pivot_table( values='Yuzde', index=['Yil'],columns=['HG'], aggfunc=np.mean)\n",
    "\n",
    "# This time check the last 5 lines\n",
    "pgun.tail (5)"
   ]
  },
  {
   "cell_type": "markdown",
   "metadata": {},
   "source": [
    "**pgun*** yani haftanın günlerinden derlenen veride kaç satır ve sütun var?"
   ]
  },
  {
   "cell_type": "code",
   "execution_count": 82,
   "metadata": {},
   "outputs": [
    {
     "data": {
      "text/plain": [
       "(33, 5)"
      ]
     },
     "execution_count": 82,
     "metadata": {},
     "output_type": "execute_result"
    }
   ],
   "source": [
    "pgun.shape"
   ]
  },
  {
   "cell_type": "markdown",
   "metadata": {},
   "source": [
    "Bu fiyat değişimlerinin ne kadarı pozitif, ne kadarı negatifmiş. Önce pozitifler"
   ]
  },
  {
   "cell_type": "code",
   "execution_count": 83,
   "metadata": {},
   "outputs": [
    {
     "data": {
      "text/plain": [
       "HG\n",
       "0    14\n",
       "1    14\n",
       "2    18\n",
       "3    24\n",
       "4    19\n",
       "dtype: int64"
      ]
     },
     "execution_count": 83,
     "metadata": {},
     "output_type": "execute_result"
    }
   ],
   "source": [
    "pgun[pgun>0].count()"
   ]
  },
  {
   "cell_type": "markdown",
   "metadata": {},
   "source": [
    "Şimdi de negatiflere bakalım (pday küçüktür sıfır)"
   ]
  },
  {
   "cell_type": "code",
   "execution_count": 84,
   "metadata": {},
   "outputs": [
    {
     "data": {
      "text/plain": [
       "HG\n",
       "0    19\n",
       "1    19\n",
       "2    15\n",
       "3     9\n",
       "4    14\n",
       "dtype: int64"
      ]
     },
     "execution_count": 84,
     "metadata": {},
     "output_type": "execute_result"
    }
   ],
   "source": [
    "pgun[pgun<0].count()"
   ]
  },
  {
   "cell_type": "markdown",
   "metadata": {},
   "source": [
    "Olasılık hesabı da gayet basit, pozitifleri/negatifleri toplam satır sayısına böl"
   ]
  },
  {
   "cell_type": "code",
   "execution_count": 85,
   "metadata": {},
   "outputs": [
    {
     "data": {
      "text/plain": [
       "HG\n",
       "0    0.424242\n",
       "1    0.424242\n",
       "2    0.545455\n",
       "3    0.727273\n",
       "4    0.575758\n",
       "dtype: float64"
      ]
     },
     "execution_count": 85,
     "metadata": {},
     "output_type": "execute_result"
    }
   ],
   "source": [
    "pgun[pgun>0].count()/pgun.shape[0]"
   ]
  },
  {
   "cell_type": "markdown",
   "metadata": {},
   "source": [
    "Haftanın 3.günü(0=Pazartesi), Perşembe gününün pozitif kapanma ihtimali çok çok yüksek: %72"
   ]
  },
  {
   "cell_type": "code",
   "execution_count": 86,
   "metadata": {},
   "outputs": [
    {
     "data": {
      "text/plain": [
       "HG\n",
       "0    0.575758\n",
       "1    0.575758\n",
       "2    0.454545\n",
       "3    0.272727\n",
       "4    0.424242\n",
       "dtype: float64"
      ]
     },
     "execution_count": 86,
     "metadata": {},
     "output_type": "execute_result"
    }
   ],
   "source": [
    "pgun[pgun<0].count()/pgun.shape[0]"
   ]
  },
  {
   "cell_type": "markdown",
   "metadata": {},
   "source": [
    "Negatif, yanin düşüş ihtimali ise Pazartesi veya Salı daha yüksek görünüyor."
   ]
  },
  {
   "cell_type": "markdown",
   "metadata": {},
   "source": [
    "# Sonuç\n",
    "\n",
    "Bu çalışma kitabında, basit filtreleme, gruplandırma, pivot tablo ve çizim fonksiyonlarını örneklemeye çalıştım.\n",
    "\n",
    "Evet belki, petrol fiyatları tahmin edilemez, ama insan davranışlarına bağlı belirli eğilimler olabilir. Python ile bunları aramak, bulmak daha kolaylaşmışa benziyor\n",
    "\n",
    "### Baris Sanli, 11 Şubat 2019,  barissanli2@gmail.com ,  www.barissanli.com"
   ]
  }
 ],
 "metadata": {
  "kernelspec": {
   "display_name": "Python 3",
   "language": "python",
   "name": "python3"
  },
  "language_info": {
   "codemirror_mode": {
    "name": "ipython",
    "version": 3
   },
   "file_extension": ".py",
   "mimetype": "text/x-python",
   "name": "python",
   "nbconvert_exporter": "python",
   "pygments_lexer": "ipython3",
   "version": "3.7.2"
  }
 },
 "nbformat": 4,
 "nbformat_minor": 2
}
