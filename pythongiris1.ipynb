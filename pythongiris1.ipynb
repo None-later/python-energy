{
 "cells": [
  {
   "cell_type": "markdown",
   "metadata": {},
   "source": [
    "# Python'a Giriş 1: Basit Bir Petrol Petrol Arz-Talep Modeli"
   ]
  },
  {
   "cell_type": "markdown",
   "metadata": {},
   "source": [
    "Python öğrenmek isteyenler için ardı arkası bitmeyen dilin özellikleri, kavramlar kafaları karıştırabilmektedir. Enerji sektöründe çalışanlar için bence dilin tüm özelliklerini baştan vererek can sıkmaya gerek yok.\n",
    "\n",
    "Bu derste sırası ile \n",
    "* **if**\n",
    "* **for**\n",
    "* **print**\n",
    "* **list**\n",
    "\n",
    "*komutlarını* inceleyeceğiz. Sanırım basit bir dünya modeli için bu yeterli...\n",
    "\n",
    "Python 3 kullanacağız.\n",
    "\n",
    "Daha sonra ise modelimizi grafik ve veri çerçeveleri ile bir üst seviyeye taşımaya çalışacağız. \n"
   ]
  },
  {
   "cell_type": "markdown",
   "metadata": {},
   "source": [
    "# Python'un kıllıkları\n",
    "\n",
    "Python'da kod yazarken form/estetik önemlidir. Yani kodun görünüşünün de güzel olması zorlanır. Eğer uymazsanız **indentation** hataları verir. Bazen oldukça sorun olabilir.\n",
    "\n",
    "Bu **indentation** yani girintiler, aynı zamanda döngülerin ne kadar devam ettiğini de belirler. Mesela bir **for** döngüsünden hemen sonra girinti verilir. Vermezseniz kod çalışmaz, hata verir. Girintiyi sonlandırdığınız satıra kadar **for** döngüsü çalışır.\n",
    "\n",
    "Örneğin for, if vs gibi işlemleren sonra boşluk vermeyerek bir **KASITLI HATA** oluşturalım.\n"
   ]
  },
  {
   "cell_type": "code",
   "execution_count": 1,
   "metadata": {},
   "outputs": [
    {
     "ename": "IndentationError",
     "evalue": "expected an indented block (<ipython-input-1-11fefe468865>, line 2)",
     "output_type": "error",
     "traceback": [
      "\u001b[0;36m  File \u001b[0;32m\"<ipython-input-1-11fefe468865>\"\u001b[0;36m, line \u001b[0;32m2\u001b[0m\n\u001b[0;31m    print(i)\u001b[0m\n\u001b[0m        ^\u001b[0m\n\u001b[0;31mIndentationError\u001b[0m\u001b[0;31m:\u001b[0m expected an indented block\n"
     ]
    }
   ],
   "source": [
    "for i in range(1,3):\n",
    "print(i)"
   ]
  },
  {
   "cell_type": "markdown",
   "metadata": {},
   "source": [
    "Doğrusu"
   ]
  },
  {
   "cell_type": "code",
   "execution_count": null,
   "metadata": {},
   "outputs": [],
   "source": [
    "for i in range(1,10):\n",
    "    print(i,end=\",\")  # burada 1,2,3....., yazılacak. range'in son elemanı kullanılmaz\n",
    "print(\"Son\") # döngü girintinin bitirildiği satıra kadar çalışır. Bu satır döngü tamamlandıktan sonra çalışacak"
   ]
  },
  {
   "cell_type": "markdown",
   "metadata": {},
   "source": [
    "## Değişkenler ve Fonksiyonlar\n",
    "\n",
    "Python'da (diğer programlama dillerinde olduğu gibi) tüm kurgu değişkenler ve fonksiyonlar üzerine kuruludur. (Nesne temelli programlama konusuna hiç değinmiyoruz)\n",
    "\n",
    "* **Değişkenler** : bunlar diziler şeklinde olabileceği gibi tekil de olabilirler. Örneğin ***x=3*** veya ***[3,4,5]*** gibi\n",
    "* **Fonksiyonlar** : Fonksiyonlar ise () taşırlar mesela ***print(\"merhaba\")*** gibi\n",
    "\n",
    "Konumuz enerji olduğundan değişken olarak bir petrol fiyatı tanımlayarak ekrana çıktı üretelim.\n",
    "\n",
    "Petrol fiyatını 60 olarak **brent** adlı değişkene yükleyeceğiz, daha sonra ise **print** komutu ile ekrana çıktı vereceğiz"
   ]
  },
  {
   "cell_type": "code",
   "execution_count": 2,
   "metadata": {},
   "outputs": [],
   "source": [
    "brent=60"
   ]
  },
  {
   "cell_type": "code",
   "execution_count": 3,
   "metadata": {},
   "outputs": [
    {
     "name": "stdout",
     "output_type": "stream",
     "text": [
      "60\n"
     ]
    }
   ],
   "source": [
    "print(brent)"
   ]
  },
  {
   "cell_type": "markdown",
   "metadata": {},
   "source": [
    "**print** komutunda istersek **,**(virgül) ile değişik karakter katarlarını arka arkaya ekleyebilir, hatta değişkenlerle de karıştırabiliriz."
   ]
  },
  {
   "cell_type": "code",
   "execution_count": 4,
   "metadata": {},
   "outputs": [
    {
     "name": "stdout",
     "output_type": "stream",
     "text": [
      "Brent fiyatı= 60\n"
     ]
    }
   ],
   "source": [
    "print(\"Brent fiyatı=\",brent)"
   ]
  },
  {
   "cell_type": "markdown",
   "metadata": {},
   "source": [
    "## if yani **eğer** işlemleri\n",
    "\n",
    "Programlamanın en basit iki bileşeninden biri karar argümanlarıdır. Yani **eğer**\n",
    "\n",
    "Bir petrol modeli yapacak isek, en önemli komutumuz **eğer** yani **if** olacaktır. Çünkü petrol dinamikleri fiyat seviyelerine bağımlıdır. \n",
    "* Petrol pahalı ise (eğer/if) tüketim düşer, üretim artar\n",
    "* Petrol ucuz ise (eğer/if) tüketim artar, üretim düşer\n",
    "\n",
    "Peki neye göre pahalı veya ucuz? Model kabulü olarak \n",
    "* Petrol fiyatlarında referans noktayı 60 $/varil ($/v) \n",
    "* Petrol üretim ve tüketimini de birbirine eşit olarak 100 milyon varil / gün (mv/g)\n",
    "\n",
    "alıyoruz.\n",
    "\n",
    "İlk eğer komutumuz, bir tüketici davranışı. \n",
    "* Eğer brent fiyatı 60$/v'den yüksek ise ekrana \"Fiyat yüksek\" yaz\n",
    "\n",
    "\n"
   ]
  },
  {
   "cell_type": "code",
   "execution_count": 5,
   "metadata": {},
   "outputs": [],
   "source": [
    "brent=60"
   ]
  },
  {
   "cell_type": "code",
   "execution_count": 6,
   "metadata": {},
   "outputs": [],
   "source": [
    "if brent>60:\n",
    "    print(\"Fiyat yüksek\")"
   ]
  },
  {
   "cell_type": "markdown",
   "metadata": {},
   "source": [
    "Ekrana hiç birşey yazılmadı, çünkü brent fiyatı 60 dolar olarak tanımladığımızdan, eğer döngüsü çalışmaz.\n",
    "brent'i 61$/v 'e eşitleyerek tekrar deneyelim"
   ]
  },
  {
   "cell_type": "code",
   "execution_count": 7,
   "metadata": {},
   "outputs": [
    {
     "name": "stdout",
     "output_type": "stream",
     "text": [
      "Fiyat yüksek\n"
     ]
    }
   ],
   "source": [
    "brent=61\n",
    "if brent>60:\n",
    "    print(\"Fiyat yüksek\")"
   ]
  },
  {
   "cell_type": "markdown",
   "metadata": {},
   "source": [
    "## Modelin Teknik Detayları\n",
    "\n",
    "OPEC raporuna yayınlanan son verilerden modelimizin diğer detaylarını da ekleyelim\n",
    "* Dünya petrol üretimi ve tüketimi dengede 100 mv/g,\n",
    "* Dünya petrol dengesinde iki ana blok oluşturalım\n",
    "    * Petrol üreticileri\n",
    "        - **OPEC** : Petrol üreten ülkeler karteli\n",
    "        - **nOPEC**: Diğer petrol üreticileri\n",
    "        <br>\n",
    "    * Petrol tüketicileri\n",
    "        - **OECD** : Gelişmiş ülkeler. Bu ülkelerin talep artışı/düşüşü çok düşük\n",
    "        - **nOECD**(non OECD): Gelişmekte olan ülkeler. Bu ülkelerin talep artışı ve düşüşü de çok daha yüksek\n",
    "\n",
    "* Buradan dünya petrol dengesini oluşturacağız\n",
    "    * OPEC+ nOPEC = toplam üretim\n",
    "    * OECD+ nOECD = toplam tüketim\n",
    "    <br>\n",
    "    \n",
    "* Üretim ve tüketim dengesizliğinde petrol fiyatını aşağı veya yukarı yönlü hareket ettirecek\n",
    "    * Bir hassasiyet parametresi ile petrol fiyat hareketlerinin arz-talep dengesizliğine tepkisini ayarlayacağız\n",
    "    \n",
    "## Modelin Programlanması\n",
    "\n",
    "En  son OPEC raporundan verileri alalım..\n",
    "* OPEC üretimi 32 mv/g\n",
    "* OPEC harici üretim e 68 mv/g"
   ]
  },
  {
   "cell_type": "code",
   "execution_count": 8,
   "metadata": {},
   "outputs": [],
   "source": [
    "opec_uretim=32\n",
    "nopec_uretim=68"
   ]
  },
  {
   "cell_type": "markdown",
   "metadata": {},
   "source": [
    "* OECD tüketimi 30 mv/g\n",
    "* OECD haricindeki gelişmekte olan ülkelerin tüketimi de 70 mv/g"
   ]
  },
  {
   "cell_type": "code",
   "execution_count": 9,
   "metadata": {},
   "outputs": [],
   "source": [
    "oecd_tuketim=30\n",
    "noecd_tuketim=70"
   ]
  },
  {
   "cell_type": "markdown",
   "metadata": {},
   "source": [
    "Tüm modelin ana bileşeni olan **petrol_fiyati** değişkenini tanımlayalım"
   ]
  },
  {
   "cell_type": "code",
   "execution_count": 10,
   "metadata": {},
   "outputs": [],
   "source": [
    "petrol_fiyati=60"
   ]
  },
  {
   "cell_type": "markdown",
   "metadata": {},
   "source": [
    "İlk eğer(**if**) komutumuzda, petrol 60$/v'in altında ise:\n",
    "* OPEC üretimini az düşür\n",
    "* OPEC harici üretimi daha çok düşür (Çünkü ABD üretimi fiyata daha çok tepki veriyor olabilir)\n",
    "* OECD tüketimi fiyata göre çok düşük hareket eder\n",
    "* Gelişmekte olan ülkelerde ise (noecd) tüketim fiyata daha büyük bir tepki verir.\n",
    "<br>\n",
    "\n",
    "İstatistiki bilgi olması açısından dünya petrol talebi tahminlerinde talep uzun dönemde yıldan yıla 1.2 mv/g bir artış gösterir. "
   ]
  },
  {
   "cell_type": "code",
   "execution_count": 11,
   "metadata": {},
   "outputs": [],
   "source": [
    "if petrol_fiyati<60:\n",
    "    opec_uretim=opec_uretim-0.3   # eğer 60 $'ın altında petrol fiyatı var ise OPEC üretimi 0.3 mv/g düşer\n",
    "    nopec_uretim=nopec_uretim-0.5\n",
    "    \n",
    "    oecd_tuketim=oecd_tuketim+0.01\n",
    "    noecd_tuketim=noecd_tuketim+0.4"
   ]
  },
  {
   "cell_type": "markdown",
   "metadata": {},
   "source": [
    "\n",
    "Şimdi ise petrol 60$/v'in üzerinde ise üretim ve tüketimin nasıl değişeceğini yazalım\n",
    "* OPEC ve nOPEC üretimi artar. nOPEC'in ki daha çok artar (ABD üretimi daha hızlı devreye girecektir)\n",
    "* OECD tüketimi az, gelişmekte olan ülkelerin talebi ise daha büyük bir hareket yapacaktır\n"
   ]
  },
  {
   "cell_type": "code",
   "execution_count": 12,
   "metadata": {},
   "outputs": [],
   "source": [
    "if petrol_fiyati>60:\n",
    "    opec_uretim=opec_uretim+0.3\n",
    "    nopec_uretim=nopec_uretim+0.5\n",
    "    \n",
    "    oecd_tuketim=oecd_tuketim-0.01\n",
    "    noecd_tuketim=noecd_tuketim-0.4"
   ]
  },
  {
   "cell_type": "markdown",
   "metadata": {},
   "source": [
    "Şimdi ise tüm üretimi toplayarak, **toplam_uretim**; tüm tüketimi de toplayarak **toplam_tuketim** değişkenlerine atayalım.\n",
    "<br>Ardından **print** komutu ile bu değişkenleri yazdıracağız"
   ]
  },
  {
   "cell_type": "code",
   "execution_count": 13,
   "metadata": {},
   "outputs": [
    {
     "name": "stdout",
     "output_type": "stream",
     "text": [
      "Petrol üretimi: 100\n",
      "Petrol tüketimi: 100\n"
     ]
    }
   ],
   "source": [
    "toplam_uretim= opec_uretim+ nopec_uretim\n",
    "toplam_tuketim= oecd_tuketim + noecd_tuketim\n",
    "\n",
    "print(\"Petrol üretimi:\", toplam_uretim)\n",
    "print(\"Petrol tüketimi:\", toplam_tuketim)"
   ]
  },
  {
   "cell_type": "markdown",
   "metadata": {},
   "source": [
    "Gördüğümüz gibi 60 $/v'de petrol fiyatları dengede, talep de 100 mv/g'de"
   ]
  },
  {
   "cell_type": "markdown",
   "metadata": {},
   "source": [
    "### Modelin kilit noktası\n",
    "\n",
    "Modelimizin kilit noktası petrol fiyatının değiştiği, fiyat hareketini belirleyen formül olacak.\n",
    "<br> Formül kısaca arz ve talep farkının **hassasiyet** oranı ile çarpımını fiyattan çıkarıyor.\n",
    "<br> \n",
    "* Eğer arz farzla ise petrol fiyatı düşüyor\n",
    "* Eğer talep fazla ise petrol fiyatı çıkıyor\n",
    "\n",
    "Yani ters yönlü bir hareket var. "
   ]
  },
  {
   "cell_type": "code",
   "execution_count": 14,
   "metadata": {},
   "outputs": [],
   "source": [
    "# fiyat hareketi\n",
    "hassasiyet=5\n",
    "petrol_fiyati=petrol_fiyati-(toplam_uretim- toplam_tuketim)*hassasiyet\n"
   ]
  },
  {
   "cell_type": "markdown",
   "metadata": {},
   "source": [
    "**UYARI** Kafayı karıştıran nokta eşitliğin iki tarafında da **petrol_fiyati** olması. (Değişkenlerde Avrupa latin karakter kullanın fiyatı yazarsanız sorun olabilir). Oysa, petrol fiyatını al, çarp-çıkar ve güncelle demek.\n",
    "<br> Örneğin:\n",
    "a=3 olsun, <br>\n",
    "a=a+1 komutunu çalıştırdıktan sonra a'daki değer 4 olur"
   ]
  },
  {
   "cell_type": "markdown",
   "metadata": {},
   "source": [
    "# Simulasyon Döngüsü için **for**\n",
    "\n",
    "Petrol fiyatı bir değerin altında veya üstünde ise üretim ve tüketim artacak-azalacak. Ama bunu ardışık yıllar halinde bir simulasyon ile çalıştırmazsak tek tek shift+enter(çalıştır) ile saatlerce satır çalıştırmamız gerekir.\n",
    "\n",
    "Her programlama dilinin olmazsa olmazı **for** burada yardımımıza yetişiyor.\n",
    "* Genel olarak for şu şekilde kullanılyor:     for değişken in sayılar dizisi:\n",
    "\n",
    "Örneğin bir dizi içerisindeki tüm elemanları tek tek yazdırmak için"
   ]
  },
  {
   "cell_type": "code",
   "execution_count": 15,
   "metadata": {},
   "outputs": [
    {
     "name": "stdout",
     "output_type": "stream",
     "text": [
      "8\n",
      "9\n",
      "10\n"
     ]
    }
   ],
   "source": [
    "for veri in [8,9,10]:\n",
    "    print(veri)"
   ]
  },
  {
   "cell_type": "markdown",
   "metadata": {},
   "source": [
    "Aynı şekilde 1'den 3'e kadar sayıları yazdırmak için"
   ]
  },
  {
   "cell_type": "code",
   "execution_count": 16,
   "metadata": {},
   "outputs": [
    {
     "name": "stdout",
     "output_type": "stream",
     "text": [
      "1\n",
      "2\n",
      "3\n"
     ]
    }
   ],
   "source": [
    "for veri in range(1,4):\n",
    "    print(veri)"
   ]
  },
  {
   "cell_type": "markdown",
   "metadata": {},
   "source": [
    "Bu verileri yan yana yazdırmak için ise print'e son bir değişken olarak **end= \" \"** atıyoruz."
   ]
  },
  {
   "cell_type": "code",
   "execution_count": 17,
   "metadata": {},
   "outputs": [
    {
     "name": "stdout",
     "output_type": "stream",
     "text": [
      "1 2 3 "
     ]
    }
   ],
   "source": [
    "for veri in range(1,4):\n",
    "    print(veri,end=\" \")"
   ]
  },
  {
   "cell_type": "markdown",
   "metadata": {},
   "source": [
    "Kısaca range komutu, **range(başla, bitir, adım)** şeklinde tanımlanabilir. Hiçbir zaman **bitir** de tanımlı son sayı üretilmez. O limittir\n",
    "\n",
    "Modelimizi 2030'a kadar 1'er yıl ara ile çalıştıracak isek\n",
    "<br>**range(2019,2031,1)**  yazmamız yeterli, **end=\" \"** ile de yan yana yazmasını sağlayacağız"
   ]
  },
  {
   "cell_type": "code",
   "execution_count": 18,
   "metadata": {},
   "outputs": [
    {
     "name": "stdout",
     "output_type": "stream",
     "text": [
      "2019 2020 2021 2022 2023 2024 2025 2026 2027 2028 2029 2030 "
     ]
    }
   ],
   "source": [
    "for i in range(2019, 2031, 1): #range(basla, bitis, adım)\n",
    "    print(i, end=\" \")"
   ]
  },
  {
   "cell_type": "markdown",
   "metadata": {},
   "source": [
    "# Tüm Modeli bir araya getirmek\n",
    "\n",
    "Kısaca modelimizde yukarıda yazdığımız kod dizinlerini bir araya getirip tek bir girişte çalıştıracağız.\n",
    "\n",
    "Modelin bölümleri şu şekilde:\n",
    "1. Başlangıç değerlerini ve değişkenlerini yükle\n",
    "2. Simulasyon için **for** döngüsünü kur\n",
    "    1. Petrol fiyatları 60 dolar/varilin altı için değişim formülleri\n",
    "    2. Petrol fiyatları 60 dolar/varilin üstü için değişim formülleri\n",
    "    3. Toplam üretim ve tüketimi hesapla\n",
    "    4. Fiyat formülünü çalıştır\n",
    "    5. Ekrana yaz"
   ]
  },
  {
   "cell_type": "code",
   "execution_count": 19,
   "metadata": {},
   "outputs": [
    {
     "name": "stdout",
     "output_type": "stream",
     "text": [
      "Yıl= 2019   Petrol fiyatı 63.94999999999996 Toplam uretim= 100.8  Toplam tuketim= 99.58999999999999\n",
      "Yıl= 2020   Petrol fiyatı 51.84999999999988 Toplam uretim= 101.6  Toplam tuketim= 99.17999999999998\n",
      "Yıl= 2021   Petrol fiyatı 45.79999999999984 Toplam uretim= 100.8  Toplam tuketim= 99.58999999999999\n",
      "Yıl= 2022   Petrol fiyatı 45.79999999999984 Toplam uretim= 100.0  Toplam tuketim= 100.0\n",
      "Yıl= 2023   Petrol fiyatı 51.84999999999995 Toplam uretim= 99.19999999999999  Toplam tuketim= 100.41000000000001\n",
      "Yıl= 2024   Petrol fiyatı 63.9500000000001 Toplam uretim= 98.39999999999999  Toplam tuketim= 100.82000000000002\n",
      "Yıl= 2025   Petrol fiyatı 70.00000000000021 Toplam uretim= 99.19999999999999  Toplam tuketim= 100.41000000000001\n",
      "Yıl= 2026   Petrol fiyatı 70.00000000000021 Toplam uretim= 100.0  Toplam tuketim= 100.0\n",
      "Yıl= 2027   Petrol fiyatı 63.95000000000017 Toplam uretim= 100.8  Toplam tuketim= 99.58999999999999\n",
      "Yıl= 2028   Petrol fiyatı 51.850000000000094 Toplam uretim= 101.6  Toplam tuketim= 99.17999999999998\n",
      "Yıl= 2029   Petrol fiyatı 45.800000000000054 Toplam uretim= 100.8  Toplam tuketim= 99.58999999999999\n",
      "Yıl= 2030   Petrol fiyatı 45.800000000000054 Toplam uretim= 100.0  Toplam tuketim= 100.0\n"
     ]
    }
   ],
   "source": [
    "# 1. Başlangıç değerlerini ve değişkenlerini yükle\n",
    "\n",
    "petrol_fiyati=70\n",
    "opec_uretim=32\n",
    "nopec_uretim=68\n",
    "\n",
    "oecd_tuketim=30\n",
    "noecd_tuketim=70\n",
    "\n",
    "# 2. Simulasyon için **for** döngüsünü kur\n",
    "\n",
    "for yil in range(2019,2031,1):\n",
    "\n",
    "    # A. Petrol fiyatları 60 dolar/varilin altı için değişim formülleri\n",
    "    # petrol fiyatları 60 doların altında ise\n",
    "    if petrol_fiyati<60:\n",
    "        opec_uretim=opec_uretim-0.3   # eğer 60 $'ın altında petrol fiyatı var ise OPEC üretimi 0.3 mv/g düşer\n",
    "        nopec_uretim=nopec_uretim-0.5\n",
    "    \n",
    "        oecd_tuketim=oecd_tuketim+0.01\n",
    "        noecd_tuketim=noecd_tuketim+0.4\n",
    "     \n",
    "    \n",
    "    # B. Petrol fiyatları 60 dolar/varilin üstü için değişim formülleri\n",
    "    # Petrol fiyatları 60 doların üzerinde ise\n",
    "    if petrol_fiyati>60:\n",
    "        opec_uretim=opec_uretim+0.3\n",
    "        nopec_uretim=nopec_uretim+0.5\n",
    "    \n",
    "        oecd_tuketim=oecd_tuketim-0.01\n",
    "        noecd_tuketim=noecd_tuketim-0.4 \n",
    "    \n",
    "    \n",
    "    # C. Toplam üretim ve tüketimi hesapla\n",
    "\n",
    "    toplam_uretim= opec_uretim+ nopec_uretim\n",
    "    toplam_tuketim= oecd_tuketim + noecd_tuketim\n",
    "    \n",
    "    # D. Fiyat formülünü çalıştır\n",
    "\n",
    "    hassasiyet=5\n",
    "    petrol_fiyati=petrol_fiyati-(toplam_uretim- toplam_tuketim)*hassasiyet\n",
    "    \n",
    "    # E. Ekrana yaz\n",
    "    \n",
    "    print(\"Yıl=\",yil, \"  Petrol fiyatı\",petrol_fiyati, end=\" \")\n",
    "    print(\"Toplam uretim=\",toplam_uretim,\" Toplam tuketim=\",toplam_tuketim)\n",
    "    "
   ]
  },
  {
   "cell_type": "markdown",
   "metadata": {},
   "source": [
    "# Sonuç\n",
    "\n",
    "Python ile enerji analizine giriş dersi olarak, artık gına gelmiş \"hello world\" örnekleri yerine, az komutlu, azcık aritmetik bir örneğin daha faydalı olacağını düşünerek, **22 satırda** basit bir petrol arz-talep modeli hesapladık.\n",
    "\n",
    "Sonuçları doğru olmasa da, programlama veya modelleme açısından değişkenler, fonksiyonlar ve aritmetik kullanımı adına faydalı olabilir.\n",
    "\n",
    "Python'u daha güçlü yapan veri analiz uygulamalarına ise diğer derslerde değineceğiz.\n",
    "\n",
    "\n",
    "Barış Sanlı, 23 Mart 2019\n",
    "[barissanli2@gmail.com]\n",
    "\n",
    "[ barissanli.com/python ](barissanli.com/python)"
   ]
  }
 ],
 "metadata": {
  "kernelspec": {
   "display_name": "Python 3",
   "language": "python",
   "name": "python3"
  },
  "language_info": {
   "codemirror_mode": {
    "name": "ipython",
    "version": 3
   },
   "file_extension": ".py",
   "mimetype": "text/x-python",
   "name": "python",
   "nbconvert_exporter": "python",
   "pygments_lexer": "ipython3",
   "version": "3.7.2"
  }
 },
 "nbformat": 4,
 "nbformat_minor": 2
}
