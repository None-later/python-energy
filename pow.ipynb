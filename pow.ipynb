{
 "cells": [
  {
   "cell_type": "markdown",
   "metadata": {},
   "source": [
    "# Python ile Kayıtzinciri (Blockchain)'de İş Kanıtı(Proof of Work) örneği\n",
    "\n",
    "### Barış Sanlı, www.barissanli.com , barissanli2@gmail.com\n",
    "\n",
    "\n",
    "Bu kodu yazalı sanırım 1 yıldan fazla olmuş. Aşağıdaki kod sıra ile SHA256 (şaa256 okunur) kullanarak, metinlerin özetini çıkarır. Sonra ProofOfWork (İş kanıtı)nda yer alan bulmacayı çözmeyi gösterir.\n",
    "\n",
    "Daha önce Dünya Enerji Konseyi'nde verdiğim Kayıtzinciri/Blockchain dersinde demo olarak kullanmıştım\n",
    "[link]"
   ]
  },
  {
   "cell_type": "markdown",
   "metadata": {},
   "source": [
    "## Önce Kütüphaneler\n",
    "\n",
    "Kodumuza başlamadan önce iki kütüphaneyi yükleyeceğiz.Biri **hashlib** diğeri de **time**. Asıl işlemleri **hashlib** yapıyor, **time** ise sadece süre ölçmekte kullanılacak"
   ]
  },
  {
   "cell_type": "code",
   "execution_count": 1,
   "metadata": {},
   "outputs": [],
   "source": [
    "# özüt çıkarmak için\n",
    "import hashlib\n",
    "# süre de ölçelim\n",
    "import time"
   ]
  },
  {
   "cell_type": "markdown",
   "metadata": {},
   "source": [
    "## Özütler\n",
    "\n",
    "Özütleri anlaması biraz zor olabilir. Özüt dediğimiz tek taraflı bir fonksiyondur. Yani girdinin DNAsını çıkarır. Bu DNA, 16lı düzende bir sayı dizinidir. Ama DNA'dan girdiyi bulamazsınız. Sadece aynı girdiyi kullanarak, aynı DNA'yı üretirsiniz.\n",
    "\n",
    "Mesela Windows şifreleri açık halde tutmaz. Onların DNA'larını yani SHA256 gibi özütlenmiş hallerini tutar. Ancak şifre doğru girilirse aynı SHA256 üretilir, bu da kaydedilmiş SHA256 kodu ile karşılaştırılır, doğruluğu tespit edilir. \n",
    "\n",
    "* sha256(metin) ----> sayıdizini\n",
    "\n",
    "Bunun için kullanacağımız fonksiyon **hashlib.sha256**\n",
    "\n",
    "Dikkat edilmesi gereken nokta ise metinden önce **b** konarak, unicode metinin özütlenebilir dizine çevrilmesidir"
   ]
  },
  {
   "cell_type": "code",
   "execution_count": 23,
   "metadata": {},
   "outputs": [
    {
     "data": {
      "text/plain": [
       "<sha256 HASH object @ 0x7f06f89d2e68>"
      ]
     },
     "execution_count": 23,
     "metadata": {},
     "output_type": "execute_result"
    }
   ],
   "source": [
    "hashlib.sha256(b'baris')"
   ]
  },
  {
   "cell_type": "markdown",
   "metadata": {},
   "source": [
    "İsterseniz bir de **b** olmadan deneyelim"
   ]
  },
  {
   "cell_type": "code",
   "execution_count": 24,
   "metadata": {},
   "outputs": [
    {
     "ename": "TypeError",
     "evalue": "Unicode-objects must be encoded before hashing",
     "output_type": "error",
     "traceback": [
      "\u001b[0;31m---------------------------------------------------------------------------\u001b[0m",
      "\u001b[0;31mTypeError\u001b[0m                                 Traceback (most recent call last)",
      "\u001b[0;32m<ipython-input-24-9dfe76afb9d3>\u001b[0m in \u001b[0;36m<module>\u001b[0;34m()\u001b[0m\n\u001b[0;32m----> 1\u001b[0;31m \u001b[0mhashlib\u001b[0m\u001b[0;34m.\u001b[0m\u001b[0msha256\u001b[0m\u001b[0;34m(\u001b[0m\u001b[0;34m'baris'\u001b[0m\u001b[0;34m)\u001b[0m\u001b[0;34m\u001b[0m\u001b[0;34m\u001b[0m\u001b[0m\n\u001b[0m",
      "\u001b[0;31mTypeError\u001b[0m: Unicode-objects must be encoded before hashing"
     ]
    }
   ],
   "source": [
    "hashlib.sha256('baris')"
   ]
  },
  {
   "cell_type": "markdown",
   "metadata": {},
   "source": [
    "Gördüğümüz gibi hata mesajı : **_Unicode-objects must be encoded before hashing\"_** oluştu. Bu sebeple metinlerin önünde **b** yi unutmayalım\n",
    "\n",
    "Şimdi ise metinin okunabilir, yani 16lık sayı dizinini görmeye çalışalım, bunun için de **hexdigest** alt fonksiyonunu çağırmamız yeterli olacaktır."
   ]
  },
  {
   "cell_type": "code",
   "execution_count": 25,
   "metadata": {},
   "outputs": [
    {
     "data": {
      "text/plain": [
       "'00ab7a19005385b58909cf6a7b843929ef4c3d42284fda1aa3808c33fbca8c9a'"
      ]
     },
     "execution_count": 25,
     "metadata": {},
     "output_type": "execute_result"
    }
   ],
   "source": [
    "hashlib.sha256(b'baris,67').hexdigest()"
   ]
  },
  {
   "cell_type": "markdown",
   "metadata": {},
   "source": [
    "Bu sayı dizininden girilen metnin **\"baris,67\"** olduğunu bulamayız. Tek tek tüm karakter ve sayıları denememiz gerekir. Ancak buraya **\"baris,67\"** yazan yine aynı metni girdiğinde aynı sayı dizinini oluşturur."
   ]
  },
  {
   "cell_type": "markdown",
   "metadata": {},
   "source": [
    "## İş Kanıtı(Proof of Work) - Zorluk Derecesi\n",
    "\n",
    "Bitcoinde de yer alan Proof of Work, İş kanıtı veya ispatı, aslında bir emek sarfedildiğinin ispatı olarak da anlaşılabilir. Ne için emek harcanmıştır? Bir karakter dizininden özel bir DNA kodu üretmek için. \n",
    "\n",
    "Özütlerin en önemli özelliği, tahmin edilemez olması gibidir. Yani girdiyi bir karakter veya bir bit değiştirince sonuç inanılmaz değişir. \n",
    "\n",
    "İnanmayanlar için deneyelim.\n",
    "\n",
    "Önce 0 girelim sonra 1..."
   ]
  },
  {
   "cell_type": "code",
   "execution_count": 27,
   "metadata": {},
   "outputs": [
    {
     "data": {
      "text/plain": [
       "'5feceb66ffc86f38d952786c6d696c79c2dbc239dd4e91b46729d73a27fb57e9'"
      ]
     },
     "execution_count": 27,
     "metadata": {},
     "output_type": "execute_result"
    }
   ],
   "source": [
    "hashlib.sha256(b'0').hexdigest()"
   ]
  },
  {
   "cell_type": "code",
   "execution_count": 28,
   "metadata": {},
   "outputs": [
    {
     "data": {
      "text/plain": [
       "'6b86b273ff34fce19d6b804eff5a3f5747ada4eaa22f1d49c01e52ddb7875b4b'"
      ]
     },
     "execution_count": 28,
     "metadata": {},
     "output_type": "execute_result"
    }
   ],
   "source": [
    "hashlib.sha256(b'1').hexdigest()"
   ]
  },
  {
   "cell_type": "markdown",
   "metadata": {},
   "source": [
    "Yani kasa hırsızlığı yöntemleri ile özüt tahmin edemezsiniz. Yani rakamlara bakarak hedefe yaklaşıp yaklaşmadığınızı söyleyemezsiniz"
   ]
  },
  {
   "cell_type": "code",
   "execution_count": 31,
   "metadata": {},
   "outputs": [
    {
     "data": {
      "text/plain": [
       "'baf28083d14368ab3a70a562d07ffad5f8d0a7519ba8429aba472f0a6be69489'"
      ]
     },
     "execution_count": 31,
     "metadata": {},
     "output_type": "execute_result"
    }
   ],
   "source": [
    "hashlib.sha256(b'Bu metin 9 Subat Cumartesi gece 22:07:32 de Baris Sanli tarafindan yazildi').hexdigest()"
   ]
  },
  {
   "cell_type": "markdown",
   "metadata": {},
   "source": [
    "Şimdi ise sonuna sadece **.** yani nokta koyalım bakalım sonuç ne olacak"
   ]
  },
  {
   "cell_type": "code",
   "execution_count": 32,
   "metadata": {},
   "outputs": [
    {
     "data": {
      "text/plain": [
       "'71162bc4c0c0603f685ba33d29aec2da3dea8efe776a2a29aa802fa99ba19639'"
      ]
     },
     "execution_count": 32,
     "metadata": {},
     "output_type": "execute_result"
    }
   ],
   "source": [
    "hashlib.sha256(b'Bu metin 9 Subat Cumartesi gece 22:07:32 de Baris Sanli tarafindan yazildi.').hexdigest()"
   ]
  },
  {
   "cell_type": "markdown",
   "metadata": {},
   "source": [
    "Bir metinde **baf.....** ile başlayan bir DNA elde ederken, 1 nokta en sona koyunca sonuç inanılmaz değişti **711......** li bir diziye dönüştü "
   ]
  },
  {
   "cell_type": "markdown",
   "metadata": {},
   "source": [
    "Bulmacasını çözeceğimiz metin, kendi web sitemin ismi olacak. Sıra ile bu metinden sonra bir sayı ekleyeceğiz. Çıkan sonuçların ilk karakterlerine bakacağız. **zorluk** ta belirtildiği sayıda sıfır (0) ile başlıyorsa, bulmacayı çözdük demektir. Dikkat etmeniz gereken **zorluk** sayısı 6'nın üzerine çıktıkca bekleme artacaktır.\n",
    "\n",
    "Aşağıdaki kod ne yapıyor?\n",
    "\n",
    "* Bulmaca metnini belirliyor : kayit=\"www.barissanli.com\"\n",
    "* Sonra zorluk derecesini, yani oluşan DNA'nın ilk kaç karakterinin 0 olması gerektiğini. Bu örnekte aradığımız ilk 5 karakteri 0 olan bir DNA dizini bulmak. \n",
    "* Sonra 1'den 100,000,000 yani 100 milyona kadar tüm sayıları sıra ile deneyerek, DNA'larının ilk karakterlerine bakacağız. İstediğimiz kadar 0 var ise program sonlanır\n",
    " * www.barissanli.com,1      --> a53111bd3bb5d77ac956bbbb19641a3da302b0e6ffcad5497d6ebf22ae969eda\n",
    " * www.barissanli.com,2      --> 4ad270acc15f2db5ca613a566e0e22a94d245116280f35401344d248713244df\n",
    " * ...... bir sürü deneme sonrasında\n",
    " * www.barissanli.com,301364 --> 00000f326f65c5a935dc9de59cf58c34c3f0e0fe83b61cbdc67ec36a6ed7904d"
   ]
  },
  {
   "cell_type": "code",
   "execution_count": 38,
   "metadata": {},
   "outputs": [
    {
     "data": {
      "text/plain": [
       "'a53111bd3bb5d77ac956bbbb19641a3da302b0e6ffcad5497d6ebf22ae969eda'"
      ]
     },
     "execution_count": 38,
     "metadata": {},
     "output_type": "execute_result"
    }
   ],
   "source": [
    "hashlib.sha256(str(\"www.barissanli.com,1\").encode(\"utf-8\")).hexdigest()"
   ]
  },
  {
   "cell_type": "markdown",
   "metadata": {},
   "source": [
    "Sabit metin ve zorluk derecemizi belirleyelim"
   ]
  },
  {
   "cell_type": "code",
   "execution_count": 39,
   "metadata": {},
   "outputs": [],
   "source": [
    "kayit=\"www.barissanli.com\"\n",
    "zorluk=5"
   ]
  },
  {
   "cell_type": "markdown",
   "metadata": {},
   "source": [
    "Şimdi 100 milyona kadar sayıları tek tek koyarak özüt alıp sonuca bakalım.\n",
    "\n",
    "Eğer beş sıfır (00000) yani ***zorluk*\"0\"*** ile başlayan bir metin var ise\n",
    "* ozet[0:zorluk]==(\"0\"*zorluk) \n",
    "\n",
    "o zaman programı sonlandır, cevabı yaz"
   ]
  },
  {
   "cell_type": "code",
   "execution_count": 37,
   "metadata": {},
   "outputs": [
    {
     "name": "stdout",
     "output_type": "stream",
     "text": [
      "www.barissanli.com,301364   Hash=00000f326f65c5a935dc9de59cf58c34c3f0e0fe83b61cbdc67ec36a6ed7904d\n"
     ]
    }
   ],
   "source": [
    "for i in range(0,100000000):\n",
    "                mesaj=kayit+\",\"+str(i)\n",
    "                ozet=hashlib.sha256(str(mesaj).encode(\"utf-8\")).hexdigest()\n",
    "            \n",
    "                if(ozet[0:zorluk]==(\"0\"*zorluk)):\n",
    "                        print(mesaj+\"   Hash=\"+ozet)\n",
    "                        break\n"
   ]
  },
  {
   "cell_type": "code",
   "execution_count": 40,
   "metadata": {},
   "outputs": [
    {
     "data": {
      "text/plain": [
       "'00000f326f65c5a935dc9de59cf58c34c3f0e0fe83b61cbdc67ec36a6ed7904d'"
      ]
     },
     "execution_count": 40,
     "metadata": {},
     "output_type": "execute_result"
    }
   ],
   "source": [
    "hashlib.sha256(str(mesaj).encode('utf-8')).hexdigest()"
   ]
  },
  {
   "cell_type": "markdown",
   "metadata": {},
   "source": [
    "## Zorluk derecesi ve süre\n",
    "\n",
    "Bu sıfır bulma bulmacasında zorluk derecesi arttıkça daha fazla zaman harcanıyor, yani daha fazla bilgisayar gücü ve kWh, enerji. Şimdi yukarıdaki düzeneği bir fonksiyon haline getirerek önce işimizi kolaylaştıralım\n",
    "\n",
    "Fonksiyonumuzun ismi **ProofOfWork** ve iki girdisi var ***msg*** ve ***zorluk***"
   ]
  },
  {
   "cell_type": "code",
   "execution_count": 62,
   "metadata": {},
   "outputs": [],
   "source": [
    "def ProofOfWork(msg, zorluk):\n",
    "    start=time.time()\n",
    "    for i in range(0,100000000):\n",
    "                mesaj=msg+\",\"+str(i)\n",
    "                ozet=hashlib.sha256(str(mesaj).encode(\"utf-8\")).hexdigest()          \n",
    "                if(ozet[0:zorluk]==(\"0\"*zorluk)):\n",
    "                        print(mesaj+\"   Hash=\"+ozet)\n",
    "                        end=time.time()\n",
    "                        print(zorluk,\". zorluk derecesinde toplam zaman\", (end-start),\" saniye\")\n",
    "                        return i\n",
    "                        break\n"
   ]
  },
  {
   "cell_type": "markdown",
   "metadata": {},
   "source": [
    "Şimdi \"baris\" mesajını, **2.** zorluk derecesi yani baştaki ilk iki karakter 0 olacak şekilde çalıştıralım"
   ]
  },
  {
   "cell_type": "code",
   "execution_count": 63,
   "metadata": {},
   "outputs": [
    {
     "name": "stdout",
     "output_type": "stream",
     "text": [
      "baris,67   Hash=00ab7a19005385b58909cf6a7b843929ef4c3d42284fda1aa3808c33fbca8c9a\n",
      "2 . zorluk derecesinde toplam zaman 0.0025556087493896484  saniye\n"
     ]
    },
    {
     "data": {
      "text/plain": [
       "67"
      ]
     },
     "execution_count": 63,
     "metadata": {},
     "output_type": "execute_result"
    }
   ],
   "source": [
    "ProofOfWork(\"baris\",2)"
   ]
  },
  {
   "cell_type": "markdown",
   "metadata": {},
   "source": [
    "Görüldüğü üzere 2 sıfır ile başlayan DNA veya özütü bulmak milisaniyeler mertebesinde zaman alıyor.\n",
    "\n",
    "Şimdi 00 ile başlayan DNA bulma işinden 00000'la başlayan DNA bulmaya kadar geçen zamanlara bakalım"
   ]
  },
  {
   "cell_type": "code",
   "execution_count": 45,
   "metadata": {},
   "outputs": [
    {
     "name": "stdout",
     "output_type": "stream",
     "text": [
      "baris,0   Hash=0a35925627b504b454ae29eb40dbe3fa04f75fb72dd457948b23839446953176\n",
      "1 . zorluk derecesinde toplam zaman 0.006318330764770508  saniye\n",
      "baris,67   Hash=00ab7a19005385b58909cf6a7b843929ef4c3d42284fda1aa3808c33fbca8c9a\n",
      "2 . zorluk derecesinde toplam zaman 0.0010771751403808594  saniye\n",
      "baris,2604   Hash=000ad897416ef73dfbc9378e1a2c0dc7f6424b5a254195063b76c537783697d6\n",
      "3 . zorluk derecesinde toplam zaman 0.040496826171875  saniye\n",
      "baris,109913   Hash=0000dcc0228940d7dc21a4a81a83f13b52cc7b40237297afb5d3da13a2ead210\n",
      "4 . zorluk derecesinde toplam zaman 1.2077975273132324  saniye\n",
      "baris,816526   Hash=0000022b0bff6852553a015228ddd8d5934b97a2dbcaf626f89118b6b219455f\n",
      "5 . zorluk derecesinde toplam zaman 8.129325151443481  saniye\n"
     ]
    }
   ],
   "source": [
    "for zorluk in range(1,6):\n",
    "    ProofOfWork(\"baris\",zorluk)"
   ]
  },
  {
   "cell_type": "markdown",
   "metadata": {},
   "source": [
    "Dikkat ettiminiz mi? başında 4 sıfır olan metni bulmak 1.2 saniye sürerken, 5 tane sıfır olanı bulmak 8.1 saniye sürdü. Yani 1 sıfır eklemek tam 7 kat daha fazla zaman aldı. \n",
    "\n",
    "Bitcoin'de iki blok yani kayıt arasındaki zaman azaldıkça, bulmaca zorluğu arttırılır. Yani daha çok sıfır olan bir bulmacanın çözülmesi istenir. Süre uzarsa da bu 0 sayısı azaltılır.\n"
   ]
  },
  {
   "cell_type": "markdown",
   "metadata": {},
   "source": [
    "## İşlem denemesi\n",
    "\n",
    "Şimdi de bir işlem denemesi yapalım. Yani isim-web sayfası değil de bir işlem listesi oluşturarak, bunlardan DNA çıkaralım\n",
    "\n",
    "Bir bloğu ikiye ayıralım, önce başı sonra da işlemlerin yer aldığı ana kısım yer alsın. \n",
    "\n",
    "Bloğun başında:\n",
    "* sira -> kayıt sırası\n",
    "* ozut -> bir önceki kayıdın özütü olsun\n",
    "* denge -> denge ise daha önce aradığımız sayıda 0(sıfır) rakamlı özütü sağlayan rakam olsun. Yani bulmaca sonucu\n",
    "\n",
    "İlk bloğumuz doğuş bloğu, yani herhangi bir öncüsü olmadığı için dilediğimiz rakamları seçebiliriz\n",
    "\n"
   ]
  },
  {
   "cell_type": "code",
   "execution_count": 59,
   "metadata": {},
   "outputs": [],
   "source": [
    "sira=0\n",
    "ozut=0\n",
    "denge=0"
   ]
  },
  {
   "cell_type": "markdown",
   "metadata": {},
   "source": [
    "Şimdi de kayıt oluşturalım"
   ]
  },
  {
   "cell_type": "code",
   "execution_count": 60,
   "metadata": {},
   "outputs": [
    {
     "data": {
      "text/plain": [
       "'b919eaa508582d537c0cdd7dd3803648afe2c755d6714c8858bb116cb42abfce'"
      ]
     },
     "execution_count": 60,
     "metadata": {},
     "output_type": "execute_result"
    }
   ],
   "source": [
    "islem =  \"Kayıt sırası:\"+str(sira)+\"\\n\"\n",
    "islem+=  \"Özüt:\"+str(ozut)+\"\\n\"\n",
    "islem+=  \"Denge:\"+str(denge)+\"\\n\"\n",
    "islem+=  \"-----------------------------\\n\"\n",
    "islem+=  \"1       Barış’tan Mehmet’e 10\\n\"\n",
    "islem+=  \"2       Ali’den Ayşe’ye 2\\n\"\n",
    "islem+=  \"3       Seyit’ten İbo’ya 5\"\n",
    "hashlib.sha256(islem.encode(\"utf-8\")).hexdigest()  "
   ]
  },
  {
   "cell_type": "markdown",
   "metadata": {},
   "source": [
    "Gördüğünüz gibi kayıdı sıradan özüt alma yaparsak rastgele DNA'sını oluşturuyor.\n",
    "\n",
    "Bu doğuş özütü olsun şimdi bunu ekrana yazalım\n"
   ]
  },
  {
   "cell_type": "code",
   "execution_count": 61,
   "metadata": {},
   "outputs": [
    {
     "name": "stdout",
     "output_type": "stream",
     "text": [
      "Kayıt sırası:0\n",
      "Özüt:0\n",
      "Denge:0\n",
      "-----------------------------\n",
      "1       Barış’tan Mehmet’e 10\n",
      "2       Ali’den Ayşe’ye 2\n",
      "3       Seyit’ten İbo’ya 5\n"
     ]
    }
   ],
   "source": [
    "print(islem)"
   ]
  },
  {
   "cell_type": "markdown",
   "metadata": {},
   "source": [
    "Daha önce yukarıda yazdığımız iş kanıtı kodunu kullanalım\n"
   ]
  },
  {
   "cell_type": "code",
   "execution_count": 82,
   "metadata": {},
   "outputs": [
    {
     "name": "stdout",
     "output_type": "stream",
     "text": [
      "Kayıt sırası:1\n",
      "Özüt:0\n",
      "Denge:2803\n",
      "-----------------------------\n",
      "1       Barış’tan Mehmet’e 10\n",
      "2       Ali’den Ayşe’ye 2\n",
      "3       Seyit’ten İbo’ya 5\n",
      "\n",
      "\n",
      "  Hash=000009c3fe4cf834a0023fbb32327c29019af8535fa6fafbc9c3e56bdbb606f4\n"
     ]
    }
   ],
   "source": [
    "zorluk=4\n",
    "sira=1\n",
    "ozut=0\n",
    "\n",
    "\n",
    "for denge in range(0,100000000):\n",
    "    islem =  \"Kayıt sırası:\"+str(sira)+\"\\n\"\n",
    "    islem+=  \"Özüt:\"+str(ozut)+\"\\n\"\n",
    "    islem+=  \"Denge:\"+str(denge)+\"\\n\"\n",
    "    islem+=  \"-----------------------------\\n\"\n",
    "    islem+=  \"1       Barış’tan Mehmet’e 10\\n\"\n",
    "    islem+=  \"2       Ali’den Ayşe’ye 2\\n\"\n",
    "    islem+=  \"3       Seyit’ten İbo’ya 5\"\n",
    "    ozet=hashlib.sha256(str(islem).encode(\"utf-8\")).hexdigest()\n",
    "            \n",
    "    if(ozet[0:zorluk]==(\"0\"*zorluk)):\n",
    "      print(islem+\"\\n\\n\\n  Hash=\"+ozet)\n",
    "      break\n",
    "        \n",
    "ilk_blok=islem\n",
    "ilk_ozut=ozet"
   ]
  },
  {
   "cell_type": "markdown",
   "metadata": {},
   "source": [
    "Yani yukarıdaki metinde, **denge** 65216 olunca tüm mesajın DNAsı 4 tane sıfır ile başlıyor.\n",
    "\n",
    "Şimdi ikinci kayıdımıza geçerken bir önceki özütü bu kayıdın özüt satırına yerleştiriyoruz. Dikkat ederseniz işlemler de yeni işlemler oluyor. \n"
   ]
  },
  {
   "cell_type": "code",
   "execution_count": 83,
   "metadata": {},
   "outputs": [
    {
     "name": "stdout",
     "output_type": "stream",
     "text": [
      "Kayıt sırası:2\n",
      "Özüt:000009c3fe4cf834a0023fbb32327c29019af8535fa6fafbc9c3e56bdbb606f4\n",
      "Denge:131418\n",
      "-----------------------------\n",
      "1       Ali’den Ayşe’ye 2\n",
      "2       Barış’tan Mehmet’e 10\n",
      "3       Seyit’ten İbo’ya 5\n",
      "\n",
      "\n",
      "   Hash=0000237ace12d02e612f126a94260e0ced89a7e5ebc9b2ee7349a580e89183af\n"
     ]
    }
   ],
   "source": [
    "zorluk=4\n",
    "sira=2\n",
    "ozut=ozet\n",
    "\n",
    "for denge in range(0,100000000):\n",
    "    islem =  \"Kayıt sırası:\"+str(sira)+\"\\n\"\n",
    "    islem+=  \"Özüt:\"+str(ozut)+\"\\n\"\n",
    "    islem+=  \"Denge:\"+str(denge)+\"\\n\"\n",
    "    islem+=  \"-----------------------------\\n\"\n",
    "    islem+=  \"1       Ali’den Ayşe’ye 2\\n\"\n",
    "    islem+=  \"2       Barış’tan Mehmet’e 10\\n\"\n",
    "    islem+=  \"3       Seyit’ten İbo’ya 5\"\n",
    "    ozet=hashlib.sha256(str(islem).encode(\"utf-8\")).hexdigest()\n",
    "            \n",
    "    if(ozet[0:zorluk]==(\"0\"*zorluk)):\n",
    "      print(islem+\"\\n\\n\\n   Hash=\"+ozet)\n",
    "      break\n",
    "        \n",
    "ikinci_blok=islem\n",
    "ikinci_ozut=ozet"
   ]
  },
  {
   "cell_type": "markdown",
   "metadata": {},
   "source": [
    "İkinci kayıdımızda ilk kayıttan çıkan özütümüzü aldık ve bu kayıdın başlık kısmındaki özüt satırına ekledik. \n",
    "Tüm bir Bitcoin mantığı da basitçe bu. Gerçi Bitcoin daha güvenli olsun diye iki defa SHA256 yapıyor"
   ]
  },
  {
   "cell_type": "markdown",
   "metadata": {},
   "source": [
    "## Sonuç\n",
    "\n",
    "İki blokluk yani kayıtlık bir işlem dizesinde İş kanıtı ile kısaca kayıtzinciri/blockchain mantığını göstermiş olduk. Şimdi kısaca tekrar iki bloğumuza da bakalım\n",
    "\n",
    "* Önce ilk blok"
   ]
  },
  {
   "cell_type": "code",
   "execution_count": 88,
   "metadata": {},
   "outputs": [
    {
     "name": "stdout",
     "output_type": "stream",
     "text": [
      "Kayıt sırası:1\n",
      "Özüt:0\n",
      "Denge:2803\n",
      "-----------------------------\n",
      "1       Barış’tan Mehmet’e 10\n",
      "2       Ali’den Ayşe’ye 2\n",
      "3       Seyit’ten İbo’ya 5\n",
      "\n",
      "\n",
      " Bu kayıdın özütü:000009c3fe4cf834a0023fbb32327c29019af8535fa6fafbc9c3e56bdbb606f4\n",
      "\n",
      " Bu özüt de bir sonraki bloğa eklenecek\n"
     ]
    }
   ],
   "source": [
    "print(ilk_blok+\"\\n\\n\\n Bu kayıdın özütü:\"+ilk_ozut+\"\\n\\n Bu özüt de bir sonraki bloğa eklenecek\")"
   ]
  },
  {
   "cell_type": "markdown",
   "metadata": {},
   "source": [
    "* Şimdi de ikinci blok'a bakalım"
   ]
  },
  {
   "cell_type": "code",
   "execution_count": 89,
   "metadata": {},
   "outputs": [
    {
     "name": "stdout",
     "output_type": "stream",
     "text": [
      "Kayıt sırası:2\n",
      "Özüt:000009c3fe4cf834a0023fbb32327c29019af8535fa6fafbc9c3e56bdbb606f4\n",
      "Denge:131418\n",
      "-----------------------------\n",
      "1       Ali’den Ayşe’ye 2\n",
      "2       Barış’tan Mehmet’e 10\n",
      "3       Seyit’ten İbo’ya 5\n",
      "\n",
      "\n",
      "0000237ace12d02e612f126a94260e0ced89a7e5ebc9b2ee7349a580e89183af\n",
      "\n",
      " Bu özüt de bir sonraki bloğa eklenecek\n"
     ]
    }
   ],
   "source": [
    "print(ikinci_blok+\"\\n\\n\\n\"+ikinci_ozut+\"\\n\\n Bu özüt de bir sonraki bloğa eklenecek\")"
   ]
  },
  {
   "cell_type": "markdown",
   "metadata": {},
   "source": [
    "Kısaca Bitcoin benzer prensiple çalışıyor. Umarım bu anlamanıza yardımcı olmuştur"
   ]
  },
  {
   "cell_type": "markdown",
   "metadata": {},
   "source": [
    "### Barış Sanlı, www.barissanli.com , barissanli2@gmail.com"
   ]
  }
 ],
 "metadata": {
  "kernelspec": {
   "display_name": "Python 3",
   "language": "python",
   "name": "python3"
  },
  "language_info": {
   "codemirror_mode": {
    "name": "ipython",
    "version": 3
   },
   "file_extension": ".py",
   "mimetype": "text/x-python",
   "name": "python",
   "nbconvert_exporter": "python",
   "pygments_lexer": "ipython3",
   "version": "3.7.2"
  }
 },
 "nbformat": 4,
 "nbformat_minor": 2
}
