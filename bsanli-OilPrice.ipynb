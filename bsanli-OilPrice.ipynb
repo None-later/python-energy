{
 "cells": [
  {
   "cell_type": "markdown",
   "metadata": {},
   "source": [
    "# Temporal Patterns in Oil Prices - Monthly, Weekly, Daily Analysis\n",
    "\n",
    "### Baris Sanli barissanli2@gmail.com\n",
    "www.barissanli.com/python"
   ]
  },
  {
   "cell_type": "markdown",
   "metadata": {},
   "source": [
    "Can we have a generic oil price pattern for the whole year? Are there any hidden data patterns in oil price movements that still needs to be investigated? Is the Chinese new year more important than US driving season or Hajj period in Saudi Arabia?\n",
    "Questions in oil prices never cease. That is an attractive property of oil price discussions, the zenith of such discussions is oil price forecasts. Experts refrain, ignorants try their chances with a gamblers enthusiasm.\n",
    "In this article, a Python based oil price behaviour will be discussed. The code and the relevant parts are available on my web page\n",
    "\n"
   ]
  },
  {
   "cell_type": "markdown",
   "metadata": {},
   "source": [
    "## Data"
   ]
  },
  {
   "cell_type": "markdown",
   "metadata": {},
   "source": [
    "Data is downloaded from EIA website from https://www.eia.gov/dnav/pet/hist_xls/RBRTEd.xls . It includes daily Brent prices from 1987 and provides a good source for analysis"
   ]
  },
  {
   "cell_type": "markdown",
   "metadata": {},
   "source": [
    "## Libraries"
   ]
  },
  {
   "cell_type": "markdown",
   "metadata": {},
   "source": [
    "I do not enjoy Python's red alert warnings. They are important, do doubts. In my first run I let them scream. But for the notebook purposes I choose to supress them"
   ]
  },
  {
   "cell_type": "code",
   "execution_count": 85,
   "metadata": {},
   "outputs": [],
   "source": [
    "# Supress warnings\n",
    "import warnings\n",
    "warnings.filterwarnings('ignore')"
   ]
  },
  {
   "cell_type": "markdown",
   "metadata": {},
   "source": [
    "Then comes the necessary libraries for analysis. I use inline to include matplotlib(plotting library), numpy(for numerical analysis) and pandas "
   ]
  },
  {
   "cell_type": "code",
   "execution_count": 86,
   "metadata": {},
   "outputs": [
    {
     "name": "stdout",
     "output_type": "stream",
     "text": [
      "Populating the interactive namespace from numpy and matplotlib\n"
     ]
    }
   ],
   "source": [
    "# use pylab inline to numpy, matplotlib\n",
    "%pylab inline\n",
    "\n",
    "# now include Pandas library for data analysis\n",
    "import pandas as pd"
   ]
  },
  {
   "cell_type": "markdown",
   "metadata": {},
   "source": [
    "## A first look at data"
   ]
  },
  {
   "cell_type": "markdown",
   "metadata": {},
   "source": [
    "For the rest of the exercise, I will use one data source. It is an Excel file. If it fails to load, check internet connection and then make sure that you installed **_xlrd_** library from terminal.\n",
    "For xlrd use command \"**pip install xlrd**\"\n",
    "My data source is named **Brent_data**"
   ]
  },
  {
   "cell_type": "code",
   "execution_count": 87,
   "metadata": {},
   "outputs": [],
   "source": [
    "Brent_data=\"https://www.eia.gov/dnav/pet/hist_xls/RBRTEd.xls\""
   ]
  },
  {
   "cell_type": "markdown",
   "metadata": {},
   "source": [
    "**read_excel** command from Pandas library can directly download and convert the date into data frames. Excel file may have extra rows or columns before data, so we have to tell how many rows should we skip before reaching the data "
   ]
  },
  {
   "cell_type": "code",
   "execution_count": 88,
   "metadata": {},
   "outputs": [],
   "source": [
    "prices=pd.read_excel(\"https://www.eia.gov/dnav/pet/hist_xls/RBRTEd.xls\",sheet_name=\"Data 1\", skiprows=2)"
   ]
  },
  {
   "cell_type": "markdown",
   "metadata": {},
   "source": [
    "Let's see the shape of data with shape attribute"
   ]
  },
  {
   "cell_type": "code",
   "execution_count": 89,
   "metadata": {},
   "outputs": [
    {
     "data": {
      "text/plain": [
       "(8048, 2)"
      ]
     },
     "execution_count": 89,
     "metadata": {},
     "output_type": "execute_result"
    }
   ],
   "source": [
    "prices.shape"
   ]
  },
  {
   "cell_type": "markdown",
   "metadata": {},
   "source": [
    "Our data has 2 columns and 8043 rows. Now let's check the beginning and end of our data set. \n",
    "We have to call **head** and **tail** commands for start and end of data. It is also possible to set the number of data you want to see."
   ]
  },
  {
   "cell_type": "code",
   "execution_count": 90,
   "metadata": {},
   "outputs": [
    {
     "data": {
      "text/html": [
       "<div>\n",
       "<style scoped>\n",
       "    .dataframe tbody tr th:only-of-type {\n",
       "        vertical-align: middle;\n",
       "    }\n",
       "\n",
       "    .dataframe tbody tr th {\n",
       "        vertical-align: top;\n",
       "    }\n",
       "\n",
       "    .dataframe thead th {\n",
       "        text-align: right;\n",
       "    }\n",
       "</style>\n",
       "<table border=\"1\" class=\"dataframe\">\n",
       "  <thead>\n",
       "    <tr style=\"text-align: right;\">\n",
       "      <th></th>\n",
       "      <th>Date</th>\n",
       "      <th>Europe Brent Spot Price FOB (Dollars per Barrel)</th>\n",
       "    </tr>\n",
       "  </thead>\n",
       "  <tbody>\n",
       "    <tr>\n",
       "      <th>0</th>\n",
       "      <td>1987-05-20</td>\n",
       "      <td>18.63</td>\n",
       "    </tr>\n",
       "    <tr>\n",
       "      <th>1</th>\n",
       "      <td>1987-05-21</td>\n",
       "      <td>18.45</td>\n",
       "    </tr>\n",
       "    <tr>\n",
       "      <th>2</th>\n",
       "      <td>1987-05-22</td>\n",
       "      <td>18.55</td>\n",
       "    </tr>\n",
       "    <tr>\n",
       "      <th>3</th>\n",
       "      <td>1987-05-25</td>\n",
       "      <td>18.60</td>\n",
       "    </tr>\n",
       "  </tbody>\n",
       "</table>\n",
       "</div>"
      ],
      "text/plain": [
       "        Date  Europe Brent Spot Price FOB (Dollars per Barrel)\n",
       "0 1987-05-20                                             18.63\n",
       "1 1987-05-21                                             18.45\n",
       "2 1987-05-22                                             18.55\n",
       "3 1987-05-25                                             18.60"
      ]
     },
     "execution_count": 90,
     "metadata": {},
     "output_type": "execute_result"
    }
   ],
   "source": [
    "#first 4 data points\n",
    "prices.head(4)"
   ]
  },
  {
   "cell_type": "code",
   "execution_count": 91,
   "metadata": {},
   "outputs": [
    {
     "data": {
      "text/html": [
       "<div>\n",
       "<style scoped>\n",
       "    .dataframe tbody tr th:only-of-type {\n",
       "        vertical-align: middle;\n",
       "    }\n",
       "\n",
       "    .dataframe tbody tr th {\n",
       "        vertical-align: top;\n",
       "    }\n",
       "\n",
       "    .dataframe thead th {\n",
       "        text-align: right;\n",
       "    }\n",
       "</style>\n",
       "<table border=\"1\" class=\"dataframe\">\n",
       "  <thead>\n",
       "    <tr style=\"text-align: right;\">\n",
       "      <th></th>\n",
       "      <th>Date</th>\n",
       "      <th>Europe Brent Spot Price FOB (Dollars per Barrel)</th>\n",
       "    </tr>\n",
       "  </thead>\n",
       "  <tbody>\n",
       "    <tr>\n",
       "      <th>8045</th>\n",
       "      <td>2019-01-31</td>\n",
       "      <td>62.46</td>\n",
       "    </tr>\n",
       "    <tr>\n",
       "      <th>8046</th>\n",
       "      <td>2019-02-01</td>\n",
       "      <td>61.86</td>\n",
       "    </tr>\n",
       "    <tr>\n",
       "      <th>8047</th>\n",
       "      <td>2019-02-04</td>\n",
       "      <td>62.26</td>\n",
       "    </tr>\n",
       "  </tbody>\n",
       "</table>\n",
       "</div>"
      ],
      "text/plain": [
       "           Date  Europe Brent Spot Price FOB (Dollars per Barrel)\n",
       "8045 2019-01-31                                             62.46\n",
       "8046 2019-02-01                                             61.86\n",
       "8047 2019-02-04                                             62.26"
      ]
     },
     "execution_count": 91,
     "metadata": {},
     "output_type": "execute_result"
    }
   ],
   "source": [
    "# the last 3 data points\n",
    "prices.tail(3)"
   ]
  },
  {
   "cell_type": "markdown",
   "metadata": {},
   "source": [
    "And let's see the column titles with list command"
   ]
  },
  {
   "cell_type": "code",
   "execution_count": 92,
   "metadata": {},
   "outputs": [
    {
     "data": {
      "text/plain": [
       "['Date', 'Europe Brent Spot Price FOB (Dollars per Barrel)']"
      ]
     },
     "execution_count": 92,
     "metadata": {},
     "output_type": "execute_result"
    }
   ],
   "source": [
    "list(prices)"
   ]
  },
  {
   "cell_type": "markdown",
   "metadata": {},
   "source": [
    "## Plotting"
   ]
  },
  {
   "cell_type": "markdown",
   "metadata": {},
   "source": [
    "Plotting the whole series can be easily done with *plot* command\n",
    "**_WARNING: if you didn't run the initial %pylab inline command before, you will see errors_**\n",
    "\n",
    "In data frames after square brackets use ' and then press TAB to see the list"
   ]
  },
  {
   "cell_type": "code",
   "execution_count": 93,
   "metadata": {},
   "outputs": [
    {
     "data": {
      "text/plain": [
       "[<matplotlib.lines.Line2D at 0x7ff17507c208>]"
      ]
     },
     "execution_count": 93,
     "metadata": {},
     "output_type": "execute_result"
    },
    {
     "data": {
      "image/png": "[encoded data removed]",
      "text/plain": [
       "<Figure size 432x288 with 1 Axes>"
      ]
     },
     "metadata": {
      "needs_background": "light"
     },
     "output_type": "display_data"
    }
   ],
   "source": [
    "plot(prices['Europe Brent Spot Price FOB (Dollars per Barrel)'])"
   ]
  },
  {
   "cell_type": "markdown",
   "metadata": {},
   "source": [
    "## Histogram\n",
    "\n",
    "A histogram is a plot of ordered list of frequencies. You can assume *bins* as the number of divisions seen on X axis.\n",
    " \n",
    "with a simple *hist* command we can get the distribution of oil prices"
   ]
  },
  {
   "cell_type": "code",
   "execution_count": 94,
   "metadata": {},
   "outputs": [
    {
     "data": {
      "text/plain": [
       "(array([3052., 1314.,  644.,  818.,  696.,  353.,  268.,  726.,  149.,\n",
       "          28.]),\n",
       " array([  9.1  ,  22.585,  36.07 ,  49.555,  63.04 ,  76.525,  90.01 ,\n",
       "        103.495, 116.98 , 130.465, 143.95 ]),\n",
       " <a list of 10 Patch objects>)"
      ]
     },
     "execution_count": 94,
     "metadata": {},
     "output_type": "execute_result"
    },
    {
     "data": {
      "image/png": "[encoded data removed]",
      "text/plain": [
       "<Figure size 432x288 with 1 Axes>"
      ]
     },
     "metadata": {
      "needs_background": "light"
     },
     "output_type": "display_data"
    }
   ],
   "source": [
    "hist(prices['Europe Brent Spot Price FOB (Dollars per Barrel)'])"
   ]
  },
  {
   "cell_type": "markdown",
   "metadata": {},
   "source": [
    "Now let's increase the resolution with *bins* command"
   ]
  },
  {
   "cell_type": "code",
   "execution_count": 95,
   "metadata": {},
   "outputs": [
    {
     "data": {
      "image/png": "[encoded data removed]",
      "text/plain": [
       "<Figure size 432x288 with 1 Axes>"
      ]
     },
     "metadata": {
      "needs_background": "light"
     },
     "output_type": "display_data"
    }
   ],
   "source": [
    "hist(prices['Europe Brent Spot Price FOB (Dollars per Barrel)'], bins=100);"
   ]
  },
  {
   "cell_type": "markdown",
   "metadata": {},
   "source": [
    "See the difference? In the second plot we just used  **_bins=100_** command to increase resolution in X axis\n",
    "\n",
    "But the numbers are oil prices. The histogram of change can be much more meaningful. To have the percentage change of a data set is done by subfunction **_.pct\\__change()_**"
   ]
  },
  {
   "cell_type": "code",
   "execution_count": 96,
   "metadata": {},
   "outputs": [
    {
     "data": {
      "image/png": "[encoded data removed]",
      "text/plain": [
       "<Figure size 432x288 with 1 Axes>"
      ]
     },
     "metadata": {
      "needs_background": "light"
     },
     "output_type": "display_data"
    }
   ],
   "source": [
    "hist(prices['Europe Brent Spot Price FOB (Dollars per Barrel)'].pct_change(), bins=100 );"
   ]
  },
  {
   "cell_type": "markdown",
   "metadata": {},
   "source": [
    "This brings us to our first conclusion: ** oil prices do not change a lot daily. ** . But what is the extent of these changes.. Now we will investigate this change"
   ]
  },
  {
   "cell_type": "markdown",
   "metadata": {},
   "source": [
    "## A Closer Look"
   ]
  },
  {
   "cell_type": "markdown",
   "metadata": {},
   "source": [
    "Most of the percent change in oil price data is aligned between -0.1 (-10%) and 0.1 (10%). The automatic range on X axis shows us that there are extreme negatives (-30%ish) and extreme positives (%20%~). We may want to look these regions closely. \n",
    "\n",
    "As a first step, we will assign the percentage changes to a new variable called pc. Then we will produce the histogram of pc(percent change) data. It should look similar to the one above."
   ]
  },
  {
   "cell_type": "code",
   "execution_count": 97,
   "metadata": {},
   "outputs": [
    {
     "data": {
      "image/png": "[encoded data removed]",
      "text/plain": [
       "<Figure size 432x288 with 1 Axes>"
      ]
     },
     "metadata": {
      "needs_background": "light"
     },
     "output_type": "display_data"
    }
   ],
   "source": [
    "pc=prices['Europe Brent Spot Price FOB (Dollars per Barrel)'].pct_change()\n",
    "hist(pc, bins=100);"
   ]
  },
  {
   "cell_type": "markdown",
   "metadata": {},
   "source": [
    "## Filtering Data\n",
    "\n",
    "The graph above is to cumbersome to see most of the action. I need to filter the data. Specifically I want to look at 1%(=0.01) and -1%(-0.01) range.  \n",
    "\n",
    "Initially, by conditional and logical operators I can choose certain numbers inline with my rules such as larger than 0.01.\n",
    "\n",
    "If pc>0.01 is executed, it will produce bunch of **True** and **False**s. When these **True** and **Falses** are inputted into original data to produce DATA from True values. If a value is True for that cell, it's value will be selected.\n",
    "\n",
    "Let's do it one by one\n",
    "Step 1. Values larger than 0.01 (means >0.01) - You can use without paranthesis. To save space, i am looking for the first 5 data"
   ]
  },
  {
   "cell_type": "code",
   "execution_count": 98,
   "metadata": {},
   "outputs": [
    {
     "data": {
      "text/plain": [
       "0    False\n",
       "1    False\n",
       "2    False\n",
       "3    False\n",
       "4    False\n",
       "Name: Europe Brent Spot Price FOB (Dollars per Barrel), dtype: bool"
      ]
     },
     "execution_count": 98,
     "metadata": {},
     "output_type": "execute_result"
    }
   ],
   "source": [
    "(pc>0.01 ).head(5)"
   ]
  },
  {
   "cell_type": "markdown",
   "metadata": {},
   "source": [
    "Now, we will insert the True-False values to produce data points bigger than %1 (=0.01)"
   ]
  },
  {
   "cell_type": "code",
   "execution_count": 99,
   "metadata": {},
   "outputs": [
    {
     "data": {
      "text/plain": [
       "26    0.020321\n",
       "30    0.014226\n",
       "35    0.010267\n",
       "39    0.020121\n",
       "41    0.011275\n",
       "Name: Europe Brent Spot Price FOB (Dollars per Barrel), dtype: float64"
      ]
     },
     "execution_count": 99,
     "metadata": {},
     "output_type": "execute_result"
    }
   ],
   "source": [
    "pc[pc>0.01].head(5)"
   ]
  },
  {
   "cell_type": "markdown",
   "metadata": {},
   "source": [
    "Now i can combine two conditions with logical and(&) operator. \n",
    "\n",
    "Such as  percent changes smaller than 1% and percent changes larger than -1% (in negative terms it is just the opposite) translates to\n",
    "\n",
    "**_(pc<0.01) & (pc>-0.01)_**\n"
   ]
  },
  {
   "cell_type": "code",
   "execution_count": 100,
   "metadata": {},
   "outputs": [
    {
     "data": {
      "text/plain": [
       "1   -0.009662\n",
       "2    0.005420\n",
       "3    0.002695\n",
       "Name: Europe Brent Spot Price FOB (Dollars per Barrel), dtype: float64"
      ]
     },
     "execution_count": 100,
     "metadata": {},
     "output_type": "execute_result"
    }
   ],
   "source": [
    "pc[(pc<0.01) & (pc>-0.01)].head(3)"
   ]
  },
  {
   "cell_type": "markdown",
   "metadata": {},
   "source": [
    "Now we can plot the histogram of data between 1% and -1% again"
   ]
  },
  {
   "cell_type": "code",
   "execution_count": 101,
   "metadata": {},
   "outputs": [
    {
     "data": {
      "image/png": "[encoded data removed]",
      "text/plain": [
       "<Figure size 432x288 with 1 Axes>"
      ]
     },
     "metadata": {
      "needs_background": "light"
     },
     "output_type": "display_data"
    }
   ],
   "source": [
    "hist(pc[(pc<0.01) & (pc>-0.01)], bins=100);"
   ]
  },
  {
   "cell_type": "markdown",
   "metadata": {},
   "source": [
    "This looks quite strange let's look at 5% ranges."
   ]
  },
  {
   "cell_type": "code",
   "execution_count": 102,
   "metadata": {},
   "outputs": [
    {
     "data": {
      "image/png": "[encoded data removed]",
      "text/plain": [
       "<Figure size 432x288 with 1 Axes>"
      ]
     },
     "metadata": {
      "needs_background": "light"
     },
     "output_type": "display_data"
    }
   ],
   "source": [
    "hist(pc[(pc<0.05) & (pc>-0.05)], bins=100);"
   ]
  },
  {
   "cell_type": "markdown",
   "metadata": {},
   "source": [
    "An easier way is to just put range in hist command \n",
    "\n",
    "**range= (-0.05, 0.05)** parameter tells the hist command that we would like to see only 5%<->-5% range, without filtering data"
   ]
  },
  {
   "cell_type": "code",
   "execution_count": 103,
   "metadata": {},
   "outputs": [
    {
     "data": {
      "image/png": "[encoded data removed]",
      "text/plain": [
       "<Figure size 432x288 with 1 Axes>"
      ]
     },
     "metadata": {
      "needs_background": "light"
     },
     "output_type": "display_data"
    }
   ],
   "source": [
    "hist(pc, bins=100, range=(-0.05,0.05));"
   ]
  },
  {
   "cell_type": "markdown",
   "metadata": {},
   "source": [
    "## Calculating extreme and normal condition probabilities"
   ]
  },
  {
   "cell_type": "markdown",
   "metadata": {},
   "source": [
    "So we can filter data, and find number of variables that the filtration results. Now we can try to find the probability of 1% <-> -1% oil price movements in the whole series.\n",
    "\n",
    "First we will use cumbersome method, then **.count** command will be used.\n",
    "\n"
   ]
  },
  {
   "cell_type": "code",
   "execution_count": 104,
   "metadata": {},
   "outputs": [
    {
     "data": {
      "text/plain": [
       "(8048,)"
      ]
     },
     "execution_count": 104,
     "metadata": {},
     "output_type": "execute_result"
    }
   ],
   "source": [
    "# What was the shape of original data?\n",
    "pc.shape"
   ]
  },
  {
   "cell_type": "markdown",
   "metadata": {},
   "source": [
    "Since **shape** returns tuple. So we can extract value using [0] or [1]"
   ]
  },
  {
   "cell_type": "code",
   "execution_count": 105,
   "metadata": {},
   "outputs": [
    {
     "data": {
      "text/plain": [
       "8048"
      ]
     },
     "execution_count": 105,
     "metadata": {},
     "output_type": "execute_result"
    }
   ],
   "source": [
    "pc.shape[0]"
   ]
  },
  {
   "cell_type": "markdown",
   "metadata": {},
   "source": [
    "We know that there are 8043 rows ( In Python (rows,columns) is the general usage). We can also call a command called count"
   ]
  },
  {
   "cell_type": "code",
   "execution_count": 106,
   "metadata": {},
   "outputs": [
    {
     "data": {
      "text/plain": [
       "8047"
      ]
     },
     "execution_count": 106,
     "metadata": {},
     "output_type": "execute_result"
    }
   ],
   "source": [
    "pc.count()"
   ]
  },
  {
   "cell_type": "markdown",
   "metadata": {},
   "source": [
    "***Warning***\n",
    "With shape we got 8043, but with count we found 8042. The difference is because count() excludes NA values.\n",
    "\n",
    "For probabilities I will use both ways to illustrate both ways. \n",
    "\n",
    "Probability of 1%<->-1% = (number of cells in between 1% and -1%) / (total data population)\n",
    "\n",
    "Let's start with 1% "
   ]
  },
  {
   "cell_type": "code",
   "execution_count": 107,
   "metadata": {},
   "outputs": [
    {
     "data": {
      "text/plain": [
       "0.44719184890656066"
      ]
     },
     "execution_count": 107,
     "metadata": {},
     "output_type": "execute_result"
    }
   ],
   "source": [
    "# For 1% \n",
    "pc[(0.01>pc) & (-0.01<pc)].shape[0]/pc.shape[0]"
   ]
  },
  {
   "cell_type": "markdown",
   "metadata": {},
   "source": [
    "How many cells are in between 5% and -5%?"
   ]
  },
  {
   "cell_type": "code",
   "execution_count": 108,
   "metadata": {},
   "outputs": [
    {
     "data": {
      "text/plain": [
       "7770"
      ]
     },
     "execution_count": 108,
     "metadata": {},
     "output_type": "execute_result"
    }
   ],
   "source": [
    "pc[(0.05>pc) & (-0.05<pc)].shape[0]"
   ]
  },
  {
   "cell_type": "markdown",
   "metadata": {},
   "source": [
    "So probability for 5% should be 7765/8043"
   ]
  },
  {
   "cell_type": "code",
   "execution_count": 109,
   "metadata": {},
   "outputs": [
    {
     "data": {
      "text/plain": [
       "0.9654357826681587"
      ]
     },
     "execution_count": 109,
     "metadata": {},
     "output_type": "execute_result"
    }
   ],
   "source": [
    "7765/8043"
   ]
  },
  {
   "cell_type": "markdown",
   "metadata": {},
   "source": [
    "Now we can calculate and print the ranges in order"
   ]
  },
  {
   "cell_type": "code",
   "execution_count": 110,
   "metadata": {},
   "outputs": [
    {
     "name": "stdout",
     "output_type": "stream",
     "text": [
      "The probability of oil price changes between 1% and -1%% is  44.71918489065607\n",
      "The probability of oil price changes between 5% and -5%% is  96.54572564612326\n",
      "The probability of oil price changes larger than 5% is  1.9880715705765408\n",
      "The probability of oil price changes lower(extreme) than -5% is  1.4537773359840955\n"
     ]
    }
   ],
   "source": [
    "print(\"The probability of oil price changes between 1% and -1%% is \", (100*pc[(0.01>pc) & (-0.01<pc)].shape[0]/pc.shape[0]))\n",
    "print(\"The probability of oil price changes between 5% and -5%% is \" ,(100*pc[(0.05>pc) & (-0.05<pc)].shape[0]/pc.shape[0]))\n",
    "print(\"The probability of oil price changes larger than 5% is \" , (100*(pc[(0.05<pc)].shape[0])/pc.shape[0]))\n",
    "print(\"The probability of oil price changes lower(extreme) than -5% is \" ,  (100*pc[(-0.05>pc)].shape[0]/pc.shape[0]))"
   ]
  },
  {
   "cell_type": "markdown",
   "metadata": {},
   "source": [
    "Unfortunately the output is not that pretty. Print command can also do formating. Print formatting can be tricky. Especially, if you are using % (percent) sign in the text part.\n",
    "\n",
    "1. You have to replace **all '%' signs with '%%'** to help python not confuse this sign with formatting sign. \n",
    "2. Instead of comma (,) use *%* at the end of quotes \"\n",
    "3. Insert **'%.2f'** (meaning 2 digits decimals) to relevant position in the string to be printed"
   ]
  },
  {
   "cell_type": "code",
   "execution_count": 111,
   "metadata": {},
   "outputs": [
    {
     "name": "stdout",
     "output_type": "stream",
     "text": [
      "The probability of oil price changes between 1% and -1% is 44.72%\n",
      "The probability of oil price changes between 5% and -5% is 96.55%\n",
      "The probability of oil price changes larger than 5% is 1.99%\n",
      "The probability of oil price changes lower(extreme) than -5% is 1.45%\n"
     ]
    }
   ],
   "source": [
    "print(\"The probability of oil price changes between 1%% and -1%% is %.2f%%\" % (100*pc[(0.01>pc) & (-0.01<pc)].shape[0]/pc.shape[0]))\n",
    "print(\"The probability of oil price changes between 5%% and -5%% is %.2f%%\" % (100*pc[(0.05>pc) & (-0.05<pc)].shape[0]/pc.shape[0]))\n",
    "print(\"The probability of oil price changes larger than 5%% is %.2f%%\" % (100*(pc[(0.05<pc)].shape[0])/pc.shape[0]))\n",
    "print(\"The probability of oil price changes lower(extreme) than -5%% is %.2f%%\" % (100*pc[(-0.05>pc)].shape[0]/pc.shape[0]))"
   ]
  },
  {
   "cell_type": "markdown",
   "metadata": {},
   "source": [
    "## Investigating Extremes - Minimum and Maximum values and their position"
   ]
  },
  {
   "cell_type": "markdown",
   "metadata": {},
   "source": [
    "This time, the extreme values will be looked after. As a start, we can plot biggest drops and biggest increases in oil prices.\n",
    "\n",
    "The largest price falls on a single day are as follows (checking the range -31% <-> -5% ) "
   ]
  },
  {
   "cell_type": "code",
   "execution_count": 112,
   "metadata": {},
   "outputs": [
    {
     "data": {
      "image/png": "[encoded data removed]",
      "text/plain": [
       "<Figure size 432x288 with 1 Axes>"
      ]
     },
     "metadata": {
      "needs_background": "light"
     },
     "output_type": "display_data"
    }
   ],
   "source": [
    "hist(pc, bins=100, range=(-0.31,-0.05));"
   ]
  },
  {
   "cell_type": "markdown",
   "metadata": {},
   "source": [
    "Are we sure that this is the minimum? We can check by **min** command"
   ]
  },
  {
   "cell_type": "code",
   "execution_count": 113,
   "metadata": {},
   "outputs": [
    {
     "data": {
      "text/plain": [
       "-0.30317040951122853"
      ]
     },
     "execution_count": 113,
     "metadata": {},
     "output_type": "execute_result"
    }
   ],
   "source": [
    "pc.min()"
   ]
  },
  {
   "cell_type": "markdown",
   "metadata": {},
   "source": [
    "Largest single day price drop is **-30%** on a SINGLE DAY. Wow. What was the day? The command is **idxmax()**"
   ]
  },
  {
   "cell_type": "code",
   "execution_count": 114,
   "metadata": {},
   "outputs": [
    {
     "data": {
      "text/plain": [
       "936"
      ]
     },
     "execution_count": 114,
     "metadata": {},
     "output_type": "execute_result"
    }
   ],
   "source": [
    "pc.idxmin()"
   ]
  },
  {
   "cell_type": "markdown",
   "metadata": {},
   "source": [
    "That was dull. Just a mere position of minimum value. We have to insert this number into array to get the value. Or we can do better: Dates around that position\n",
    "\n",
    "To find the dates around that position, we have to turn back to our initial data **prices** . Since **pc** does not have corresponding date value. \n",
    "\n",
    "For accesing a data on a specific row or column we use **iloc** notation. Such as **data.iloc[row, column]**\n",
    "\n",
    "\n",
    "There are two ways we can do it:\n",
    "1. Put an array for days such as **[935,936,937]**\n",
    "2. Or use the range command to get the results in the 1st item. **range(935,938)**"
   ]
  },
  {
   "cell_type": "code",
   "execution_count": 115,
   "metadata": {},
   "outputs": [
    {
     "data": {
      "text/html": [
       "<div>\n",
       "<style scoped>\n",
       "    .dataframe tbody tr th:only-of-type {\n",
       "        vertical-align: middle;\n",
       "    }\n",
       "\n",
       "    .dataframe tbody tr th {\n",
       "        vertical-align: top;\n",
       "    }\n",
       "\n",
       "    .dataframe thead th {\n",
       "        text-align: right;\n",
       "    }\n",
       "</style>\n",
       "<table border=\"1\" class=\"dataframe\">\n",
       "  <thead>\n",
       "    <tr style=\"text-align: right;\">\n",
       "      <th></th>\n",
       "      <th>Date</th>\n",
       "      <th>Europe Brent Spot Price FOB (Dollars per Barrel)</th>\n",
       "    </tr>\n",
       "  </thead>\n",
       "  <tbody>\n",
       "    <tr>\n",
       "      <th>935</th>\n",
       "      <td>1991-01-16</td>\n",
       "      <td>30.28</td>\n",
       "    </tr>\n",
       "    <tr>\n",
       "      <th>936</th>\n",
       "      <td>1991-01-17</td>\n",
       "      <td>21.10</td>\n",
       "    </tr>\n",
       "    <tr>\n",
       "      <th>937</th>\n",
       "      <td>1991-01-18</td>\n",
       "      <td>19.10</td>\n",
       "    </tr>\n",
       "  </tbody>\n",
       "</table>\n",
       "</div>"
      ],
      "text/plain": [
       "          Date  Europe Brent Spot Price FOB (Dollars per Barrel)\n",
       "935 1991-01-16                                             30.28\n",
       "936 1991-01-17                                             21.10\n",
       "937 1991-01-18                                             19.10"
      ]
     },
     "execution_count": 115,
     "metadata": {},
     "output_type": "execute_result"
    }
   ],
   "source": [
    "prices.iloc[[935,936,937]]"
   ]
  },
  {
   "cell_type": "code",
   "execution_count": 116,
   "metadata": {},
   "outputs": [
    {
     "data": {
      "text/html": [
       "<div>\n",
       "<style scoped>\n",
       "    .dataframe tbody tr th:only-of-type {\n",
       "        vertical-align: middle;\n",
       "    }\n",
       "\n",
       "    .dataframe tbody tr th {\n",
       "        vertical-align: top;\n",
       "    }\n",
       "\n",
       "    .dataframe thead th {\n",
       "        text-align: right;\n",
       "    }\n",
       "</style>\n",
       "<table border=\"1\" class=\"dataframe\">\n",
       "  <thead>\n",
       "    <tr style=\"text-align: right;\">\n",
       "      <th></th>\n",
       "      <th>Date</th>\n",
       "      <th>Europe Brent Spot Price FOB (Dollars per Barrel)</th>\n",
       "    </tr>\n",
       "  </thead>\n",
       "  <tbody>\n",
       "    <tr>\n",
       "      <th>935</th>\n",
       "      <td>1991-01-16</td>\n",
       "      <td>30.28</td>\n",
       "    </tr>\n",
       "    <tr>\n",
       "      <th>936</th>\n",
       "      <td>1991-01-17</td>\n",
       "      <td>21.10</td>\n",
       "    </tr>\n",
       "    <tr>\n",
       "      <th>937</th>\n",
       "      <td>1991-01-18</td>\n",
       "      <td>19.10</td>\n",
       "    </tr>\n",
       "  </tbody>\n",
       "</table>\n",
       "</div>"
      ],
      "text/plain": [
       "          Date  Europe Brent Spot Price FOB (Dollars per Barrel)\n",
       "935 1991-01-16                                             30.28\n",
       "936 1991-01-17                                             21.10\n",
       "937 1991-01-18                                             19.10"
      ]
     },
     "execution_count": 116,
     "metadata": {},
     "output_type": "execute_result"
    }
   ],
   "source": [
    "prices.iloc[range(935,938)]"
   ]
  },
  {
   "cell_type": "markdown",
   "metadata": {},
   "source": [
    "Why not **pc**? Let's try the same with pc"
   ]
  },
  {
   "cell_type": "code",
   "execution_count": 117,
   "metadata": {},
   "outputs": [
    {
     "data": {
      "text/plain": [
       "935    0.035214\n",
       "936   -0.303170\n",
       "937   -0.094787\n",
       "Name: Europe Brent Spot Price FOB (Dollars per Barrel), dtype: float64"
      ]
     },
     "execution_count": 117,
     "metadata": {},
     "output_type": "execute_result"
    }
   ],
   "source": [
    "pc.iloc[[935,936,937]]"
   ]
  },
  {
   "cell_type": "markdown",
   "metadata": {},
   "source": [
    "As you see there are no date values! We have to check original data. There is another way to solve this problem. A new column can be created and filled with percent change values in the original dataset. We will do it in the next part.\n",
    "\n",
    "With **.idxmax()** , maximum value's row can be found"
   ]
  },
  {
   "cell_type": "code",
   "execution_count": 118,
   "metadata": {},
   "outputs": [
    {
     "data": {
      "text/plain": [
       "5499"
      ]
     },
     "execution_count": 118,
     "metadata": {},
     "output_type": "execute_result"
    }
   ],
   "source": [
    "# max value\n",
    "pc.idxmax()"
   ]
  },
  {
   "cell_type": "code",
   "execution_count": 119,
   "metadata": {},
   "outputs": [
    {
     "data": {
      "text/html": [
       "<div>\n",
       "<style scoped>\n",
       "    .dataframe tbody tr th:only-of-type {\n",
       "        vertical-align: middle;\n",
       "    }\n",
       "\n",
       "    .dataframe tbody tr th {\n",
       "        vertical-align: top;\n",
       "    }\n",
       "\n",
       "    .dataframe thead th {\n",
       "        text-align: right;\n",
       "    }\n",
       "</style>\n",
       "<table border=\"1\" class=\"dataframe\">\n",
       "  <thead>\n",
       "    <tr style=\"text-align: right;\">\n",
       "      <th></th>\n",
       "      <th>Date</th>\n",
       "      <th>Europe Brent Spot Price FOB (Dollars per Barrel)</th>\n",
       "    </tr>\n",
       "  </thead>\n",
       "  <tbody>\n",
       "    <tr>\n",
       "      <th>5498</th>\n",
       "      <td>2008-12-31</td>\n",
       "      <td>35.82</td>\n",
       "    </tr>\n",
       "    <tr>\n",
       "      <th>5499</th>\n",
       "      <td>2009-01-02</td>\n",
       "      <td>42.94</td>\n",
       "    </tr>\n",
       "    <tr>\n",
       "      <th>5500</th>\n",
       "      <td>2009-01-05</td>\n",
       "      <td>45.84</td>\n",
       "    </tr>\n",
       "  </tbody>\n",
       "</table>\n",
       "</div>"
      ],
      "text/plain": [
       "           Date  Europe Brent Spot Price FOB (Dollars per Barrel)\n",
       "5498 2008-12-31                                             35.82\n",
       "5499 2009-01-02                                             42.94\n",
       "5500 2009-01-05                                             45.84"
      ]
     },
     "execution_count": 119,
     "metadata": {},
     "output_type": "execute_result"
    }
   ],
   "source": [
    "prices.iloc[range(5498,5501)]"
   ]
  },
  {
   "cell_type": "markdown",
   "metadata": {},
   "source": [
    "As a result:\n",
    "1. Biggest fall in oil prices happened on 17 Jan 1991. Oil prices dropped from 30 to 21\\$\n",
    "2. Biggest increase in oil prices is observed on 2 Jan 2009. Prices jumped from 35 to 42\\$"
   ]
  },
  {
   "cell_type": "markdown",
   "metadata": {},
   "source": [
    "## Increasing Complexity : Creating a bigger data set with Week, Month, Percent Change "
   ]
  },
  {
   "cell_type": "markdown",
   "metadata": {},
   "source": [
    "Our original dataset **prices** includes all oil prices, but we may want to add\n",
    "* Day\n",
    "* Week\n",
    "* Month\n",
    "* Year\n",
    "* Percent Change\n",
    "\n",
    "data to original set.\n",
    "\n",
    "As a first step, we can add Week data as a new column to original dataset. It is straight forward. Add data to original set with a new title. In this case \"Week_Number\""
   ]
  },
  {
   "cell_type": "code",
   "execution_count": 120,
   "metadata": {},
   "outputs": [],
   "source": [
    "# Add a new column Week_number and convert the Date data in the prices dataset to week number\n",
    "prices[\"Week_Number\"]=prices[\"Date\"].dt.week"
   ]
  },
  {
   "cell_type": "markdown",
   "metadata": {},
   "source": [
    "Now let's see the dataset's ending"
   ]
  },
  {
   "cell_type": "code",
   "execution_count": 121,
   "metadata": {},
   "outputs": [
    {
     "data": {
      "text/html": [
       "<div>\n",
       "<style scoped>\n",
       "    .dataframe tbody tr th:only-of-type {\n",
       "        vertical-align: middle;\n",
       "    }\n",
       "\n",
       "    .dataframe tbody tr th {\n",
       "        vertical-align: top;\n",
       "    }\n",
       "\n",
       "    .dataframe thead th {\n",
       "        text-align: right;\n",
       "    }\n",
       "</style>\n",
       "<table border=\"1\" class=\"dataframe\">\n",
       "  <thead>\n",
       "    <tr style=\"text-align: right;\">\n",
       "      <th></th>\n",
       "      <th>Date</th>\n",
       "      <th>Europe Brent Spot Price FOB (Dollars per Barrel)</th>\n",
       "      <th>Week_Number</th>\n",
       "    </tr>\n",
       "  </thead>\n",
       "  <tbody>\n",
       "    <tr>\n",
       "      <th>8045</th>\n",
       "      <td>2019-01-31</td>\n",
       "      <td>62.46</td>\n",
       "      <td>5</td>\n",
       "    </tr>\n",
       "    <tr>\n",
       "      <th>8046</th>\n",
       "      <td>2019-02-01</td>\n",
       "      <td>61.86</td>\n",
       "      <td>5</td>\n",
       "    </tr>\n",
       "    <tr>\n",
       "      <th>8047</th>\n",
       "      <td>2019-02-04</td>\n",
       "      <td>62.26</td>\n",
       "      <td>6</td>\n",
       "    </tr>\n",
       "  </tbody>\n",
       "</table>\n",
       "</div>"
      ],
      "text/plain": [
       "           Date  Europe Brent Spot Price FOB (Dollars per Barrel)  Week_Number\n",
       "8045 2019-01-31                                             62.46            5\n",
       "8046 2019-02-01                                             61.86            5\n",
       "8047 2019-02-04                                             62.26            6"
      ]
     },
     "execution_count": 121,
     "metadata": {},
     "output_type": "execute_result"
    }
   ],
   "source": [
    "prices.tail(3)"
   ]
  },
  {
   "cell_type": "markdown",
   "metadata": {},
   "source": [
    "If there are no problems so far, we can continue with other relevant data"
   ]
  },
  {
   "cell_type": "code",
   "execution_count": 122,
   "metadata": {},
   "outputs": [],
   "source": [
    "prices[\"Month\"]=prices[\"Date\"].dt.month\n",
    "prices[\"Year\"]=prices[\"Date\"].dt.year\n",
    "prices[\"DoW\"]=prices[\"Date\"].dt.dayofweek"
   ]
  },
  {
   "cell_type": "markdown",
   "metadata": {},
   "source": [
    "The dataset transformed into its new form. For **Day of the Week**, 0 corresponds to Monday, 1 Tuesday, etc. For oil prices, there are no weekends. The numbers must be between 0 and 4"
   ]
  },
  {
   "cell_type": "code",
   "execution_count": 123,
   "metadata": {},
   "outputs": [
    {
     "data": {
      "text/html": [
       "<div>\n",
       "<style scoped>\n",
       "    .dataframe tbody tr th:only-of-type {\n",
       "        vertical-align: middle;\n",
       "    }\n",
       "\n",
       "    .dataframe tbody tr th {\n",
       "        vertical-align: top;\n",
       "    }\n",
       "\n",
       "    .dataframe thead th {\n",
       "        text-align: right;\n",
       "    }\n",
       "</style>\n",
       "<table border=\"1\" class=\"dataframe\">\n",
       "  <thead>\n",
       "    <tr style=\"text-align: right;\">\n",
       "      <th></th>\n",
       "      <th>Date</th>\n",
       "      <th>Europe Brent Spot Price FOB (Dollars per Barrel)</th>\n",
       "      <th>Week_Number</th>\n",
       "      <th>Month</th>\n",
       "      <th>Year</th>\n",
       "      <th>DoW</th>\n",
       "    </tr>\n",
       "  </thead>\n",
       "  <tbody>\n",
       "    <tr>\n",
       "      <th>8044</th>\n",
       "      <td>2019-01-30</td>\n",
       "      <td>61.89</td>\n",
       "      <td>5</td>\n",
       "      <td>1</td>\n",
       "      <td>2019</td>\n",
       "      <td>2</td>\n",
       "    </tr>\n",
       "    <tr>\n",
       "      <th>8045</th>\n",
       "      <td>2019-01-31</td>\n",
       "      <td>62.46</td>\n",
       "      <td>5</td>\n",
       "      <td>1</td>\n",
       "      <td>2019</td>\n",
       "      <td>3</td>\n",
       "    </tr>\n",
       "    <tr>\n",
       "      <th>8046</th>\n",
       "      <td>2019-02-01</td>\n",
       "      <td>61.86</td>\n",
       "      <td>5</td>\n",
       "      <td>2</td>\n",
       "      <td>2019</td>\n",
       "      <td>4</td>\n",
       "    </tr>\n",
       "    <tr>\n",
       "      <th>8047</th>\n",
       "      <td>2019-02-04</td>\n",
       "      <td>62.26</td>\n",
       "      <td>6</td>\n",
       "      <td>2</td>\n",
       "      <td>2019</td>\n",
       "      <td>0</td>\n",
       "    </tr>\n",
       "  </tbody>\n",
       "</table>\n",
       "</div>"
      ],
      "text/plain": [
       "           Date  Europe Brent Spot Price FOB (Dollars per Barrel)  \\\n",
       "8044 2019-01-30                                             61.89   \n",
       "8045 2019-01-31                                             62.46   \n",
       "8046 2019-02-01                                             61.86   \n",
       "8047 2019-02-04                                             62.26   \n",
       "\n",
       "      Week_Number  Month  Year  DoW  \n",
       "8044            5      1  2019    2  \n",
       "8045            5      1  2019    3  \n",
       "8046            5      2  2019    4  \n",
       "8047            6      2  2019    0  "
      ]
     },
     "execution_count": 123,
     "metadata": {},
     "output_type": "execute_result"
    }
   ],
   "source": [
    "#let's see last 4 lines\n",
    "prices.tail(4)"
   ]
  },
  {
   "cell_type": "markdown",
   "metadata": {},
   "source": [
    "Now we can continue with our analysis"
   ]
  },
  {
   "cell_type": "markdown",
   "metadata": {},
   "source": [
    "## Pivot Tables in Python Pandas "
   ]
  },
  {
   "cell_type": "markdown",
   "metadata": {},
   "source": [
    "### Grouping"
   ]
  },
  {
   "cell_type": "markdown",
   "metadata": {},
   "source": [
    "One of the easist starting point for creating aggregated data is grouping. We can group the data according to weeks. In **pandas** you can use **groupby** to group data according to a column. With **.mean()** or **.count()** , the aggregate outputs can be obtained"
   ]
  },
  {
   "cell_type": "code",
   "execution_count": 124,
   "metadata": {},
   "outputs": [
    {
     "data": {
      "text/plain": [
       "[<matplotlib.lines.Line2D at 0x7ff17518f198>]"
      ]
     },
     "execution_count": 124,
     "metadata": {},
     "output_type": "execute_result"
    },
    {
     "data": {
      "image/png": "[encoded data removed]",
      "text/plain": [
       "<Figure size 432x288 with 1 Axes>"
      ]
     },
     "metadata": {
      "needs_background": "light"
     },
     "output_type": "display_data"
    }
   ],
   "source": [
    "plot(prices.groupby(\"Week_Number\")['Europe Brent Spot Price FOB (Dollars per Barrel)'].mean())\n"
   ]
  },
  {
   "cell_type": "markdown",
   "metadata": {},
   "source": [
    "Unfortunately depending on years, there may be the 53th weeks. I prefer to drop these by taking the first 52 weeks"
   ]
  },
  {
   "cell_type": "code",
   "execution_count": 125,
   "metadata": {},
   "outputs": [
    {
     "data": {
      "text/plain": [
       "[<matplotlib.lines.Line2D at 0x7ff174482a90>]"
      ]
     },
     "execution_count": 125,
     "metadata": {},
     "output_type": "execute_result"
    },
    {
     "data": {
      "image/png": "[encoded data removed]",
      "text/plain": [
       "<Figure size 432x288 with 1 Axes>"
      ]
     },
     "metadata": {
      "needs_background": "light"
     },
     "output_type": "display_data"
    }
   ],
   "source": [
    "plot(prices.groupby(\"Week_Number\")['Europe Brent Spot Price FOB (Dollars per Barrel)'].mean().head(52))\n"
   ]
  },
  {
   "cell_type": "markdown",
   "metadata": {},
   "source": [
    "This graph needs a title, x and y axis labels. We will use **plt.title** or **plt.xlabel** since **%pylab inline** creates a plot variable named plt"
   ]
  },
  {
   "cell_type": "code",
   "execution_count": 126,
   "metadata": {},
   "outputs": [
    {
     "data": {
      "text/plain": [
       "Text(0, 0.5, '$/barrel')"
      ]
     },
     "execution_count": 126,
     "metadata": {},
     "output_type": "execute_result"
    },
    {
     "data": {
      "image/png": "[encoded data removed]",
      "text/plain": [
       "<Figure size 432x288 with 1 Axes>"
      ]
     },
     "metadata": {
      "needs_background": "light"
     },
     "output_type": "display_data"
    }
   ],
   "source": [
    "plot(prices.groupby(\"Week_Number\")['Europe Brent Spot Price FOB (Dollars per Barrel)'].mean().head(52))\n",
    "plt.title(\"52 Week average of 1987-2019 Oil Prices\")\n",
    "plt.xlabel(\"Week\")\n",
    "plt.ylabel(\"$/barrel\")"
   ]
  },
  {
   "cell_type": "markdown",
   "metadata": {},
   "source": [
    "Now let's take it to another level. For example let's see the weekly price movements for 2018.\n",
    "It requires two steps. \n",
    "\n",
    "1) filter the data for 2018 with **prices[prices.Year==2018]**\n",
    "\n",
    "2) The whole dataset will take 365 lines, so just see the first few lines with **.head(4)**\n"
   ]
  },
  {
   "cell_type": "code",
   "execution_count": 127,
   "metadata": {},
   "outputs": [
    {
     "data": {
      "text/html": [
       "<div>\n",
       "<style scoped>\n",
       "    .dataframe tbody tr th:only-of-type {\n",
       "        vertical-align: middle;\n",
       "    }\n",
       "\n",
       "    .dataframe tbody tr th {\n",
       "        vertical-align: top;\n",
       "    }\n",
       "\n",
       "    .dataframe thead th {\n",
       "        text-align: right;\n",
       "    }\n",
       "</style>\n",
       "<table border=\"1\" class=\"dataframe\">\n",
       "  <thead>\n",
       "    <tr style=\"text-align: right;\">\n",
       "      <th></th>\n",
       "      <th>Date</th>\n",
       "      <th>Europe Brent Spot Price FOB (Dollars per Barrel)</th>\n",
       "      <th>Week_Number</th>\n",
       "      <th>Month</th>\n",
       "      <th>Year</th>\n",
       "      <th>DoW</th>\n",
       "    </tr>\n",
       "  </thead>\n",
       "  <tbody>\n",
       "    <tr>\n",
       "      <th>7772</th>\n",
       "      <td>2018-01-02</td>\n",
       "      <td>66.65</td>\n",
       "      <td>1</td>\n",
       "      <td>1</td>\n",
       "      <td>2018</td>\n",
       "      <td>1</td>\n",
       "    </tr>\n",
       "    <tr>\n",
       "      <th>7773</th>\n",
       "      <td>2018-01-03</td>\n",
       "      <td>67.85</td>\n",
       "      <td>1</td>\n",
       "      <td>1</td>\n",
       "      <td>2018</td>\n",
       "      <td>2</td>\n",
       "    </tr>\n",
       "    <tr>\n",
       "      <th>7774</th>\n",
       "      <td>2018-01-04</td>\n",
       "      <td>68.73</td>\n",
       "      <td>1</td>\n",
       "      <td>1</td>\n",
       "      <td>2018</td>\n",
       "      <td>3</td>\n",
       "    </tr>\n",
       "    <tr>\n",
       "      <th>7775</th>\n",
       "      <td>2018-01-05</td>\n",
       "      <td>68.01</td>\n",
       "      <td>1</td>\n",
       "      <td>1</td>\n",
       "      <td>2018</td>\n",
       "      <td>4</td>\n",
       "    </tr>\n",
       "  </tbody>\n",
       "</table>\n",
       "</div>"
      ],
      "text/plain": [
       "           Date  Europe Brent Spot Price FOB (Dollars per Barrel)  \\\n",
       "7772 2018-01-02                                             66.65   \n",
       "7773 2018-01-03                                             67.85   \n",
       "7774 2018-01-04                                             68.73   \n",
       "7775 2018-01-05                                             68.01   \n",
       "\n",
       "      Week_Number  Month  Year  DoW  \n",
       "7772            1      1  2018    1  \n",
       "7773            1      1  2018    2  \n",
       "7774            1      1  2018    3  \n",
       "7775            1      1  2018    4  "
      ]
     },
     "execution_count": 127,
     "metadata": {},
     "output_type": "execute_result"
    }
   ],
   "source": [
    "pf=prices[prices.Year==2018]\n",
    "pf.head(4)"
   ]
  },
  {
   "cell_type": "markdown",
   "metadata": {},
   "source": [
    "Now, we will group the filtered results"
   ]
  },
  {
   "cell_type": "code",
   "execution_count": 128,
   "metadata": {},
   "outputs": [
    {
     "data": {
      "text/plain": [
       "Week_Number\n",
       "1    67.810\n",
       "2    69.470\n",
       "3    69.388\n",
       "4    70.040\n",
       "Name: Europe Brent Spot Price FOB (Dollars per Barrel), dtype: float64"
      ]
     },
     "execution_count": 128,
     "metadata": {},
     "output_type": "execute_result"
    }
   ],
   "source": [
    "# Just look at the averages for the first 4 week\n",
    "pf.groupby(\"Week_Number\")['Europe Brent Spot Price FOB (Dollars per Barrel)'].mean().head(4)"
   ]
  },
  {
   "cell_type": "markdown",
   "metadata": {},
   "source": [
    "Now we can choose the data for 2018 and view weekly means"
   ]
  },
  {
   "cell_type": "code",
   "execution_count": 129,
   "metadata": {},
   "outputs": [
    {
     "data": {
      "text/plain": [
       "[<matplotlib.lines.Line2D at 0x7ff175164b00>]"
      ]
     },
     "execution_count": 129,
     "metadata": {},
     "output_type": "execute_result"
    },
    {
     "data": {
      "image/png": "[encoded data removed]",
      "text/plain": [
       "<Figure size 432x288 with 1 Axes>"
      ]
     },
     "metadata": {
      "needs_background": "light"
     },
     "output_type": "display_data"
    }
   ],
   "source": [
    "plot(pf.groupby(\"Week_Number\")['Europe Brent Spot Price FOB (Dollars per Barrel)'].mean())"
   ]
  },
  {
   "cell_type": "markdown",
   "metadata": {},
   "source": [
    "\n",
    "Or we can write in a very long but no-variable kind of way"
   ]
  },
  {
   "cell_type": "code",
   "execution_count": 130,
   "metadata": {},
   "outputs": [
    {
     "data": {
      "text/plain": [
       "[<matplotlib.lines.Line2D at 0x7ff174292358>]"
      ]
     },
     "execution_count": 130,
     "metadata": {},
     "output_type": "execute_result"
    },
    {
     "data": {
      "image/png": "[encoded data removed]",
      "text/plain": [
       "<Figure size 432x288 with 1 Axes>"
      ]
     },
     "metadata": {
      "needs_background": "light"
     },
     "output_type": "display_data"
    }
   ],
   "source": [
    "plot(prices[prices.Year==2018].groupby(\"Week_Number\")['Europe Brent Spot Price FOB (Dollars per Barrel)'].mean())"
   ]
  },
  {
   "cell_type": "markdown",
   "metadata": {},
   "source": [
    "Now we can check last 5 and 10 years with range command:\n",
    "\n",
    "* 5 years with  *range(2014,2019)*\n",
    "* 10 years with *range(2009,2019)*"
   ]
  },
  {
   "cell_type": "code",
   "execution_count": 131,
   "metadata": {},
   "outputs": [
    {
     "data": {
      "text/plain": [
       "[<matplotlib.lines.Line2D at 0x7ff16fdd20f0>]"
      ]
     },
     "execution_count": 131,
     "metadata": {},
     "output_type": "execute_result"
    },
    {
     "data": {
      "image/png": "[encoded data removed]",
      "text/plain": [
       "<Figure size 432x288 with 1 Axes>"
      ]
     },
     "metadata": {
      "needs_background": "light"
     },
     "output_type": "display_data"
    }
   ],
   "source": [
    "plot(prices[prices.Year>=2014].groupby(\"Week_Number\")['Europe Brent Spot Price FOB (Dollars per Barrel)'].mean().head(52))"
   ]
  },
  {
   "cell_type": "markdown",
   "metadata": {},
   "source": [
    "Or we can do it in a more readable way. \n",
    "\n",
    "1) Assign partial dataset (for years larger and equal to 2014) to **pf** (price frame)\n",
    "\n",
    "2) Then use the groupby command on **pf**\n"
   ]
  },
  {
   "cell_type": "code",
   "execution_count": 132,
   "metadata": {},
   "outputs": [],
   "source": [
    "pf=prices[prices.Year>=2014]"
   ]
  },
  {
   "cell_type": "code",
   "execution_count": 133,
   "metadata": {},
   "outputs": [
    {
     "data": {
      "image/png": "[encoded data removed]",
      "text/plain": [
       "<Figure size 432x288 with 1 Axes>"
      ]
     },
     "metadata": {
      "needs_background": "light"
     },
     "output_type": "display_data"
    }
   ],
   "source": [
    "plot(pf.groupby(\"Week_Number\")['Europe Brent Spot Price FOB (Dollars per Barrel)'].mean().head(52))\n",
    "# title for the plot and \";\" for supressing text output\n",
    "title(\"Weekly oil prices (2014-2019)\");"
   ]
  },
  {
   "cell_type": "markdown",
   "metadata": {},
   "source": [
    "### Pivot Table\n",
    "\n",
    "**Warning** _I have to warn the reader that, grouping and pivoting produced slightly different results for averages. At the time of writing, I couldn't figured out why. I tried NA (not available) data options, other options but no results unfortunately._\n",
    "\n",
    "Pivot tables are an essential part of data analysis. Basically, pivot tables re-arrange dataset into user's liking. Additional mathematical operations like \"averaging\", \"summing\" can be used. \n",
    "\n",
    "Now from the original prices dataset, we will rearrage values by\n",
    "\n",
    "* Change the index of dataset to week number           ---->    **index=['Week_Number']**\n",
    "* Produce Columns for each year with averages          ---->    **columns=['Year']**\n",
    "* We will use average function from numpy              ---->    **aggfunc=np.mean**\n",
    "* The data cells will be values from Brent price       ---->    **values='Europe Brent Spot Price FOB (Dollars per Barrel)'**\n",
    "\n",
    "\n",
    "It may look stupid for careful observer to use the long name of _\"Europe Brent Spot Price FOB (Dollars per Barrel)\"_ for Brent price, but in jupyter you just press **tab** and it pops up\n",
    "\n"
   ]
  },
  {
   "cell_type": "code",
   "execution_count": 134,
   "metadata": {},
   "outputs": [],
   "source": [
    "pt=prices.pivot_table( values='Europe Brent Spot Price FOB (Dollars per Barrel)', index=['Week_Number'],\n",
    "                     columns=['Year'], aggfunc=np.mean)"
   ]
  },
  {
   "cell_type": "markdown",
   "metadata": {},
   "source": [
    "Now let's check pt (pt for pivot table)"
   ]
  },
  {
   "cell_type": "code",
   "execution_count": 135,
   "metadata": {},
   "outputs": [
    {
     "data": {
      "text/html": [
       "<div>\n",
       "<style scoped>\n",
       "    .dataframe tbody tr th:only-of-type {\n",
       "        vertical-align: middle;\n",
       "    }\n",
       "\n",
       "    .dataframe tbody tr th {\n",
       "        vertical-align: top;\n",
       "    }\n",
       "\n",
       "    .dataframe thead th {\n",
       "        text-align: right;\n",
       "    }\n",
       "</style>\n",
       "<table border=\"1\" class=\"dataframe\">\n",
       "  <thead>\n",
       "    <tr style=\"text-align: right;\">\n",
       "      <th>Year</th>\n",
       "      <th>1987</th>\n",
       "      <th>1988</th>\n",
       "      <th>1989</th>\n",
       "      <th>1990</th>\n",
       "      <th>1991</th>\n",
       "      <th>1992</th>\n",
       "      <th>1993</th>\n",
       "      <th>1994</th>\n",
       "      <th>1995</th>\n",
       "      <th>1996</th>\n",
       "      <th>...</th>\n",
       "      <th>2010</th>\n",
       "      <th>2011</th>\n",
       "      <th>2012</th>\n",
       "      <th>2013</th>\n",
       "      <th>2014</th>\n",
       "      <th>2015</th>\n",
       "      <th>2016</th>\n",
       "      <th>2017</th>\n",
       "      <th>2018</th>\n",
       "      <th>2019</th>\n",
       "    </tr>\n",
       "    <tr>\n",
       "      <th>Week_Number</th>\n",
       "      <th></th>\n",
       "      <th></th>\n",
       "      <th></th>\n",
       "      <th></th>\n",
       "      <th></th>\n",
       "      <th></th>\n",
       "      <th></th>\n",
       "      <th></th>\n",
       "      <th></th>\n",
       "      <th></th>\n",
       "      <th></th>\n",
       "      <th></th>\n",
       "      <th></th>\n",
       "      <th></th>\n",
       "      <th></th>\n",
       "      <th></th>\n",
       "      <th></th>\n",
       "      <th></th>\n",
       "      <th></th>\n",
       "      <th></th>\n",
       "      <th></th>\n",
       "    </tr>\n",
       "  </thead>\n",
       "  <tbody>\n",
       "    <tr>\n",
       "      <th>1</th>\n",
       "      <td>NaN</td>\n",
       "      <td>17.4525</td>\n",
       "      <td>16.590</td>\n",
       "      <td>23.566</td>\n",
       "      <td>22.332</td>\n",
       "      <td>18.475</td>\n",
       "      <td>17.510</td>\n",
       "      <td>14.1775</td>\n",
       "      <td>16.0725</td>\n",
       "      <td>20.763333</td>\n",
       "      <td>...</td>\n",
       "      <td>79.8180</td>\n",
       "      <td>94.722</td>\n",
       "      <td>112.168</td>\n",
       "      <td>111.8020</td>\n",
       "      <td>76.648</td>\n",
       "      <td>55.3800</td>\n",
       "      <td>34.194</td>\n",
       "      <td>55.1275</td>\n",
       "      <td>67.810</td>\n",
       "      <td>54.310</td>\n",
       "    </tr>\n",
       "    <tr>\n",
       "      <th>2</th>\n",
       "      <td>NaN</td>\n",
       "      <td>16.4360</td>\n",
       "      <td>16.980</td>\n",
       "      <td>21.674</td>\n",
       "      <td>25.328</td>\n",
       "      <td>17.772</td>\n",
       "      <td>17.052</td>\n",
       "      <td>14.0000</td>\n",
       "      <td>16.2320</td>\n",
       "      <td>18.528000</td>\n",
       "      <td>...</td>\n",
       "      <td>78.3100</td>\n",
       "      <td>97.086</td>\n",
       "      <td>111.776</td>\n",
       "      <td>112.3720</td>\n",
       "      <td>107.014</td>\n",
       "      <td>49.4660</td>\n",
       "      <td>29.100</td>\n",
       "      <td>54.0160</td>\n",
       "      <td>69.470</td>\n",
       "      <td>58.636</td>\n",
       "    </tr>\n",
       "    <tr>\n",
       "      <th>3</th>\n",
       "      <td>NaN</td>\n",
       "      <td>16.9080</td>\n",
       "      <td>17.896</td>\n",
       "      <td>21.052</td>\n",
       "      <td>25.856</td>\n",
       "      <td>18.370</td>\n",
       "      <td>16.978</td>\n",
       "      <td>14.2160</td>\n",
       "      <td>16.8840</td>\n",
       "      <td>17.614000</td>\n",
       "      <td>...</td>\n",
       "      <td>74.2825</td>\n",
       "      <td>97.340</td>\n",
       "      <td>109.600</td>\n",
       "      <td>111.3460</td>\n",
       "      <td>107.828</td>\n",
       "      <td>46.5780</td>\n",
       "      <td>27.756</td>\n",
       "      <td>54.1940</td>\n",
       "      <td>69.388</td>\n",
       "      <td>59.830</td>\n",
       "    </tr>\n",
       "    <tr>\n",
       "      <th>4</th>\n",
       "      <td>NaN</td>\n",
       "      <td>16.2400</td>\n",
       "      <td>17.328</td>\n",
       "      <td>20.494</td>\n",
       "      <td>20.766</td>\n",
       "      <td>18.112</td>\n",
       "      <td>18.004</td>\n",
       "      <td>14.6420</td>\n",
       "      <td>16.8480</td>\n",
       "      <td>17.188000</td>\n",
       "      <td>...</td>\n",
       "      <td>71.8820</td>\n",
       "      <td>96.620</td>\n",
       "      <td>109.180</td>\n",
       "      <td>113.7175</td>\n",
       "      <td>109.140</td>\n",
       "      <td>46.4425</td>\n",
       "      <td>31.748</td>\n",
       "      <td>54.9060</td>\n",
       "      <td>70.040</td>\n",
       "      <td>61.342</td>\n",
       "    </tr>\n",
       "  </tbody>\n",
       "</table>\n",
       "<p>4 rows × 33 columns</p>\n",
       "</div>"
      ],
      "text/plain": [
       "Year         1987     1988    1989    1990    1991    1992    1993     1994  \\\n",
       "Week_Number                                                                   \n",
       "1             NaN  17.4525  16.590  23.566  22.332  18.475  17.510  14.1775   \n",
       "2             NaN  16.4360  16.980  21.674  25.328  17.772  17.052  14.0000   \n",
       "3             NaN  16.9080  17.896  21.052  25.856  18.370  16.978  14.2160   \n",
       "4             NaN  16.2400  17.328  20.494  20.766  18.112  18.004  14.6420   \n",
       "\n",
       "Year            1995       1996   ...       2010    2011     2012      2013  \\\n",
       "Week_Number                       ...                                         \n",
       "1            16.0725  20.763333   ...    79.8180  94.722  112.168  111.8020   \n",
       "2            16.2320  18.528000   ...    78.3100  97.086  111.776  112.3720   \n",
       "3            16.8840  17.614000   ...    74.2825  97.340  109.600  111.3460   \n",
       "4            16.8480  17.188000   ...    71.8820  96.620  109.180  113.7175   \n",
       "\n",
       "Year            2014     2015    2016     2017    2018    2019  \n",
       "Week_Number                                                     \n",
       "1             76.648  55.3800  34.194  55.1275  67.810  54.310  \n",
       "2            107.014  49.4660  29.100  54.0160  69.470  58.636  \n",
       "3            107.828  46.5780  27.756  54.1940  69.388  59.830  \n",
       "4            109.140  46.4425  31.748  54.9060  70.040  61.342  \n",
       "\n",
       "[4 rows x 33 columns]"
      ]
     },
     "execution_count": 135,
     "metadata": {},
     "output_type": "execute_result"
    }
   ],
   "source": [
    "pt.head(4)"
   ]
  },
  {
   "cell_type": "markdown",
   "metadata": {},
   "source": [
    "## More Filtering"
   ]
  },
  {
   "cell_type": "markdown",
   "metadata": {},
   "source": [
    "The first thing that strikes on the table is 1987. There are lots of NaN until May of that year. Dataset starts from May 1987. Apart from that, there are now weekly averages for all years in columns.\n",
    "\n",
    "Now we can choose years from 2014 to 2019 and plot their  first 52 weeks\n",
    "* range(2014, 2020) produces 2014,2015,2016,2017,2018,2019.... The last element is never included in range\n",
    "* By taking the mean of weekly data, **mean** command with **(axis=1)** is used to tell Python to take averages row-wise\n",
    "* 53th week in a year rarely happens, therefore I omit it with **head(52)**"
   ]
  },
  {
   "cell_type": "code",
   "execution_count": 136,
   "metadata": {},
   "outputs": [
    {
     "data": {
      "image/png": "[encoded data removed]",
      "text/plain": [
       "<Figure size 432x288 with 1 Axes>"
      ]
     },
     "metadata": {
      "needs_background": "light"
     },
     "output_type": "display_data"
    }
   ],
   "source": [
    "plot(pt.loc[:,range(2014,2020)].mean(axis=1).head(52))\n",
    "title (\"Weekly price changes (2014-2019)\");"
   ]
  },
  {
   "cell_type": "markdown",
   "metadata": {},
   "source": [
    "You can check what is included with *range and print command in a line"
   ]
  },
  {
   "cell_type": "code",
   "execution_count": 137,
   "metadata": {},
   "outputs": [
    {
     "name": "stdout",
     "output_type": "stream",
     "text": [
      "2014 2015 2016 2017 2018 2019\n"
     ]
    }
   ],
   "source": [
    "# range command does not include the last element \n",
    "print(*range(2014,2020))"
   ]
  },
  {
   "cell_type": "markdown",
   "metadata": {},
   "source": [
    "If everyting is clear, we can produce percent changes of weekly oil prices. Just call **pct_change()** subcommand for dataframe and it will work"
   ]
  },
  {
   "cell_type": "code",
   "execution_count": 138,
   "metadata": {},
   "outputs": [],
   "source": [
    "ptpc=pt.pct_change()"
   ]
  },
  {
   "cell_type": "markdown",
   "metadata": {},
   "source": [
    "Always check the data, or at least part of it (first 4 lines with **head(4)** )"
   ]
  },
  {
   "cell_type": "code",
   "execution_count": 139,
   "metadata": {},
   "outputs": [
    {
     "data": {
      "text/html": [
       "<div>\n",
       "<style scoped>\n",
       "    .dataframe tbody tr th:only-of-type {\n",
       "        vertical-align: middle;\n",
       "    }\n",
       "\n",
       "    .dataframe tbody tr th {\n",
       "        vertical-align: top;\n",
       "    }\n",
       "\n",
       "    .dataframe thead th {\n",
       "        text-align: right;\n",
       "    }\n",
       "</style>\n",
       "<table border=\"1\" class=\"dataframe\">\n",
       "  <thead>\n",
       "    <tr style=\"text-align: right;\">\n",
       "      <th>Year</th>\n",
       "      <th>1987</th>\n",
       "      <th>1988</th>\n",
       "      <th>1989</th>\n",
       "      <th>1990</th>\n",
       "      <th>1991</th>\n",
       "      <th>1992</th>\n",
       "      <th>1993</th>\n",
       "      <th>1994</th>\n",
       "      <th>1995</th>\n",
       "      <th>1996</th>\n",
       "      <th>...</th>\n",
       "      <th>2010</th>\n",
       "      <th>2011</th>\n",
       "      <th>2012</th>\n",
       "      <th>2013</th>\n",
       "      <th>2014</th>\n",
       "      <th>2015</th>\n",
       "      <th>2016</th>\n",
       "      <th>2017</th>\n",
       "      <th>2018</th>\n",
       "      <th>2019</th>\n",
       "    </tr>\n",
       "    <tr>\n",
       "      <th>Week_Number</th>\n",
       "      <th></th>\n",
       "      <th></th>\n",
       "      <th></th>\n",
       "      <th></th>\n",
       "      <th></th>\n",
       "      <th></th>\n",
       "      <th></th>\n",
       "      <th></th>\n",
       "      <th></th>\n",
       "      <th></th>\n",
       "      <th></th>\n",
       "      <th></th>\n",
       "      <th></th>\n",
       "      <th></th>\n",
       "      <th></th>\n",
       "      <th></th>\n",
       "      <th></th>\n",
       "      <th></th>\n",
       "      <th></th>\n",
       "      <th></th>\n",
       "      <th></th>\n",
       "    </tr>\n",
       "  </thead>\n",
       "  <tbody>\n",
       "    <tr>\n",
       "      <th>1</th>\n",
       "      <td>NaN</td>\n",
       "      <td>NaN</td>\n",
       "      <td>NaN</td>\n",
       "      <td>NaN</td>\n",
       "      <td>NaN</td>\n",
       "      <td>NaN</td>\n",
       "      <td>NaN</td>\n",
       "      <td>NaN</td>\n",
       "      <td>NaN</td>\n",
       "      <td>NaN</td>\n",
       "      <td>...</td>\n",
       "      <td>NaN</td>\n",
       "      <td>NaN</td>\n",
       "      <td>NaN</td>\n",
       "      <td>NaN</td>\n",
       "      <td>NaN</td>\n",
       "      <td>NaN</td>\n",
       "      <td>NaN</td>\n",
       "      <td>NaN</td>\n",
       "      <td>NaN</td>\n",
       "      <td>NaN</td>\n",
       "    </tr>\n",
       "    <tr>\n",
       "      <th>2</th>\n",
       "      <td>NaN</td>\n",
       "      <td>-0.058244</td>\n",
       "      <td>0.023508</td>\n",
       "      <td>-0.080285</td>\n",
       "      <td>0.134157</td>\n",
       "      <td>-0.038051</td>\n",
       "      <td>-0.026156</td>\n",
       "      <td>-0.012520</td>\n",
       "      <td>0.009924</td>\n",
       "      <td>-0.107658</td>\n",
       "      <td>...</td>\n",
       "      <td>-0.018893</td>\n",
       "      <td>0.024957</td>\n",
       "      <td>-0.003495</td>\n",
       "      <td>0.005098</td>\n",
       "      <td>0.396175</td>\n",
       "      <td>-0.106789</td>\n",
       "      <td>-0.148974</td>\n",
       "      <td>-0.020162</td>\n",
       "      <td>0.024480</td>\n",
       "      <td>0.079654</td>\n",
       "    </tr>\n",
       "    <tr>\n",
       "      <th>3</th>\n",
       "      <td>NaN</td>\n",
       "      <td>0.028717</td>\n",
       "      <td>0.053946</td>\n",
       "      <td>-0.028698</td>\n",
       "      <td>0.020846</td>\n",
       "      <td>0.033648</td>\n",
       "      <td>-0.004340</td>\n",
       "      <td>0.015429</td>\n",
       "      <td>0.040168</td>\n",
       "      <td>-0.049331</td>\n",
       "      <td>...</td>\n",
       "      <td>-0.051430</td>\n",
       "      <td>0.002616</td>\n",
       "      <td>-0.019468</td>\n",
       "      <td>-0.009130</td>\n",
       "      <td>0.007606</td>\n",
       "      <td>-0.058384</td>\n",
       "      <td>-0.046186</td>\n",
       "      <td>0.003295</td>\n",
       "      <td>-0.001180</td>\n",
       "      <td>0.020363</td>\n",
       "    </tr>\n",
       "    <tr>\n",
       "      <th>4</th>\n",
       "      <td>NaN</td>\n",
       "      <td>-0.039508</td>\n",
       "      <td>-0.031739</td>\n",
       "      <td>-0.026506</td>\n",
       "      <td>-0.196860</td>\n",
       "      <td>-0.014045</td>\n",
       "      <td>0.060431</td>\n",
       "      <td>0.029966</td>\n",
       "      <td>-0.002132</td>\n",
       "      <td>-0.024185</td>\n",
       "      <td>...</td>\n",
       "      <td>-0.032316</td>\n",
       "      <td>-0.007397</td>\n",
       "      <td>-0.003832</td>\n",
       "      <td>0.021298</td>\n",
       "      <td>0.012168</td>\n",
       "      <td>-0.002909</td>\n",
       "      <td>0.143825</td>\n",
       "      <td>0.013138</td>\n",
       "      <td>0.009396</td>\n",
       "      <td>0.025272</td>\n",
       "    </tr>\n",
       "  </tbody>\n",
       "</table>\n",
       "<p>4 rows × 33 columns</p>\n",
       "</div>"
      ],
      "text/plain": [
       "Year         1987      1988      1989      1990      1991      1992      1993  \\\n",
       "Week_Number                                                                     \n",
       "1             NaN       NaN       NaN       NaN       NaN       NaN       NaN   \n",
       "2             NaN -0.058244  0.023508 -0.080285  0.134157 -0.038051 -0.026156   \n",
       "3             NaN  0.028717  0.053946 -0.028698  0.020846  0.033648 -0.004340   \n",
       "4             NaN -0.039508 -0.031739 -0.026506 -0.196860 -0.014045  0.060431   \n",
       "\n",
       "Year             1994      1995      1996    ...         2010      2011  \\\n",
       "Week_Number                                  ...                          \n",
       "1                 NaN       NaN       NaN    ...          NaN       NaN   \n",
       "2           -0.012520  0.009924 -0.107658    ...    -0.018893  0.024957   \n",
       "3            0.015429  0.040168 -0.049331    ...    -0.051430  0.002616   \n",
       "4            0.029966 -0.002132 -0.024185    ...    -0.032316 -0.007397   \n",
       "\n",
       "Year             2012      2013      2014      2015      2016      2017  \\\n",
       "Week_Number                                                               \n",
       "1                 NaN       NaN       NaN       NaN       NaN       NaN   \n",
       "2           -0.003495  0.005098  0.396175 -0.106789 -0.148974 -0.020162   \n",
       "3           -0.019468 -0.009130  0.007606 -0.058384 -0.046186  0.003295   \n",
       "4           -0.003832  0.021298  0.012168 -0.002909  0.143825  0.013138   \n",
       "\n",
       "Year             2018      2019  \n",
       "Week_Number                      \n",
       "1                 NaN       NaN  \n",
       "2            0.024480  0.079654  \n",
       "3           -0.001180  0.020363  \n",
       "4            0.009396  0.025272  \n",
       "\n",
       "[4 rows x 33 columns]"
      ]
     },
     "execution_count": 139,
     "metadata": {},
     "output_type": "execute_result"
    }
   ],
   "source": [
    "ptpc.head(4)"
   ]
  },
  {
   "cell_type": "markdown",
   "metadata": {},
   "source": [
    "First line is NaN for each year since we didn't put December 12th month of the previous year to the head of January\n",
    "\n",
    "But now let's graph the percent changes for the whole dataset again"
   ]
  },
  {
   "cell_type": "code",
   "execution_count": 140,
   "metadata": {},
   "outputs": [
    {
     "data": {
      "image/png": "[encoded data removed]",
      "text/plain": [
       "<Figure size 432x288 with 1 Axes>"
      ]
     },
     "metadata": {
      "needs_background": "light"
     },
     "output_type": "display_data"
    }
   ],
   "source": [
    "plot(ptpc.mean(axis=1))\n",
    "title(\"Weekly oil price changes(1987-2019)\")\n",
    "xlabel(\"Weeks\")\n",
    "ylabel(\"Percent change Week-on-Week\");"
   ]
  },
  {
   "cell_type": "markdown",
   "metadata": {},
   "source": [
    "#### 5 year and 10 year average weekly prices\n",
    " \n",
    "Instead of % changes, let's turn back to original dataset of **pt**. For the last 5 years and 10 years, we will graph level changes, afterwards percent changes will be examined\n",
    "\n",
    "* produce year data by range(2014, 2019)  ---> 2014,2015,2016,2017,2018\n",
    "* Filter the **pt** for this years        ---> pt.loc[:range(2014,2019)]\n",
    "* Take the mean of same weeks             ---> mean(axis=1)\n",
    "* Skip the 53rd week                      ---> head(52)"
   ]
  },
  {
   "cell_type": "code",
   "execution_count": 141,
   "metadata": {},
   "outputs": [
    {
     "data": {
      "text/plain": [
       "[<matplotlib.lines.Line2D at 0x7ff16fd8d048>]"
      ]
     },
     "execution_count": 141,
     "metadata": {},
     "output_type": "execute_result"
    },
    {
     "data": {
      "image/png": "[encoded data removed]",
      "text/plain": [
       "<Figure size 432x288 with 1 Axes>"
      ]
     },
     "metadata": {
      "needs_background": "light"
     },
     "output_type": "display_data"
    }
   ],
   "source": [
    "# First 5 years 2014,2015,2016,2017,2018\n",
    "plot(pt.loc[:,range(2014,2019)].mean(axis=1).head(52))"
   ]
  },
  {
   "cell_type": "markdown",
   "metadata": {},
   "source": [
    "Now let's see the 10 year data"
   ]
  },
  {
   "cell_type": "code",
   "execution_count": 142,
   "metadata": {},
   "outputs": [
    {
     "data": {
      "image/png": "[encoded data removed]",
      "text/plain": [
       "<Figure size 432x288 with 1 Axes>"
      ]
     },
     "metadata": {
      "needs_background": "light"
     },
     "output_type": "display_data"
    }
   ],
   "source": [
    "# 10 years of average weekly prices\n",
    "plot(pt.loc[:,range(2009,2019)].mean(axis=1).head(52));"
   ]
  },
  {
   "cell_type": "markdown",
   "metadata": {},
   "source": [
    "For the 10 year average data there is a huge jump before 10th week. But I rather choose the last 5 years. The US shale production has shown its real effect in the last 5 years. You can do the 10 by yourself\n",
    "\n",
    "To look more closely, we will take percent change and graph it again"
   ]
  },
  {
   "cell_type": "code",
   "execution_count": 143,
   "metadata": {},
   "outputs": [
    {
     "data": {
      "image/png": "[encoded data removed]",
      "text/plain": [
       "<Figure size 432x288 with 1 Axes>"
      ]
     },
     "metadata": {
      "needs_background": "light"
     },
     "output_type": "display_data"
    }
   ],
   "source": [
    "pt_weekly=pt.loc[:,range(2014,2019)].mean(axis=1).head(52)\n",
    "plot(pt_weekly.pct_change());"
   ]
  },
  {
   "cell_type": "markdown",
   "metadata": {},
   "source": [
    "Let's assign percent changes to a new variable. We will do more filtering"
   ]
  },
  {
   "cell_type": "code",
   "execution_count": 144,
   "metadata": {},
   "outputs": [],
   "source": [
    "pt_weekly_pc=pt_weekly.pct_change()"
   ]
  },
  {
   "cell_type": "markdown",
   "metadata": {},
   "source": [
    "This time we will filter the weeks, where change is bigger than 2% in absolute terms.\n",
    "* Get the absolute value of percent change      ---->   abs(pt_weekly_pc)>0.02\n",
    "* Now filter the data points                    ---->   pt_weekly_pc[abs(pt_weekly_pc)>0.02]"
   ]
  },
  {
   "cell_type": "code",
   "execution_count": 145,
   "metadata": {},
   "outputs": [
    {
     "data": {
      "text/plain": [
       "Week_Number\n",
       "2     0.068843\n",
       "8     0.029134\n",
       "15    0.042727\n",
       "46   -0.037651\n",
       "51   -0.037612\n",
       "dtype: float64"
      ]
     },
     "execution_count": 145,
     "metadata": {},
     "output_type": "execute_result"
    }
   ],
   "source": [
    "pt_weekly_pc[abs(pt_weekly_pc)>0.029]"
   ]
  },
  {
   "cell_type": "markdown",
   "metadata": {},
   "source": [
    "## Converting week numbers to dates\n",
    "\n",
    "Now we can convert these week numbers to date with time command. Converting week numbers to dates is tricky. \n",
    "\n",
    "We again choose the dates for higher than 2.9% (arbitrary), and then insert the corresponding week numbers (.index.values) to **strptime**\n"
   ]
  },
  {
   "cell_type": "code",
   "execution_count": 146,
   "metadata": {},
   "outputs": [
    {
     "name": "stdout",
     "output_type": "stream",
     "text": [
      "Mon Jan 14 00:00:00 2019\n",
      "Mon Feb 25 00:00:00 2019\n",
      "Mon Apr 15 00:00:00 2019\n",
      "Mon Nov 18 00:00:00 2019\n",
      "Mon Dec 23 00:00:00 2019\n"
     ]
    }
   ],
   "source": [
    "for weeks in pt_weekly_pc[abs(pt_weekly_pc)>0.029].index.values:\n",
    "    print(time.asctime(time.strptime('{} {} 1'.format(2019, weeks), '%Y %W %w')))"
   ]
  },
  {
   "cell_type": "markdown",
   "metadata": {},
   "source": [
    "For the last 5 years, we are seeing strongest \n",
    "* Price increases in Second week of January, Last week of February, Mid April (positive values)\n",
    "* Price decreases in November and December"
   ]
  },
  {
   "cell_type": "markdown",
   "metadata": {},
   "source": [
    "## Monthly data\n",
    "\n",
    "Weekly data part is as follows. In my original paper, I did the analysis for the last 10 years. In this tutorial it is for the last 5 years.\n",
    "\n",
    "For the montly data analysis, we have another step to conclude. For January percent changes will appear as NA. Therefore, we have to copy paste each last years December data before January, but we have to shift is as well. 1987 December will be before 1988 January etc.\n",
    "\n",
    "our steps are as follows:\n",
    " * Rearrange data with pivot table\n",
    " * copy and paste last row (December) before January row with a shift (shift row by 1 column)\n",
    " * Calculate percent changes\n",
    " "
   ]
  },
  {
   "cell_type": "code",
   "execution_count": 147,
   "metadata": {},
   "outputs": [],
   "source": [
    "# Prices monthly data to pm variable\n",
    "pm=prices.pivot_table( values='Europe Brent Spot Price FOB (Dollars per Barrel)', index=['Month'],\n",
    "                     columns=['Year'], aggfunc=np.mean)"
   ]
  },
  {
   "cell_type": "markdown",
   "metadata": {},
   "source": [
    "First 4 lines of the new varible:"
   ]
  },
  {
   "cell_type": "code",
   "execution_count": 148,
   "metadata": {},
   "outputs": [
    {
     "data": {
      "text/html": [
       "<div>\n",
       "<style scoped>\n",
       "    .dataframe tbody tr th:only-of-type {\n",
       "        vertical-align: middle;\n",
       "    }\n",
       "\n",
       "    .dataframe tbody tr th {\n",
       "        vertical-align: top;\n",
       "    }\n",
       "\n",
       "    .dataframe thead th {\n",
       "        text-align: right;\n",
       "    }\n",
       "</style>\n",
       "<table border=\"1\" class=\"dataframe\">\n",
       "  <thead>\n",
       "    <tr style=\"text-align: right;\">\n",
       "      <th>Year</th>\n",
       "      <th>1987</th>\n",
       "      <th>1988</th>\n",
       "      <th>1989</th>\n",
       "      <th>1990</th>\n",
       "      <th>1991</th>\n",
       "      <th>1992</th>\n",
       "      <th>1993</th>\n",
       "      <th>1994</th>\n",
       "      <th>1995</th>\n",
       "      <th>1996</th>\n",
       "      <th>...</th>\n",
       "      <th>2010</th>\n",
       "      <th>2011</th>\n",
       "      <th>2012</th>\n",
       "      <th>2013</th>\n",
       "      <th>2014</th>\n",
       "      <th>2015</th>\n",
       "      <th>2016</th>\n",
       "      <th>2017</th>\n",
       "      <th>2018</th>\n",
       "      <th>2019</th>\n",
       "    </tr>\n",
       "    <tr>\n",
       "      <th>Month</th>\n",
       "      <th></th>\n",
       "      <th></th>\n",
       "      <th></th>\n",
       "      <th></th>\n",
       "      <th></th>\n",
       "      <th></th>\n",
       "      <th></th>\n",
       "      <th></th>\n",
       "      <th></th>\n",
       "      <th></th>\n",
       "      <th></th>\n",
       "      <th></th>\n",
       "      <th></th>\n",
       "      <th></th>\n",
       "      <th></th>\n",
       "      <th></th>\n",
       "      <th></th>\n",
       "      <th></th>\n",
       "      <th></th>\n",
       "      <th></th>\n",
       "      <th></th>\n",
       "    </tr>\n",
       "  </thead>\n",
       "  <tbody>\n",
       "    <tr>\n",
       "      <th>1</th>\n",
       "      <td>NaN</td>\n",
       "      <td>16.749444</td>\n",
       "      <td>17.171905</td>\n",
       "      <td>21.251818</td>\n",
       "      <td>23.566364</td>\n",
       "      <td>18.163636</td>\n",
       "      <td>17.386000</td>\n",
       "      <td>14.291500</td>\n",
       "      <td>16.551905</td>\n",
       "      <td>17.853182</td>\n",
       "      <td>...</td>\n",
       "      <td>76.167368</td>\n",
       "      <td>96.523500</td>\n",
       "      <td>110.686000</td>\n",
       "      <td>112.960000</td>\n",
       "      <td>108.117727</td>\n",
       "      <td>47.759500</td>\n",
       "      <td>30.699500</td>\n",
       "      <td>54.576667</td>\n",
       "      <td>69.077273</td>\n",
       "      <td>59.409545</td>\n",
       "    </tr>\n",
       "    <tr>\n",
       "      <th>2</th>\n",
       "      <td>NaN</td>\n",
       "      <td>15.729524</td>\n",
       "      <td>16.888500</td>\n",
       "      <td>19.813500</td>\n",
       "      <td>19.536000</td>\n",
       "      <td>18.053500</td>\n",
       "      <td>18.466316</td>\n",
       "      <td>13.802000</td>\n",
       "      <td>17.114500</td>\n",
       "      <td>17.999048</td>\n",
       "      <td>...</td>\n",
       "      <td>73.752105</td>\n",
       "      <td>103.716316</td>\n",
       "      <td>119.327000</td>\n",
       "      <td>116.050526</td>\n",
       "      <td>108.900526</td>\n",
       "      <td>58.095500</td>\n",
       "      <td>32.181500</td>\n",
       "      <td>54.869500</td>\n",
       "      <td>65.317500</td>\n",
       "      <td>62.060000</td>\n",
       "    </tr>\n",
       "    <tr>\n",
       "      <th>3</th>\n",
       "      <td>NaN</td>\n",
       "      <td>14.731304</td>\n",
       "      <td>18.700952</td>\n",
       "      <td>18.387273</td>\n",
       "      <td>19.082500</td>\n",
       "      <td>17.630909</td>\n",
       "      <td>18.785217</td>\n",
       "      <td>13.822609</td>\n",
       "      <td>17.006522</td>\n",
       "      <td>19.851905</td>\n",
       "      <td>...</td>\n",
       "      <td>78.827391</td>\n",
       "      <td>114.643478</td>\n",
       "      <td>125.445455</td>\n",
       "      <td>108.474000</td>\n",
       "      <td>107.480952</td>\n",
       "      <td>55.885455</td>\n",
       "      <td>38.210455</td>\n",
       "      <td>51.589130</td>\n",
       "      <td>66.016667</td>\n",
       "      <td>NaN</td>\n",
       "    </tr>\n",
       "    <tr>\n",
       "      <th>4</th>\n",
       "      <td>NaN</td>\n",
       "      <td>16.595263</td>\n",
       "      <td>20.319500</td>\n",
       "      <td>16.612105</td>\n",
       "      <td>19.180000</td>\n",
       "      <td>18.919048</td>\n",
       "      <td>18.674500</td>\n",
       "      <td>15.231579</td>\n",
       "      <td>18.648333</td>\n",
       "      <td>20.900500</td>\n",
       "      <td>...</td>\n",
       "      <td>84.817619</td>\n",
       "      <td>123.258889</td>\n",
       "      <td>119.421667</td>\n",
       "      <td>102.248182</td>\n",
       "      <td>107.755238</td>\n",
       "      <td>59.524286</td>\n",
       "      <td>41.583333</td>\n",
       "      <td>52.307895</td>\n",
       "      <td>72.106000</td>\n",
       "      <td>NaN</td>\n",
       "    </tr>\n",
       "  </tbody>\n",
       "</table>\n",
       "<p>4 rows × 33 columns</p>\n",
       "</div>"
      ],
      "text/plain": [
       "Year   1987       1988       1989       1990       1991       1992       1993  \\\n",
       "Month                                                                           \n",
       "1       NaN  16.749444  17.171905  21.251818  23.566364  18.163636  17.386000   \n",
       "2       NaN  15.729524  16.888500  19.813500  19.536000  18.053500  18.466316   \n",
       "3       NaN  14.731304  18.700952  18.387273  19.082500  17.630909  18.785217   \n",
       "4       NaN  16.595263  20.319500  16.612105  19.180000  18.919048  18.674500   \n",
       "\n",
       "Year        1994       1995       1996    ...           2010        2011  \\\n",
       "Month                                     ...                              \n",
       "1      14.291500  16.551905  17.853182    ...      76.167368   96.523500   \n",
       "2      13.802000  17.114500  17.999048    ...      73.752105  103.716316   \n",
       "3      13.822609  17.006522  19.851905    ...      78.827391  114.643478   \n",
       "4      15.231579  18.648333  20.900500    ...      84.817619  123.258889   \n",
       "\n",
       "Year         2012        2013        2014       2015       2016       2017  \\\n",
       "Month                                                                        \n",
       "1      110.686000  112.960000  108.117727  47.759500  30.699500  54.576667   \n",
       "2      119.327000  116.050526  108.900526  58.095500  32.181500  54.869500   \n",
       "3      125.445455  108.474000  107.480952  55.885455  38.210455  51.589130   \n",
       "4      119.421667  102.248182  107.755238  59.524286  41.583333  52.307895   \n",
       "\n",
       "Year        2018       2019  \n",
       "Month                        \n",
       "1      69.077273  59.409545  \n",
       "2      65.317500  62.060000  \n",
       "3      66.016667        NaN  \n",
       "4      72.106000        NaN  \n",
       "\n",
       "[4 rows x 33 columns]"
      ]
     },
     "execution_count": 148,
     "metadata": {},
     "output_type": "execute_result"
    }
   ],
   "source": [
    "pm.head(4)"
   ]
  },
  {
   "cell_type": "markdown",
   "metadata": {},
   "source": [
    "Now comes the tricky part\n",
    "* **pm.loc[12,:]** gives us all the data on 12th row (December)\n",
    "* **.shift(1)** shifts the data to the right. So 1987 December can be on the same column with 1988\n",
    "* pasting the shifted row data to zero index will be the final touch"
   ]
  },
  {
   "cell_type": "code",
   "execution_count": 149,
   "metadata": {},
   "outputs": [
    {
     "data": {
      "text/html": [
       "<div>\n",
       "<style scoped>\n",
       "    .dataframe tbody tr th:only-of-type {\n",
       "        vertical-align: middle;\n",
       "    }\n",
       "\n",
       "    .dataframe tbody tr th {\n",
       "        vertical-align: top;\n",
       "    }\n",
       "\n",
       "    .dataframe thead th {\n",
       "        text-align: right;\n",
       "    }\n",
       "</style>\n",
       "<table border=\"1\" class=\"dataframe\">\n",
       "  <thead>\n",
       "    <tr style=\"text-align: right;\">\n",
       "      <th>Year</th>\n",
       "      <th>1987</th>\n",
       "      <th>1988</th>\n",
       "      <th>1989</th>\n",
       "      <th>1990</th>\n",
       "      <th>1991</th>\n",
       "      <th>1992</th>\n",
       "      <th>1993</th>\n",
       "      <th>1994</th>\n",
       "      <th>1995</th>\n",
       "      <th>1996</th>\n",
       "      <th>...</th>\n",
       "      <th>2010</th>\n",
       "      <th>2011</th>\n",
       "      <th>2012</th>\n",
       "      <th>2013</th>\n",
       "      <th>2014</th>\n",
       "      <th>2015</th>\n",
       "      <th>2016</th>\n",
       "      <th>2017</th>\n",
       "      <th>2018</th>\n",
       "      <th>2019</th>\n",
       "    </tr>\n",
       "    <tr>\n",
       "      <th>Month</th>\n",
       "      <th></th>\n",
       "      <th></th>\n",
       "      <th></th>\n",
       "      <th></th>\n",
       "      <th></th>\n",
       "      <th></th>\n",
       "      <th></th>\n",
       "      <th></th>\n",
       "      <th></th>\n",
       "      <th></th>\n",
       "      <th></th>\n",
       "      <th></th>\n",
       "      <th></th>\n",
       "      <th></th>\n",
       "      <th></th>\n",
       "      <th></th>\n",
       "      <th></th>\n",
       "      <th></th>\n",
       "      <th></th>\n",
       "      <th></th>\n",
       "      <th></th>\n",
       "    </tr>\n",
       "  </thead>\n",
       "  <tbody>\n",
       "    <tr>\n",
       "      <th>1</th>\n",
       "      <td>NaN</td>\n",
       "      <td>16.749444</td>\n",
       "      <td>17.171905</td>\n",
       "      <td>21.251818</td>\n",
       "      <td>23.566364</td>\n",
       "      <td>18.163636</td>\n",
       "      <td>17.386000</td>\n",
       "      <td>14.291500</td>\n",
       "      <td>16.551905</td>\n",
       "      <td>17.853182</td>\n",
       "      <td>...</td>\n",
       "      <td>76.167368</td>\n",
       "      <td>96.523500</td>\n",
       "      <td>110.686000</td>\n",
       "      <td>112.960000</td>\n",
       "      <td>108.117727</td>\n",
       "      <td>47.759500</td>\n",
       "      <td>30.699500</td>\n",
       "      <td>54.576667</td>\n",
       "      <td>69.077273</td>\n",
       "      <td>59.409545</td>\n",
       "    </tr>\n",
       "    <tr>\n",
       "      <th>2</th>\n",
       "      <td>NaN</td>\n",
       "      <td>15.729524</td>\n",
       "      <td>16.888500</td>\n",
       "      <td>19.813500</td>\n",
       "      <td>19.536000</td>\n",
       "      <td>18.053500</td>\n",
       "      <td>18.466316</td>\n",
       "      <td>13.802000</td>\n",
       "      <td>17.114500</td>\n",
       "      <td>17.999048</td>\n",
       "      <td>...</td>\n",
       "      <td>73.752105</td>\n",
       "      <td>103.716316</td>\n",
       "      <td>119.327000</td>\n",
       "      <td>116.050526</td>\n",
       "      <td>108.900526</td>\n",
       "      <td>58.095500</td>\n",
       "      <td>32.181500</td>\n",
       "      <td>54.869500</td>\n",
       "      <td>65.317500</td>\n",
       "      <td>62.060000</td>\n",
       "    </tr>\n",
       "    <tr>\n",
       "      <th>3</th>\n",
       "      <td>NaN</td>\n",
       "      <td>14.731304</td>\n",
       "      <td>18.700952</td>\n",
       "      <td>18.387273</td>\n",
       "      <td>19.082500</td>\n",
       "      <td>17.630909</td>\n",
       "      <td>18.785217</td>\n",
       "      <td>13.822609</td>\n",
       "      <td>17.006522</td>\n",
       "      <td>19.851905</td>\n",
       "      <td>...</td>\n",
       "      <td>78.827391</td>\n",
       "      <td>114.643478</td>\n",
       "      <td>125.445455</td>\n",
       "      <td>108.474000</td>\n",
       "      <td>107.480952</td>\n",
       "      <td>55.885455</td>\n",
       "      <td>38.210455</td>\n",
       "      <td>51.589130</td>\n",
       "      <td>66.016667</td>\n",
       "      <td>NaN</td>\n",
       "    </tr>\n",
       "  </tbody>\n",
       "</table>\n",
       "<p>3 rows × 33 columns</p>\n",
       "</div>"
      ],
      "text/plain": [
       "Year   1987       1988       1989       1990       1991       1992       1993  \\\n",
       "Month                                                                           \n",
       "1       NaN  16.749444  17.171905  21.251818  23.566364  18.163636  17.386000   \n",
       "2       NaN  15.729524  16.888500  19.813500  19.536000  18.053500  18.466316   \n",
       "3       NaN  14.731304  18.700952  18.387273  19.082500  17.630909  18.785217   \n",
       "\n",
       "Year        1994       1995       1996    ...           2010        2011  \\\n",
       "Month                                     ...                              \n",
       "1      14.291500  16.551905  17.853182    ...      76.167368   96.523500   \n",
       "2      13.802000  17.114500  17.999048    ...      73.752105  103.716316   \n",
       "3      13.822609  17.006522  19.851905    ...      78.827391  114.643478   \n",
       "\n",
       "Year         2012        2013        2014       2015       2016       2017  \\\n",
       "Month                                                                        \n",
       "1      110.686000  112.960000  108.117727  47.759500  30.699500  54.576667   \n",
       "2      119.327000  116.050526  108.900526  58.095500  32.181500  54.869500   \n",
       "3      125.445455  108.474000  107.480952  55.885455  38.210455  51.589130   \n",
       "\n",
       "Year        2018       2019  \n",
       "Month                        \n",
       "1      69.077273  59.409545  \n",
       "2      65.317500  62.060000  \n",
       "3      66.016667        NaN  \n",
       "\n",
       "[3 rows x 33 columns]"
      ]
     },
     "execution_count": 149,
     "metadata": {},
     "output_type": "execute_result"
    }
   ],
   "source": [
    "pm.loc[0]=pm.loc[12,:].shift(1)\n",
    "pm.head(3)"
   ]
  },
  {
   "cell_type": "markdown",
   "metadata": {},
   "source": [
    "We can not see the 0th row. That is because pasted row is added to the last line. Our index is month, therefore **sort_index()** will solve our problem."
   ]
  },
  {
   "cell_type": "code",
   "execution_count": 150,
   "metadata": {},
   "outputs": [
    {
     "data": {
      "text/html": [
       "<div>\n",
       "<style scoped>\n",
       "    .dataframe tbody tr th:only-of-type {\n",
       "        vertical-align: middle;\n",
       "    }\n",
       "\n",
       "    .dataframe tbody tr th {\n",
       "        vertical-align: top;\n",
       "    }\n",
       "\n",
       "    .dataframe thead th {\n",
       "        text-align: right;\n",
       "    }\n",
       "</style>\n",
       "<table border=\"1\" class=\"dataframe\">\n",
       "  <thead>\n",
       "    <tr style=\"text-align: right;\">\n",
       "      <th>Year</th>\n",
       "      <th>1987</th>\n",
       "      <th>1988</th>\n",
       "      <th>1989</th>\n",
       "      <th>1990</th>\n",
       "      <th>1991</th>\n",
       "      <th>1992</th>\n",
       "      <th>1993</th>\n",
       "      <th>1994</th>\n",
       "      <th>1995</th>\n",
       "      <th>1996</th>\n",
       "      <th>...</th>\n",
       "      <th>2010</th>\n",
       "      <th>2011</th>\n",
       "      <th>2012</th>\n",
       "      <th>2013</th>\n",
       "      <th>2014</th>\n",
       "      <th>2015</th>\n",
       "      <th>2016</th>\n",
       "      <th>2017</th>\n",
       "      <th>2018</th>\n",
       "      <th>2019</th>\n",
       "    </tr>\n",
       "    <tr>\n",
       "      <th>Month</th>\n",
       "      <th></th>\n",
       "      <th></th>\n",
       "      <th></th>\n",
       "      <th></th>\n",
       "      <th></th>\n",
       "      <th></th>\n",
       "      <th></th>\n",
       "      <th></th>\n",
       "      <th></th>\n",
       "      <th></th>\n",
       "      <th></th>\n",
       "      <th></th>\n",
       "      <th></th>\n",
       "      <th></th>\n",
       "      <th></th>\n",
       "      <th></th>\n",
       "      <th></th>\n",
       "      <th></th>\n",
       "      <th></th>\n",
       "      <th></th>\n",
       "      <th></th>\n",
       "    </tr>\n",
       "  </thead>\n",
       "  <tbody>\n",
       "    <tr>\n",
       "      <th>0</th>\n",
       "      <td>NaN</td>\n",
       "      <td>17.054091</td>\n",
       "      <td>15.306667</td>\n",
       "      <td>19.838947</td>\n",
       "      <td>28.273500</td>\n",
       "      <td>18.410952</td>\n",
       "      <td>18.139524</td>\n",
       "      <td>13.725714</td>\n",
       "      <td>15.932000</td>\n",
       "      <td>17.925263</td>\n",
       "      <td>...</td>\n",
       "      <td>74.456364</td>\n",
       "      <td>91.446818</td>\n",
       "      <td>107.8705</td>\n",
       "      <td>109.494000</td>\n",
       "      <td>110.756667</td>\n",
       "      <td>62.3350</td>\n",
       "      <td>38.005455</td>\n",
       "      <td>53.308500</td>\n",
       "      <td>64.373684</td>\n",
       "      <td>57.362353</td>\n",
       "    </tr>\n",
       "    <tr>\n",
       "      <th>1</th>\n",
       "      <td>NaN</td>\n",
       "      <td>16.749444</td>\n",
       "      <td>17.171905</td>\n",
       "      <td>21.251818</td>\n",
       "      <td>23.566364</td>\n",
       "      <td>18.163636</td>\n",
       "      <td>17.386000</td>\n",
       "      <td>14.291500</td>\n",
       "      <td>16.551905</td>\n",
       "      <td>17.853182</td>\n",
       "      <td>...</td>\n",
       "      <td>76.167368</td>\n",
       "      <td>96.523500</td>\n",
       "      <td>110.6860</td>\n",
       "      <td>112.960000</td>\n",
       "      <td>108.117727</td>\n",
       "      <td>47.7595</td>\n",
       "      <td>30.699500</td>\n",
       "      <td>54.576667</td>\n",
       "      <td>69.077273</td>\n",
       "      <td>59.409545</td>\n",
       "    </tr>\n",
       "    <tr>\n",
       "      <th>2</th>\n",
       "      <td>NaN</td>\n",
       "      <td>15.729524</td>\n",
       "      <td>16.888500</td>\n",
       "      <td>19.813500</td>\n",
       "      <td>19.536000</td>\n",
       "      <td>18.053500</td>\n",
       "      <td>18.466316</td>\n",
       "      <td>13.802000</td>\n",
       "      <td>17.114500</td>\n",
       "      <td>17.999048</td>\n",
       "      <td>...</td>\n",
       "      <td>73.752105</td>\n",
       "      <td>103.716316</td>\n",
       "      <td>119.3270</td>\n",
       "      <td>116.050526</td>\n",
       "      <td>108.900526</td>\n",
       "      <td>58.0955</td>\n",
       "      <td>32.181500</td>\n",
       "      <td>54.869500</td>\n",
       "      <td>65.317500</td>\n",
       "      <td>62.060000</td>\n",
       "    </tr>\n",
       "  </tbody>\n",
       "</table>\n",
       "<p>3 rows × 33 columns</p>\n",
       "</div>"
      ],
      "text/plain": [
       "Year   1987       1988       1989       1990       1991       1992       1993  \\\n",
       "Month                                                                           \n",
       "0       NaN  17.054091  15.306667  19.838947  28.273500  18.410952  18.139524   \n",
       "1       NaN  16.749444  17.171905  21.251818  23.566364  18.163636  17.386000   \n",
       "2       NaN  15.729524  16.888500  19.813500  19.536000  18.053500  18.466316   \n",
       "\n",
       "Year        1994       1995       1996    ...           2010        2011  \\\n",
       "Month                                     ...                              \n",
       "0      13.725714  15.932000  17.925263    ...      74.456364   91.446818   \n",
       "1      14.291500  16.551905  17.853182    ...      76.167368   96.523500   \n",
       "2      13.802000  17.114500  17.999048    ...      73.752105  103.716316   \n",
       "\n",
       "Year       2012        2013        2014     2015       2016       2017  \\\n",
       "Month                                                                    \n",
       "0      107.8705  109.494000  110.756667  62.3350  38.005455  53.308500   \n",
       "1      110.6860  112.960000  108.117727  47.7595  30.699500  54.576667   \n",
       "2      119.3270  116.050526  108.900526  58.0955  32.181500  54.869500   \n",
       "\n",
       "Year        2018       2019  \n",
       "Month                        \n",
       "0      64.373684  57.362353  \n",
       "1      69.077273  59.409545  \n",
       "2      65.317500  62.060000  \n",
       "\n",
       "[3 rows x 33 columns]"
      ]
     },
     "execution_count": 150,
     "metadata": {},
     "output_type": "execute_result"
    }
   ],
   "source": [
    "pm=pm.sort_index()\n",
    "pm.head(3)\n"
   ]
  },
  {
   "cell_type": "markdown",
   "metadata": {},
   "source": [
    "Now we can calculate percent change"
   ]
  },
  {
   "cell_type": "code",
   "execution_count": 151,
   "metadata": {},
   "outputs": [
    {
     "data": {
      "text/html": [
       "<div>\n",
       "<style scoped>\n",
       "    .dataframe tbody tr th:only-of-type {\n",
       "        vertical-align: middle;\n",
       "    }\n",
       "\n",
       "    .dataframe tbody tr th {\n",
       "        vertical-align: top;\n",
       "    }\n",
       "\n",
       "    .dataframe thead th {\n",
       "        text-align: right;\n",
       "    }\n",
       "</style>\n",
       "<table border=\"1\" class=\"dataframe\">\n",
       "  <thead>\n",
       "    <tr style=\"text-align: right;\">\n",
       "      <th>Year</th>\n",
       "      <th>1987</th>\n",
       "      <th>1988</th>\n",
       "      <th>1989</th>\n",
       "      <th>1990</th>\n",
       "      <th>1991</th>\n",
       "      <th>1992</th>\n",
       "      <th>1993</th>\n",
       "      <th>1994</th>\n",
       "      <th>1995</th>\n",
       "      <th>1996</th>\n",
       "      <th>...</th>\n",
       "      <th>2010</th>\n",
       "      <th>2011</th>\n",
       "      <th>2012</th>\n",
       "      <th>2013</th>\n",
       "      <th>2014</th>\n",
       "      <th>2015</th>\n",
       "      <th>2016</th>\n",
       "      <th>2017</th>\n",
       "      <th>2018</th>\n",
       "      <th>2019</th>\n",
       "    </tr>\n",
       "    <tr>\n",
       "      <th>Month</th>\n",
       "      <th></th>\n",
       "      <th></th>\n",
       "      <th></th>\n",
       "      <th></th>\n",
       "      <th></th>\n",
       "      <th></th>\n",
       "      <th></th>\n",
       "      <th></th>\n",
       "      <th></th>\n",
       "      <th></th>\n",
       "      <th></th>\n",
       "      <th></th>\n",
       "      <th></th>\n",
       "      <th></th>\n",
       "      <th></th>\n",
       "      <th></th>\n",
       "      <th></th>\n",
       "      <th></th>\n",
       "      <th></th>\n",
       "      <th></th>\n",
       "      <th></th>\n",
       "    </tr>\n",
       "  </thead>\n",
       "  <tbody>\n",
       "    <tr>\n",
       "      <th>0</th>\n",
       "      <td>NaN</td>\n",
       "      <td>NaN</td>\n",
       "      <td>NaN</td>\n",
       "      <td>NaN</td>\n",
       "      <td>NaN</td>\n",
       "      <td>NaN</td>\n",
       "      <td>NaN</td>\n",
       "      <td>NaN</td>\n",
       "      <td>NaN</td>\n",
       "      <td>NaN</td>\n",
       "      <td>...</td>\n",
       "      <td>NaN</td>\n",
       "      <td>NaN</td>\n",
       "      <td>NaN</td>\n",
       "      <td>NaN</td>\n",
       "      <td>NaN</td>\n",
       "      <td>NaN</td>\n",
       "      <td>NaN</td>\n",
       "      <td>NaN</td>\n",
       "      <td>NaN</td>\n",
       "      <td>NaN</td>\n",
       "    </tr>\n",
       "    <tr>\n",
       "      <th>1</th>\n",
       "      <td>NaN</td>\n",
       "      <td>-0.017864</td>\n",
       "      <td>0.121858</td>\n",
       "      <td>0.071217</td>\n",
       "      <td>-0.166486</td>\n",
       "      <td>-0.013433</td>\n",
       "      <td>-0.041540</td>\n",
       "      <td>0.041221</td>\n",
       "      <td>0.038909</td>\n",
       "      <td>-0.004021</td>\n",
       "      <td>...</td>\n",
       "      <td>0.02298</td>\n",
       "      <td>0.055515</td>\n",
       "      <td>0.026101</td>\n",
       "      <td>0.031655</td>\n",
       "      <td>-0.023826</td>\n",
       "      <td>-0.233825</td>\n",
       "      <td>-0.192234</td>\n",
       "      <td>0.023789</td>\n",
       "      <td>0.073067</td>\n",
       "      <td>0.035689</td>\n",
       "    </tr>\n",
       "    <tr>\n",
       "      <th>2</th>\n",
       "      <td>NaN</td>\n",
       "      <td>-0.060893</td>\n",
       "      <td>-0.016504</td>\n",
       "      <td>-0.067680</td>\n",
       "      <td>-0.171022</td>\n",
       "      <td>-0.006064</td>\n",
       "      <td>0.062137</td>\n",
       "      <td>-0.034251</td>\n",
       "      <td>0.033990</td>\n",
       "      <td>0.008170</td>\n",
       "      <td>...</td>\n",
       "      <td>-0.03171</td>\n",
       "      <td>0.074519</td>\n",
       "      <td>0.078068</td>\n",
       "      <td>0.027359</td>\n",
       "      <td>0.007240</td>\n",
       "      <td>0.216418</td>\n",
       "      <td>0.048274</td>\n",
       "      <td>0.005366</td>\n",
       "      <td>-0.054429</td>\n",
       "      <td>0.044613</td>\n",
       "    </tr>\n",
       "  </tbody>\n",
       "</table>\n",
       "<p>3 rows × 33 columns</p>\n",
       "</div>"
      ],
      "text/plain": [
       "Year   1987      1988      1989      1990      1991      1992      1993  \\\n",
       "Month                                                                     \n",
       "0       NaN       NaN       NaN       NaN       NaN       NaN       NaN   \n",
       "1       NaN -0.017864  0.121858  0.071217 -0.166486 -0.013433 -0.041540   \n",
       "2       NaN -0.060893 -0.016504 -0.067680 -0.171022 -0.006064  0.062137   \n",
       "\n",
       "Year       1994      1995      1996    ...        2010      2011      2012  \\\n",
       "Month                                  ...                                   \n",
       "0           NaN       NaN       NaN    ...         NaN       NaN       NaN   \n",
       "1      0.041221  0.038909 -0.004021    ...     0.02298  0.055515  0.026101   \n",
       "2     -0.034251  0.033990  0.008170    ...    -0.03171  0.074519  0.078068   \n",
       "\n",
       "Year       2013      2014      2015      2016      2017      2018      2019  \n",
       "Month                                                                        \n",
       "0           NaN       NaN       NaN       NaN       NaN       NaN       NaN  \n",
       "1      0.031655 -0.023826 -0.233825 -0.192234  0.023789  0.073067  0.035689  \n",
       "2      0.027359  0.007240  0.216418  0.048274  0.005366 -0.054429  0.044613  \n",
       "\n",
       "[3 rows x 33 columns]"
      ]
     },
     "execution_count": 151,
     "metadata": {},
     "output_type": "execute_result"
    }
   ],
   "source": [
    "pmc=pm.pct_change()\n",
    "pmc.head(3)"
   ]
  },
  {
   "cell_type": "markdown",
   "metadata": {},
   "source": [
    "Now we can delete row 0, since it is full of NaN\n",
    "\n",
    "To delete row 0, drop command is used. But do not forget to assign the new data table to original variable"
   ]
  },
  {
   "cell_type": "code",
   "execution_count": 152,
   "metadata": {},
   "outputs": [],
   "source": [
    "pmc=pmc.drop(pmc.index[0])"
   ]
  },
  {
   "cell_type": "code",
   "execution_count": 153,
   "metadata": {},
   "outputs": [
    {
     "data": {
      "text/html": [
       "<div>\n",
       "<style scoped>\n",
       "    .dataframe tbody tr th:only-of-type {\n",
       "        vertical-align: middle;\n",
       "    }\n",
       "\n",
       "    .dataframe tbody tr th {\n",
       "        vertical-align: top;\n",
       "    }\n",
       "\n",
       "    .dataframe thead th {\n",
       "        text-align: right;\n",
       "    }\n",
       "</style>\n",
       "<table border=\"1\" class=\"dataframe\">\n",
       "  <thead>\n",
       "    <tr style=\"text-align: right;\">\n",
       "      <th>Year</th>\n",
       "      <th>1987</th>\n",
       "      <th>1988</th>\n",
       "      <th>1989</th>\n",
       "      <th>1990</th>\n",
       "      <th>1991</th>\n",
       "      <th>1992</th>\n",
       "      <th>1993</th>\n",
       "      <th>1994</th>\n",
       "      <th>1995</th>\n",
       "      <th>1996</th>\n",
       "      <th>...</th>\n",
       "      <th>2010</th>\n",
       "      <th>2011</th>\n",
       "      <th>2012</th>\n",
       "      <th>2013</th>\n",
       "      <th>2014</th>\n",
       "      <th>2015</th>\n",
       "      <th>2016</th>\n",
       "      <th>2017</th>\n",
       "      <th>2018</th>\n",
       "      <th>2019</th>\n",
       "    </tr>\n",
       "    <tr>\n",
       "      <th>Month</th>\n",
       "      <th></th>\n",
       "      <th></th>\n",
       "      <th></th>\n",
       "      <th></th>\n",
       "      <th></th>\n",
       "      <th></th>\n",
       "      <th></th>\n",
       "      <th></th>\n",
       "      <th></th>\n",
       "      <th></th>\n",
       "      <th></th>\n",
       "      <th></th>\n",
       "      <th></th>\n",
       "      <th></th>\n",
       "      <th></th>\n",
       "      <th></th>\n",
       "      <th></th>\n",
       "      <th></th>\n",
       "      <th></th>\n",
       "      <th></th>\n",
       "      <th></th>\n",
       "    </tr>\n",
       "  </thead>\n",
       "  <tbody>\n",
       "    <tr>\n",
       "      <th>1</th>\n",
       "      <td>NaN</td>\n",
       "      <td>-0.017864</td>\n",
       "      <td>0.121858</td>\n",
       "      <td>0.071217</td>\n",
       "      <td>-0.166486</td>\n",
       "      <td>-0.013433</td>\n",
       "      <td>-0.041540</td>\n",
       "      <td>0.041221</td>\n",
       "      <td>0.038909</td>\n",
       "      <td>-0.004021</td>\n",
       "      <td>...</td>\n",
       "      <td>0.022980</td>\n",
       "      <td>0.055515</td>\n",
       "      <td>0.026101</td>\n",
       "      <td>0.031655</td>\n",
       "      <td>-0.023826</td>\n",
       "      <td>-0.233825</td>\n",
       "      <td>-0.192234</td>\n",
       "      <td>0.023789</td>\n",
       "      <td>0.073067</td>\n",
       "      <td>0.035689</td>\n",
       "    </tr>\n",
       "    <tr>\n",
       "      <th>2</th>\n",
       "      <td>NaN</td>\n",
       "      <td>-0.060893</td>\n",
       "      <td>-0.016504</td>\n",
       "      <td>-0.067680</td>\n",
       "      <td>-0.171022</td>\n",
       "      <td>-0.006064</td>\n",
       "      <td>0.062137</td>\n",
       "      <td>-0.034251</td>\n",
       "      <td>0.033990</td>\n",
       "      <td>0.008170</td>\n",
       "      <td>...</td>\n",
       "      <td>-0.031710</td>\n",
       "      <td>0.074519</td>\n",
       "      <td>0.078068</td>\n",
       "      <td>0.027359</td>\n",
       "      <td>0.007240</td>\n",
       "      <td>0.216418</td>\n",
       "      <td>0.048274</td>\n",
       "      <td>0.005366</td>\n",
       "      <td>-0.054429</td>\n",
       "      <td>0.044613</td>\n",
       "    </tr>\n",
       "    <tr>\n",
       "      <th>3</th>\n",
       "      <td>NaN</td>\n",
       "      <td>-0.063462</td>\n",
       "      <td>0.107319</td>\n",
       "      <td>-0.071983</td>\n",
       "      <td>-0.023214</td>\n",
       "      <td>-0.023408</td>\n",
       "      <td>0.017269</td>\n",
       "      <td>0.001493</td>\n",
       "      <td>-0.006309</td>\n",
       "      <td>0.102942</td>\n",
       "      <td>...</td>\n",
       "      <td>0.068815</td>\n",
       "      <td>0.105356</td>\n",
       "      <td>0.051275</td>\n",
       "      <td>-0.065286</td>\n",
       "      <td>-0.013036</td>\n",
       "      <td>-0.038042</td>\n",
       "      <td>0.187342</td>\n",
       "      <td>-0.059785</td>\n",
       "      <td>0.010704</td>\n",
       "      <td>0.000000</td>\n",
       "    </tr>\n",
       "    <tr>\n",
       "      <th>4</th>\n",
       "      <td>NaN</td>\n",
       "      <td>0.126530</td>\n",
       "      <td>0.086549</td>\n",
       "      <td>-0.096543</td>\n",
       "      <td>0.005109</td>\n",
       "      <td>0.073061</td>\n",
       "      <td>-0.005894</td>\n",
       "      <td>0.101932</td>\n",
       "      <td>0.096540</td>\n",
       "      <td>0.052821</td>\n",
       "      <td>...</td>\n",
       "      <td>0.075992</td>\n",
       "      <td>0.075150</td>\n",
       "      <td>-0.048019</td>\n",
       "      <td>-0.057395</td>\n",
       "      <td>0.002552</td>\n",
       "      <td>0.065112</td>\n",
       "      <td>0.088271</td>\n",
       "      <td>0.013932</td>\n",
       "      <td>0.092239</td>\n",
       "      <td>0.000000</td>\n",
       "    </tr>\n",
       "    <tr>\n",
       "      <th>5</th>\n",
       "      <td>NaN</td>\n",
       "      <td>-0.016943</td>\n",
       "      <td>-0.082990</td>\n",
       "      <td>-0.015641</td>\n",
       "      <td>0.000355</td>\n",
       "      <td>0.051242</td>\n",
       "      <td>-0.008922</td>\n",
       "      <td>0.062792</td>\n",
       "      <td>-0.015949</td>\n",
       "      <td>-0.083526</td>\n",
       "      <td>...</td>\n",
       "      <td>-0.104602</td>\n",
       "      <td>-0.067093</td>\n",
       "      <td>-0.076051</td>\n",
       "      <td>0.003036</td>\n",
       "      <td>0.016555</td>\n",
       "      <td>0.076451</td>\n",
       "      <td>0.124065</td>\n",
       "      <td>-0.037879</td>\n",
       "      <td>0.067529</td>\n",
       "      <td>0.000000</td>\n",
       "    </tr>\n",
       "  </tbody>\n",
       "</table>\n",
       "<p>5 rows × 33 columns</p>\n",
       "</div>"
      ],
      "text/plain": [
       "Year   1987      1988      1989      1990      1991      1992      1993  \\\n",
       "Month                                                                     \n",
       "1       NaN -0.017864  0.121858  0.071217 -0.166486 -0.013433 -0.041540   \n",
       "2       NaN -0.060893 -0.016504 -0.067680 -0.171022 -0.006064  0.062137   \n",
       "3       NaN -0.063462  0.107319 -0.071983 -0.023214 -0.023408  0.017269   \n",
       "4       NaN  0.126530  0.086549 -0.096543  0.005109  0.073061 -0.005894   \n",
       "5       NaN -0.016943 -0.082990 -0.015641  0.000355  0.051242 -0.008922   \n",
       "\n",
       "Year       1994      1995      1996    ...         2010      2011      2012  \\\n",
       "Month                                  ...                                    \n",
       "1      0.041221  0.038909 -0.004021    ...     0.022980  0.055515  0.026101   \n",
       "2     -0.034251  0.033990  0.008170    ...    -0.031710  0.074519  0.078068   \n",
       "3      0.001493 -0.006309  0.102942    ...     0.068815  0.105356  0.051275   \n",
       "4      0.101932  0.096540  0.052821    ...     0.075992  0.075150 -0.048019   \n",
       "5      0.062792 -0.015949 -0.083526    ...    -0.104602 -0.067093 -0.076051   \n",
       "\n",
       "Year       2013      2014      2015      2016      2017      2018      2019  \n",
       "Month                                                                        \n",
       "1      0.031655 -0.023826 -0.233825 -0.192234  0.023789  0.073067  0.035689  \n",
       "2      0.027359  0.007240  0.216418  0.048274  0.005366 -0.054429  0.044613  \n",
       "3     -0.065286 -0.013036 -0.038042  0.187342 -0.059785  0.010704  0.000000  \n",
       "4     -0.057395  0.002552  0.065112  0.088271  0.013932  0.092239  0.000000  \n",
       "5      0.003036  0.016555  0.076451  0.124065 -0.037879  0.067529  0.000000  \n",
       "\n",
       "[5 rows x 33 columns]"
      ]
     },
     "execution_count": 153,
     "metadata": {},
     "output_type": "execute_result"
    }
   ],
   "source": [
    "pmc.head()"
   ]
  },
  {
   "cell_type": "markdown",
   "metadata": {},
   "source": [
    "Now we can calculate the last 10 years of percent changes or each month.\n",
    "* Filter pmc\n",
    "* Take mean for each row\n"
   ]
  },
  {
   "cell_type": "code",
   "execution_count": 154,
   "metadata": {},
   "outputs": [
    {
     "data": {
      "text/plain": [
       "Month\n",
       "1    -0.008514\n",
       "2     0.037552\n",
       "3     0.029233\n",
       "4     0.035098\n",
       "5     0.013082\n",
       "6    -0.005655\n",
       "7    -0.004082\n",
       "8     0.005426\n",
       "9     0.012227\n",
       "10    0.009811\n",
       "11   -0.029433\n",
       "12   -0.018523\n",
       "dtype: float64"
      ]
     },
     "execution_count": 154,
     "metadata": {},
     "output_type": "execute_result"
    }
   ],
   "source": [
    "pmc.loc[:,range(2009,2020)].mean(axis=1)"
   ]
  },
  {
   "cell_type": "markdown",
   "metadata": {},
   "source": [
    "For the last 10 years, February-April is most probably positive months. November and December are probably negative months.\n",
    "Now let's check for the 1987-2019"
   ]
  },
  {
   "cell_type": "code",
   "execution_count": 155,
   "metadata": {},
   "outputs": [
    {
     "data": {
      "text/plain": [
       "Month\n",
       "1     0.007312\n",
       "2     0.006919\n",
       "3     0.027188\n",
       "4     0.032079\n",
       "5     0.021397\n",
       "6    -0.007607\n",
       "7     0.017863\n",
       "8     0.024199\n",
       "9     0.015686\n",
       "10   -0.000595\n",
       "11   -0.033889\n",
       "12   -0.025382\n",
       "dtype: float64"
      ]
     },
     "execution_count": 155,
     "metadata": {},
     "output_type": "execute_result"
    }
   ],
   "source": [
    "pmc.mean(axis=1)"
   ]
  },
  {
   "cell_type": "markdown",
   "metadata": {},
   "source": [
    "Combining two results:\n",
    "* Rise starts with Feb-March\n",
    "* April is most probable for price hikes\n",
    "* Price changes turn negative for November and December"
   ]
  },
  {
   "cell_type": "markdown",
   "metadata": {},
   "source": [
    "In more detail, we can calculate the probabilites for each month. The process is straight forward\n",
    "* if the cell data is bigger than 0            ----> **pmc[(pmc.iloc[:,:]>0)]**\n",
    "* then count the number of cells in each row   ----> **.count(axis=1)**\n",
    "* divide the number of positive cells to total ----> **/(2020-1987+1)**\n",
    "* assign the values to \"Positive\" labeled column --> **pmc[\"Positive\"]**"
   ]
  },
  {
   "cell_type": "code",
   "execution_count": 156,
   "metadata": {},
   "outputs": [],
   "source": [
    "pmc[\"Positive\"]=pmc[(pmc.iloc[:,:]>0)].count(axis=1)/(2020-1987+1)"
   ]
  },
  {
   "cell_type": "markdown",
   "metadata": {},
   "source": [
    "Do the same for negative price movements"
   ]
  },
  {
   "cell_type": "code",
   "execution_count": 157,
   "metadata": {},
   "outputs": [],
   "source": [
    "pmc[\"Negative\"]=pmc[(pmc.iloc[:,:]<0)].count(axis=1)/(2020-1987+1)"
   ]
  },
  {
   "cell_type": "markdown",
   "metadata": {},
   "source": [
    "Let's see the total results for Positive and Negative columns"
   ]
  },
  {
   "cell_type": "code",
   "execution_count": 158,
   "metadata": {},
   "outputs": [
    {
     "data": {
      "text/html": [
       "<div>\n",
       "<style scoped>\n",
       "    .dataframe tbody tr th:only-of-type {\n",
       "        vertical-align: middle;\n",
       "    }\n",
       "\n",
       "    .dataframe tbody tr th {\n",
       "        vertical-align: top;\n",
       "    }\n",
       "\n",
       "    .dataframe thead th {\n",
       "        text-align: right;\n",
       "    }\n",
       "</style>\n",
       "<table border=\"1\" class=\"dataframe\">\n",
       "  <thead>\n",
       "    <tr style=\"text-align: right;\">\n",
       "      <th>Year</th>\n",
       "      <th>Positive</th>\n",
       "      <th>Negative</th>\n",
       "    </tr>\n",
       "    <tr>\n",
       "      <th>Month</th>\n",
       "      <th></th>\n",
       "      <th></th>\n",
       "    </tr>\n",
       "  </thead>\n",
       "  <tbody>\n",
       "    <tr>\n",
       "      <th>1</th>\n",
       "      <td>0.588235</td>\n",
       "      <td>0.352941</td>\n",
       "    </tr>\n",
       "    <tr>\n",
       "      <th>2</th>\n",
       "      <td>0.529412</td>\n",
       "      <td>0.411765</td>\n",
       "    </tr>\n",
       "    <tr>\n",
       "      <th>3</th>\n",
       "      <td>0.500000</td>\n",
       "      <td>0.411765</td>\n",
       "    </tr>\n",
       "    <tr>\n",
       "      <th>4</th>\n",
       "      <td>0.647059</td>\n",
       "      <td>0.264706</td>\n",
       "    </tr>\n",
       "    <tr>\n",
       "      <th>5</th>\n",
       "      <td>0.470588</td>\n",
       "      <td>0.441176</td>\n",
       "    </tr>\n",
       "    <tr>\n",
       "      <th>6</th>\n",
       "      <td>0.382353</td>\n",
       "      <td>0.558824</td>\n",
       "    </tr>\n",
       "    <tr>\n",
       "      <th>7</th>\n",
       "      <td>0.558824</td>\n",
       "      <td>0.382353</td>\n",
       "    </tr>\n",
       "    <tr>\n",
       "      <th>8</th>\n",
       "      <td>0.529412</td>\n",
       "      <td>0.411765</td>\n",
       "    </tr>\n",
       "    <tr>\n",
       "      <th>9</th>\n",
       "      <td>0.558824</td>\n",
       "      <td>0.382353</td>\n",
       "    </tr>\n",
       "    <tr>\n",
       "      <th>10</th>\n",
       "      <td>0.500000</td>\n",
       "      <td>0.441176</td>\n",
       "    </tr>\n",
       "    <tr>\n",
       "      <th>11</th>\n",
       "      <td>0.323529</td>\n",
       "      <td>0.617647</td>\n",
       "    </tr>\n",
       "    <tr>\n",
       "      <th>12</th>\n",
       "      <td>0.411765</td>\n",
       "      <td>0.529412</td>\n",
       "    </tr>\n",
       "  </tbody>\n",
       "</table>\n",
       "</div>"
      ],
      "text/plain": [
       "Year   Positive  Negative\n",
       "Month                    \n",
       "1      0.588235  0.352941\n",
       "2      0.529412  0.411765\n",
       "3      0.500000  0.411765\n",
       "4      0.647059  0.264706\n",
       "5      0.470588  0.441176\n",
       "6      0.382353  0.558824\n",
       "7      0.558824  0.382353\n",
       "8      0.529412  0.411765\n",
       "9      0.558824  0.382353\n",
       "10     0.500000  0.441176\n",
       "11     0.323529  0.617647\n",
       "12     0.411765  0.529412"
      ]
     },
     "execution_count": 158,
     "metadata": {},
     "output_type": "execute_result"
    }
   ],
   "source": [
    "pmc[[\"Positive\",\"Negative\"]]"
   ]
  },
  {
   "cell_type": "markdown",
   "metadata": {},
   "source": [
    "The results above means that for April (month=4), a price increase(=positive) is 70%(=0.705) where as probability for price decrease is 26%(=0.26)"
   ]
  },
  {
   "cell_type": "markdown",
   "metadata": {},
   "source": [
    "## More Monthly Graphics"
   ]
  },
  {
   "cell_type": "markdown",
   "metadata": {},
   "source": [
    "Now we can plot average montly prices for 2009-2019 and 1987-2019. "
   ]
  },
  {
   "cell_type": "code",
   "execution_count": 159,
   "metadata": {},
   "outputs": [
    {
     "data": {
      "image/png": "[encoded data removed]",
      "text/plain": [
       "<Figure size 432x288 with 1 Axes>"
      ]
     },
     "metadata": {
      "needs_background": "light"
     },
     "output_type": "display_data"
    }
   ],
   "source": [
    "plot(pm.loc[:,range(2009,2020)].mean(axis=1))\n",
    "plt.title('2009-2019 Averaged Monthly Prices')\n",
    "plt.xlabel(\"Months (0 = previous December)\")\n",
    "plt.ylabel(\"$/barrel\");"
   ]
  },
  {
   "cell_type": "code",
   "execution_count": 160,
   "metadata": {},
   "outputs": [
    {
     "data": {
      "image/png": "[encoded data removed]",
      "text/plain": [
       "<Figure size 432x288 with 1 Axes>"
      ]
     },
     "metadata": {
      "needs_background": "light"
     },
     "output_type": "display_data"
    }
   ],
   "source": [
    "plot(pm.loc[:,range(1987,2020)].mean(axis=1))\n",
    "plt.title('1987-2019 Averaged Monthly Prices')\n",
    "plt.xlabel(\"Months (0 = previous December)\")\n",
    "plt.ylabel(\"$/barrel\");"
   ]
  },
  {
   "cell_type": "markdown",
   "metadata": {},
   "source": [
    "## Day of the Week effect\n",
    "\n",
    "In oil prices, there may be Monday or Friday effects. \"Never short on Friday\" is a known saying among traders. We can test it\n",
    "\n",
    "First let's rearrange our data with pivot date, this time columns are **day of week**"
   ]
  },
  {
   "cell_type": "code",
   "execution_count": 161,
   "metadata": {},
   "outputs": [
    {
     "data": {
      "text/html": [
       "<div>\n",
       "<style scoped>\n",
       "    .dataframe tbody tr th:only-of-type {\n",
       "        vertical-align: middle;\n",
       "    }\n",
       "\n",
       "    .dataframe tbody tr th {\n",
       "        vertical-align: top;\n",
       "    }\n",
       "\n",
       "    .dataframe thead th {\n",
       "        text-align: right;\n",
       "    }\n",
       "</style>\n",
       "<table border=\"1\" class=\"dataframe\">\n",
       "  <thead>\n",
       "    <tr style=\"text-align: right;\">\n",
       "      <th></th>\n",
       "      <th>Date</th>\n",
       "      <th>Europe Brent Spot Price FOB (Dollars per Barrel)</th>\n",
       "      <th>Week_Number</th>\n",
       "      <th>Month</th>\n",
       "      <th>Year</th>\n",
       "      <th>DoW</th>\n",
       "    </tr>\n",
       "  </thead>\n",
       "  <tbody>\n",
       "    <tr>\n",
       "      <th>0</th>\n",
       "      <td>1987-05-20</td>\n",
       "      <td>18.63</td>\n",
       "      <td>21</td>\n",
       "      <td>5</td>\n",
       "      <td>1987</td>\n",
       "      <td>2</td>\n",
       "    </tr>\n",
       "    <tr>\n",
       "      <th>1</th>\n",
       "      <td>1987-05-21</td>\n",
       "      <td>18.45</td>\n",
       "      <td>21</td>\n",
       "      <td>5</td>\n",
       "      <td>1987</td>\n",
       "      <td>3</td>\n",
       "    </tr>\n",
       "    <tr>\n",
       "      <th>2</th>\n",
       "      <td>1987-05-22</td>\n",
       "      <td>18.55</td>\n",
       "      <td>21</td>\n",
       "      <td>5</td>\n",
       "      <td>1987</td>\n",
       "      <td>4</td>\n",
       "    </tr>\n",
       "  </tbody>\n",
       "</table>\n",
       "</div>"
      ],
      "text/plain": [
       "        Date  Europe Brent Spot Price FOB (Dollars per Barrel)  Week_Number  \\\n",
       "0 1987-05-20                                             18.63           21   \n",
       "1 1987-05-21                                             18.45           21   \n",
       "2 1987-05-22                                             18.55           21   \n",
       "\n",
       "   Month  Year  DoW  \n",
       "0      5  1987    2  \n",
       "1      5  1987    3  \n",
       "2      5  1987    4  "
      ]
     },
     "execution_count": 161,
     "metadata": {},
     "output_type": "execute_result"
    }
   ],
   "source": [
    "prices.head(3)"
   ]
  },
  {
   "cell_type": "markdown",
   "metadata": {},
   "source": [
    "We can add a percentage change column to the data"
   ]
  },
  {
   "cell_type": "code",
   "execution_count": 162,
   "metadata": {},
   "outputs": [
    {
     "data": {
      "text/html": [
       "<div>\n",
       "<style scoped>\n",
       "    .dataframe tbody tr th:only-of-type {\n",
       "        vertical-align: middle;\n",
       "    }\n",
       "\n",
       "    .dataframe tbody tr th {\n",
       "        vertical-align: top;\n",
       "    }\n",
       "\n",
       "    .dataframe thead th {\n",
       "        text-align: right;\n",
       "    }\n",
       "</style>\n",
       "<table border=\"1\" class=\"dataframe\">\n",
       "  <thead>\n",
       "    <tr style=\"text-align: right;\">\n",
       "      <th></th>\n",
       "      <th>Date</th>\n",
       "      <th>Europe Brent Spot Price FOB (Dollars per Barrel)</th>\n",
       "      <th>Week_Number</th>\n",
       "      <th>Month</th>\n",
       "      <th>Year</th>\n",
       "      <th>DoW</th>\n",
       "      <th>Percent</th>\n",
       "    </tr>\n",
       "  </thead>\n",
       "  <tbody>\n",
       "    <tr>\n",
       "      <th>0</th>\n",
       "      <td>1987-05-20</td>\n",
       "      <td>18.63</td>\n",
       "      <td>21</td>\n",
       "      <td>5</td>\n",
       "      <td>1987</td>\n",
       "      <td>2</td>\n",
       "      <td>NaN</td>\n",
       "    </tr>\n",
       "    <tr>\n",
       "      <th>1</th>\n",
       "      <td>1987-05-21</td>\n",
       "      <td>18.45</td>\n",
       "      <td>21</td>\n",
       "      <td>5</td>\n",
       "      <td>1987</td>\n",
       "      <td>3</td>\n",
       "      <td>-0.009662</td>\n",
       "    </tr>\n",
       "    <tr>\n",
       "      <th>2</th>\n",
       "      <td>1987-05-22</td>\n",
       "      <td>18.55</td>\n",
       "      <td>21</td>\n",
       "      <td>5</td>\n",
       "      <td>1987</td>\n",
       "      <td>4</td>\n",
       "      <td>0.005420</td>\n",
       "    </tr>\n",
       "  </tbody>\n",
       "</table>\n",
       "</div>"
      ],
      "text/plain": [
       "        Date  Europe Brent Spot Price FOB (Dollars per Barrel)  Week_Number  \\\n",
       "0 1987-05-20                                             18.63           21   \n",
       "1 1987-05-21                                             18.45           21   \n",
       "2 1987-05-22                                             18.55           21   \n",
       "\n",
       "   Month  Year  DoW   Percent  \n",
       "0      5  1987    2       NaN  \n",
       "1      5  1987    3 -0.009662  \n",
       "2      5  1987    4  0.005420  "
      ]
     },
     "execution_count": 162,
     "metadata": {},
     "output_type": "execute_result"
    }
   ],
   "source": [
    "prices[\"Percent\"]=prices[\"Europe Brent Spot Price FOB (Dollars per Barrel)\"].pct_change()\n",
    "prices.head(3)"
   ]
  },
  {
   "cell_type": "markdown",
   "metadata": {},
   "source": [
    "Now we can use pivot_table to arrange our data. This time index is Years and columns willbe Day of Week (0=Monday, 1=Tue ... , 4=Friday)"
   ]
  },
  {
   "cell_type": "code",
   "execution_count": 163,
   "metadata": {},
   "outputs": [
    {
     "data": {
      "text/html": [
       "<div>\n",
       "<style scoped>\n",
       "    .dataframe tbody tr th:only-of-type {\n",
       "        vertical-align: middle;\n",
       "    }\n",
       "\n",
       "    .dataframe tbody tr th {\n",
       "        vertical-align: top;\n",
       "    }\n",
       "\n",
       "    .dataframe thead th {\n",
       "        text-align: right;\n",
       "    }\n",
       "</style>\n",
       "<table border=\"1\" class=\"dataframe\">\n",
       "  <thead>\n",
       "    <tr style=\"text-align: right;\">\n",
       "      <th>DoW</th>\n",
       "      <th>0</th>\n",
       "      <th>1</th>\n",
       "      <th>2</th>\n",
       "      <th>3</th>\n",
       "      <th>4</th>\n",
       "    </tr>\n",
       "    <tr>\n",
       "      <th>Year</th>\n",
       "      <th></th>\n",
       "      <th></th>\n",
       "      <th></th>\n",
       "      <th></th>\n",
       "      <th></th>\n",
       "    </tr>\n",
       "  </thead>\n",
       "  <tbody>\n",
       "    <tr>\n",
       "      <th>2015</th>\n",
       "      <td>-0.009459</td>\n",
       "      <td>0.000115</td>\n",
       "      <td>0.001394</td>\n",
       "      <td>0.005044</td>\n",
       "      <td>-0.004126</td>\n",
       "    </tr>\n",
       "    <tr>\n",
       "      <th>2016</th>\n",
       "      <td>-0.000331</td>\n",
       "      <td>-0.004429</td>\n",
       "      <td>0.004347</td>\n",
       "      <td>0.006471</td>\n",
       "      <td>0.003784</td>\n",
       "    </tr>\n",
       "    <tr>\n",
       "      <th>2017</th>\n",
       "      <td>0.002077</td>\n",
       "      <td>-0.000406</td>\n",
       "      <td>0.001024</td>\n",
       "      <td>0.002055</td>\n",
       "      <td>-0.000297</td>\n",
       "    </tr>\n",
       "    <tr>\n",
       "      <th>2018</th>\n",
       "      <td>0.004332</td>\n",
       "      <td>-0.002389</td>\n",
       "      <td>-0.002304</td>\n",
       "      <td>-0.002070</td>\n",
       "      <td>-0.001775</td>\n",
       "    </tr>\n",
       "    <tr>\n",
       "      <th>2019</th>\n",
       "      <td>-0.000282</td>\n",
       "      <td>-0.001299</td>\n",
       "      <td>0.030197</td>\n",
       "      <td>0.002433</td>\n",
       "      <td>0.011694</td>\n",
       "    </tr>\n",
       "  </tbody>\n",
       "</table>\n",
       "</div>"
      ],
      "text/plain": [
       "DoW          0         1         2         3         4\n",
       "Year                                                  \n",
       "2015 -0.009459  0.000115  0.001394  0.005044 -0.004126\n",
       "2016 -0.000331 -0.004429  0.004347  0.006471  0.003784\n",
       "2017  0.002077 -0.000406  0.001024  0.002055 -0.000297\n",
       "2018  0.004332 -0.002389 -0.002304 -0.002070 -0.001775\n",
       "2019 -0.000282 -0.001299  0.030197  0.002433  0.011694"
      ]
     },
     "execution_count": 163,
     "metadata": {},
     "output_type": "execute_result"
    }
   ],
   "source": [
    "pday=prices.pivot_table( values='Percent', index=['Year'],columns=['DoW'], aggfunc=np.mean)\n",
    "\n",
    "# This time check the last 5 lines\n",
    "pday.tail (5)"
   ]
  },
  {
   "cell_type": "markdown",
   "metadata": {},
   "source": [
    "How many rows and columns are there in our new variable **pday** ?"
   ]
  },
  {
   "cell_type": "code",
   "execution_count": 164,
   "metadata": {},
   "outputs": [
    {
     "data": {
      "text/plain": [
       "(33, 5)"
      ]
     },
     "execution_count": 164,
     "metadata": {},
     "output_type": "execute_result"
    }
   ],
   "source": [
    "pday.shape"
   ]
  },
  {
   "cell_type": "markdown",
   "metadata": {},
   "source": [
    "We have yearly averages and we can count positive and negative values for each day"
   ]
  },
  {
   "cell_type": "code",
   "execution_count": 165,
   "metadata": {},
   "outputs": [
    {
     "data": {
      "text/plain": [
       "DoW\n",
       "0    14\n",
       "1    14\n",
       "2    18\n",
       "3    24\n",
       "4    19\n",
       "dtype: int64"
      ]
     },
     "execution_count": 165,
     "metadata": {},
     "output_type": "execute_result"
    }
   ],
   "source": [
    "pday[pday>0].count()"
   ]
  },
  {
   "cell_type": "markdown",
   "metadata": {},
   "source": [
    "To make sure, now number of negative percent changes"
   ]
  },
  {
   "cell_type": "code",
   "execution_count": 166,
   "metadata": {},
   "outputs": [
    {
     "data": {
      "text/plain": [
       "DoW\n",
       "0    19\n",
       "1    19\n",
       "2    15\n",
       "3     9\n",
       "4    14\n",
       "dtype: int64"
      ]
     },
     "execution_count": 166,
     "metadata": {},
     "output_type": "execute_result"
    }
   ],
   "source": [
    "pday[pday<0].count()"
   ]
  },
  {
   "cell_type": "markdown",
   "metadata": {},
   "source": [
    "And the the probability calculations are pretty straightforward. Divide the number by 33 or Number of rows"
   ]
  },
  {
   "cell_type": "code",
   "execution_count": 167,
   "metadata": {},
   "outputs": [
    {
     "data": {
      "text/plain": [
       "DoW\n",
       "0    0.424242\n",
       "1    0.424242\n",
       "2    0.545455\n",
       "3    0.727273\n",
       "4    0.575758\n",
       "dtype: float64"
      ]
     },
     "execution_count": 167,
     "metadata": {},
     "output_type": "execute_result"
    }
   ],
   "source": [
    "pday[pday>0].count()/pday.shape[0]"
   ]
  },
  {
   "cell_type": "markdown",
   "metadata": {},
   "source": [
    "The Day of The Week 3 has a probability of %72. That means Thursdays are most probably ends up with a positive oil price movement."
   ]
  },
  {
   "cell_type": "code",
   "execution_count": 168,
   "metadata": {},
   "outputs": [
    {
     "data": {
      "text/plain": [
       "DoW\n",
       "0    0.575758\n",
       "1    0.575758\n",
       "2    0.454545\n",
       "3    0.272727\n",
       "4    0.424242\n",
       "dtype: float64"
      ]
     },
     "execution_count": 168,
     "metadata": {},
     "output_type": "execute_result"
    }
   ],
   "source": [
    "pday[pday<0].count()/pday.shape[0]"
   ]
  },
  {
   "cell_type": "markdown",
   "metadata": {},
   "source": [
    "On the negative side, Monday and Tuesdays have a higher probability to be negative."
   ]
  },
  {
   "cell_type": "markdown",
   "metadata": {},
   "source": [
    "# Conclusion\n",
    "\n",
    "In this notebook, I tried to demonstrate basic filtering, grouping and plotting functions of Python.\n",
    "\n",
    "Oil prices are not predictable, but there may be trends hidden. Python makes it easier to work on these data sets\n",
    "\n",
    "### Baris Sanli, 8 Feb 2019,  barissanli2@gmail.com ,  www.barissanli.com"
   ]
  },
  {
   "cell_type": "code",
   "execution_count": null,
   "metadata": {},
   "outputs": [],
   "source": []
  }
 ],
 "metadata": {
  "kernelspec": {
   "display_name": "Python 3",
   "language": "python",
   "name": "python3"
  },
  "language_info": {
   "codemirror_mode": {
    "name": "ipython",
    "version": 3
   },
   "file_extension": ".py",
   "mimetype": "text/x-python",
   "name": "python",
   "nbconvert_exporter": "python",
   "pygments_lexer": "ipython3",
   "version": "3.7.2"
  }
 },
 "nbformat": 4,
 "nbformat_minor": 2
}
